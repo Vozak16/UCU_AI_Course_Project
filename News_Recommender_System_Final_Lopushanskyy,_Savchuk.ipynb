{
 "cells": [
  {
   "cell_type": "markdown",
   "metadata": {
    "id": "Zk-Hmh53Vjx9"
   },
   "source": [
    "# News Recommender System\n",
    "\n",
    "This a Google Colab for our project for the AI Course at UCU, 2021.\n",
    "\n",
    "**Authors**: Dmytro Lopushanskyy, Volodymyr Savchuk.\n",
    "\n",
    "The report for this project will be attached separately on CMS.\n",
    "\n",
    "Here is a list of materials that helped us create this project:\n",
    "\n",
    "* [MIND Data set](https://msnews.github.io/)\n",
    "* [Build Recommendation Engine](https://realpython.com/build-recommendation-engine-collaborative-filtering/)\n",
    "* [Recommender Systems in Python](https://www.kaggle.com/gspmoreira/recommender-systems-in-python-101#Recommender-Systems-in-Python-101)\n",
    "* [MIND Recommendation Notebook](https://www.kaggle.com/accountstatus/mind-microsoft-news-recommendation-v2/notebook#Text-Preprocessing)\n",
    "* [Evaluating Recommender Systems](http://fastml.com/evaluating-recommender-systems/)"
   ]
  },
  {
   "cell_type": "markdown",
   "metadata": {
    "id": "ha8qabqMmRZs"
   },
   "source": [
    "## Imports"
   ]
  },
  {
   "cell_type": "code",
   "execution_count": null,
   "metadata": {
    "id": "rQcv2w0LYyCm"
   },
   "outputs": [],
   "source": [
    "import numpy as np\n",
    "import scipy\n",
    "import pandas as pd\n",
    "import math\n",
    "import random\n",
    "import sklearn\n",
    "from nltk.corpus import stopwords\n",
    "from nltk.tokenize import word_tokenize \n",
    "from nltk.stem import WordNetLemmatizer \n",
    "from sklearn.feature_extraction.text import TfidfVectorizer\n",
    "from sklearn.metrics.pairwise import cosine_similarity\n",
    "from sklearn.model_selection import train_test_split\n",
    "import matplotlib.pyplot as plt\n",
    "import plotly.express as px\n",
    "from wordcloud import WordCloud\n",
    "import seaborn as sns\n",
    "\n",
    "import warnings\n",
    "warnings.filterwarnings('ignore')"
   ]
  },
  {
   "cell_type": "code",
   "execution_count": null,
   "metadata": {
    "colab": {
     "base_uri": "https://localhost:8080/"
    },
    "id": "D49BpZlqyiv-",
    "outputId": "31655f54-dba6-46be-917d-4a84a7ccd2e0"
   },
   "outputs": [
    {
     "name": "stdout",
     "output_type": "stream",
     "text": [
      "Mounted at /content/drive\n"
     ]
    }
   ],
   "source": [
    "from google.colab import drive\n",
    "drive.mount('/content/drive')"
   ]
  },
  {
   "cell_type": "code",
   "execution_count": null,
   "metadata": {
    "colab": {
     "base_uri": "https://localhost:8080/"
    },
    "id": "Zbt6l7pT0avn",
    "outputId": "c633628c-2d5e-4845-d598-44bac6d37714"
   },
   "outputs": [
    {
     "name": "stdout",
     "output_type": "stream",
     "text": [
      "[nltk_data] Downloading package punkt to /root/nltk_data...\n",
      "[nltk_data]   Unzipping tokenizers/punkt.zip.\n",
      "[nltk_data] Downloading package stopwords to /root/nltk_data...\n",
      "[nltk_data]   Unzipping corpora/stopwords.zip.\n",
      "[nltk_data] Downloading package wordnet to /root/nltk_data...\n",
      "[nltk_data]   Unzipping corpora/wordnet.zip.\n"
     ]
    },
    {
     "data": {
      "text/plain": [
       "True"
      ]
     },
     "execution_count": 4,
     "metadata": {},
     "output_type": "execute_result"
    }
   ],
   "source": [
    "import nltk\n",
    "nltk.download('punkt')\n",
    "nltk.download('stopwords')\n",
    "nltk.download('wordnet')"
   ]
  },
  {
   "cell_type": "markdown",
   "metadata": {
    "id": "IO-j_6lLmUjf"
   },
   "source": [
    "## Load The Data\n",
    "\n",
    "We are using MIND data set for our recommendation system. It contains two main files: behaviors and English news articles data."
   ]
  },
  {
   "cell_type": "code",
   "execution_count": null,
   "metadata": {
    "colab": {
     "base_uri": "https://localhost:8080/",
     "height": 206
    },
    "id": "ILk7ij5RZaDT",
    "outputId": "6a0d2e27-5c60-40e0-fc28-14a7d1626b7a"
   },
   "outputs": [
    {
     "data": {
      "text/html": [
       "\n",
       "  <div id=\"df-f9b00130-0b1c-4d48-977d-b64855167106\">\n",
       "    <div class=\"colab-df-container\">\n",
       "      <div>\n",
       "<style scoped>\n",
       "    .dataframe tbody tr th:only-of-type {\n",
       "        vertical-align: middle;\n",
       "    }\n",
       "\n",
       "    .dataframe tbody tr th {\n",
       "        vertical-align: top;\n",
       "    }\n",
       "\n",
       "    .dataframe thead th {\n",
       "        text-align: right;\n",
       "    }\n",
       "</style>\n",
       "<table border=\"1\" class=\"dataframe\">\n",
       "  <thead>\n",
       "    <tr style=\"text-align: right;\">\n",
       "      <th></th>\n",
       "      <th>ImpressionID</th>\n",
       "      <th>UserID</th>\n",
       "      <th>Time</th>\n",
       "      <th>History</th>\n",
       "      <th>Impressions</th>\n",
       "    </tr>\n",
       "  </thead>\n",
       "  <tbody>\n",
       "    <tr>\n",
       "      <th>0</th>\n",
       "      <td>1</td>\n",
       "      <td>U13740</td>\n",
       "      <td>11/11/2019 9:05:58 AM</td>\n",
       "      <td>N55189 N42782 N34694 N45794 N18445 N63302 N104...</td>\n",
       "      <td>N55689-1 N35729-0</td>\n",
       "    </tr>\n",
       "    <tr>\n",
       "      <th>1</th>\n",
       "      <td>2</td>\n",
       "      <td>U91836</td>\n",
       "      <td>11/12/2019 6:11:30 PM</td>\n",
       "      <td>N31739 N6072 N63045 N23979 N35656 N43353 N8129...</td>\n",
       "      <td>N20678-0 N39317-0 N58114-0 N20495-0 N42977-0 N...</td>\n",
       "    </tr>\n",
       "    <tr>\n",
       "      <th>2</th>\n",
       "      <td>3</td>\n",
       "      <td>U73700</td>\n",
       "      <td>11/14/2019 7:01:48 AM</td>\n",
       "      <td>N10732 N25792 N7563 N21087 N41087 N5445 N60384...</td>\n",
       "      <td>N50014-0 N23877-0 N35389-0 N49712-0 N16844-0 N...</td>\n",
       "    </tr>\n",
       "    <tr>\n",
       "      <th>3</th>\n",
       "      <td>4</td>\n",
       "      <td>U34670</td>\n",
       "      <td>11/11/2019 5:28:05 AM</td>\n",
       "      <td>N45729 N2203 N871 N53880 N41375 N43142 N33013 ...</td>\n",
       "      <td>N35729-0 N33632-0 N49685-1 N27581-0</td>\n",
       "    </tr>\n",
       "    <tr>\n",
       "      <th>4</th>\n",
       "      <td>5</td>\n",
       "      <td>U8125</td>\n",
       "      <td>11/12/2019 4:11:21 PM</td>\n",
       "      <td>N10078 N56514 N14904 N33740</td>\n",
       "      <td>N39985-0 N36050-0 N16096-0 N8400-1 N22407-0 N6...</td>\n",
       "    </tr>\n",
       "  </tbody>\n",
       "</table>\n",
       "</div>\n",
       "      <button class=\"colab-df-convert\" onclick=\"convertToInteractive('df-f9b00130-0b1c-4d48-977d-b64855167106')\"\n",
       "              title=\"Convert this dataframe to an interactive table.\"\n",
       "              style=\"display:none;\">\n",
       "        \n",
       "  <svg xmlns=\"http://www.w3.org/2000/svg\" height=\"24px\"viewBox=\"0 0 24 24\"\n",
       "       width=\"24px\">\n",
       "    <path d=\"M0 0h24v24H0V0z\" fill=\"none\"/>\n",
       "    <path d=\"M18.56 5.44l.94 2.06.94-2.06 2.06-.94-2.06-.94-.94-2.06-.94 2.06-2.06.94zm-11 1L8.5 8.5l.94-2.06 2.06-.94-2.06-.94L8.5 2.5l-.94 2.06-2.06.94zm10 10l.94 2.06.94-2.06 2.06-.94-2.06-.94-.94-2.06-.94 2.06-2.06.94z\"/><path d=\"M17.41 7.96l-1.37-1.37c-.4-.4-.92-.59-1.43-.59-.52 0-1.04.2-1.43.59L10.3 9.45l-7.72 7.72c-.78.78-.78 2.05 0 2.83L4 21.41c.39.39.9.59 1.41.59.51 0 1.02-.2 1.41-.59l7.78-7.78 2.81-2.81c.8-.78.8-2.07 0-2.86zM5.41 20L4 18.59l7.72-7.72 1.47 1.35L5.41 20z\"/>\n",
       "  </svg>\n",
       "      </button>\n",
       "      \n",
       "  <style>\n",
       "    .colab-df-container {\n",
       "      display:flex;\n",
       "      flex-wrap:wrap;\n",
       "      gap: 12px;\n",
       "    }\n",
       "\n",
       "    .colab-df-convert {\n",
       "      background-color: #E8F0FE;\n",
       "      border: none;\n",
       "      border-radius: 50%;\n",
       "      cursor: pointer;\n",
       "      display: none;\n",
       "      fill: #1967D2;\n",
       "      height: 32px;\n",
       "      padding: 0 0 0 0;\n",
       "      width: 32px;\n",
       "    }\n",
       "\n",
       "    .colab-df-convert:hover {\n",
       "      background-color: #E2EBFA;\n",
       "      box-shadow: 0px 1px 2px rgba(60, 64, 67, 0.3), 0px 1px 3px 1px rgba(60, 64, 67, 0.15);\n",
       "      fill: #174EA6;\n",
       "    }\n",
       "\n",
       "    [theme=dark] .colab-df-convert {\n",
       "      background-color: #3B4455;\n",
       "      fill: #D2E3FC;\n",
       "    }\n",
       "\n",
       "    [theme=dark] .colab-df-convert:hover {\n",
       "      background-color: #434B5C;\n",
       "      box-shadow: 0px 1px 3px 1px rgba(0, 0, 0, 0.15);\n",
       "      filter: drop-shadow(0px 1px 2px rgba(0, 0, 0, 0.3));\n",
       "      fill: #FFFFFF;\n",
       "    }\n",
       "  </style>\n",
       "\n",
       "      <script>\n",
       "        const buttonEl =\n",
       "          document.querySelector('#df-f9b00130-0b1c-4d48-977d-b64855167106 button.colab-df-convert');\n",
       "        buttonEl.style.display =\n",
       "          google.colab.kernel.accessAllowed ? 'block' : 'none';\n",
       "\n",
       "        async function convertToInteractive(key) {\n",
       "          const element = document.querySelector('#df-f9b00130-0b1c-4d48-977d-b64855167106');\n",
       "          const dataTable =\n",
       "            await google.colab.kernel.invokeFunction('convertToInteractive',\n",
       "                                                     [key], {});\n",
       "          if (!dataTable) return;\n",
       "\n",
       "          const docLinkHtml = 'Like what you see? Visit the ' +\n",
       "            '<a target=\"_blank\" href=https://colab.research.google.com/notebooks/data_table.ipynb>data table notebook</a>'\n",
       "            + ' to learn more about interactive tables.';\n",
       "          element.innerHTML = '';\n",
       "          dataTable['output_type'] = 'display_data';\n",
       "          await google.colab.output.renderOutput(dataTable, element);\n",
       "          const docLink = document.createElement('div');\n",
       "          docLink.innerHTML = docLinkHtml;\n",
       "          element.appendChild(docLink);\n",
       "        }\n",
       "      </script>\n",
       "    </div>\n",
       "  </div>\n",
       "  "
      ],
      "text/plain": [
       "   ImpressionID  ...                                        Impressions\n",
       "0             1  ...                                  N55689-1 N35729-0\n",
       "1             2  ...  N20678-0 N39317-0 N58114-0 N20495-0 N42977-0 N...\n",
       "2             3  ...  N50014-0 N23877-0 N35389-0 N49712-0 N16844-0 N...\n",
       "3             4  ...                N35729-0 N33632-0 N49685-1 N27581-0\n",
       "4             5  ...  N39985-0 N36050-0 N16096-0 N8400-1 N22407-0 N6...\n",
       "\n",
       "[5 rows x 5 columns]"
      ]
     },
     "execution_count": 5,
     "metadata": {},
     "output_type": "execute_result"
    }
   ],
   "source": [
    "behaviors_header = ['ImpressionID', 'UserID', 'Time', 'History', 'Impressions']\n",
    "behaviors_df = pd.read_csv('/content/drive/MyDrive/Data/behaviors.tsv', sep='\\t', names=behaviors_header)\n",
    "test_behaviors_df = pd.read_csv('/content/drive/MyDrive/Data/test_behaviors.tsv', sep='\\t', names=behaviors_header)\n",
    "\n",
    "news_header = ['NewsID', 'Category', 'SubCategory', 'Title', 'Abstract', 'URL', 'TitleEntities', 'AbstractEntities']\n",
    "articles_df = pd.read_csv('/content/drive/MyDrive/Data/news.tsv', sep='\\t', names=news_header)\n",
    "test_articles_df = pd.read_csv('/content/drive/MyDrive/Data/test_news.tsv', sep='\\t', names=news_header)\n",
    "\n",
    "# articles_df += test_articles_df\n",
    "\n",
    "behaviors_df.head(5)"
   ]
  },
  {
   "cell_type": "code",
   "execution_count": null,
   "metadata": {
    "colab": {
     "base_uri": "https://localhost:8080/",
     "height": 528
    },
    "id": "IGb0EMi1m8eV",
    "outputId": "2f2c4287-b3d5-47dc-88e6-c2302cdccaf9"
   },
   "outputs": [
    {
     "data": {
      "text/html": [
       "\n",
       "  <div id=\"df-82492493-4d6e-4b34-b2fc-9c1e75855984\">\n",
       "    <div class=\"colab-df-container\">\n",
       "      <div>\n",
       "<style scoped>\n",
       "    .dataframe tbody tr th:only-of-type {\n",
       "        vertical-align: middle;\n",
       "    }\n",
       "\n",
       "    .dataframe tbody tr th {\n",
       "        vertical-align: top;\n",
       "    }\n",
       "\n",
       "    .dataframe thead th {\n",
       "        text-align: right;\n",
       "    }\n",
       "</style>\n",
       "<table border=\"1\" class=\"dataframe\">\n",
       "  <thead>\n",
       "    <tr style=\"text-align: right;\">\n",
       "      <th></th>\n",
       "      <th>NewsID</th>\n",
       "      <th>Category</th>\n",
       "      <th>SubCategory</th>\n",
       "      <th>Title</th>\n",
       "      <th>Abstract</th>\n",
       "      <th>URL</th>\n",
       "      <th>TitleEntities</th>\n",
       "      <th>AbstractEntities</th>\n",
       "    </tr>\n",
       "  </thead>\n",
       "  <tbody>\n",
       "    <tr>\n",
       "      <th>0</th>\n",
       "      <td>N55528</td>\n",
       "      <td>lifestyle</td>\n",
       "      <td>lifestyleroyals</td>\n",
       "      <td>The Brands Queen Elizabeth, Prince Charles, an...</td>\n",
       "      <td>Shop the notebooks, jackets, and more that the...</td>\n",
       "      <td>https://assets.msn.com/labs/mind/AAGH0ET.html</td>\n",
       "      <td>[{\"Label\": \"Prince Philip, Duke of Edinburgh\",...</td>\n",
       "      <td>[]</td>\n",
       "    </tr>\n",
       "    <tr>\n",
       "      <th>1</th>\n",
       "      <td>N19639</td>\n",
       "      <td>health</td>\n",
       "      <td>weightloss</td>\n",
       "      <td>50 Worst Habits For Belly Fat</td>\n",
       "      <td>These seemingly harmless habits are holding yo...</td>\n",
       "      <td>https://assets.msn.com/labs/mind/AAB19MK.html</td>\n",
       "      <td>[{\"Label\": \"Adipose tissue\", \"Type\": \"C\", \"Wik...</td>\n",
       "      <td>[{\"Label\": \"Adipose tissue\", \"Type\": \"C\", \"Wik...</td>\n",
       "    </tr>\n",
       "    <tr>\n",
       "      <th>2</th>\n",
       "      <td>N61837</td>\n",
       "      <td>news</td>\n",
       "      <td>newsworld</td>\n",
       "      <td>The Cost of Trump's Aid Freeze in the Trenches...</td>\n",
       "      <td>Lt. Ivan Molchanets peeked over a parapet of s...</td>\n",
       "      <td>https://assets.msn.com/labs/mind/AAJgNsz.html</td>\n",
       "      <td>[]</td>\n",
       "      <td>[{\"Label\": \"Ukraine\", \"Type\": \"G\", \"WikidataId...</td>\n",
       "    </tr>\n",
       "    <tr>\n",
       "      <th>3</th>\n",
       "      <td>N53526</td>\n",
       "      <td>health</td>\n",
       "      <td>voices</td>\n",
       "      <td>I Was An NBA Wife. Here's How It Affected My M...</td>\n",
       "      <td>I felt like I was a fraud, and being an NBA wi...</td>\n",
       "      <td>https://assets.msn.com/labs/mind/AACk2N6.html</td>\n",
       "      <td>[]</td>\n",
       "      <td>[{\"Label\": \"National Basketball Association\", ...</td>\n",
       "    </tr>\n",
       "    <tr>\n",
       "      <th>4</th>\n",
       "      <td>N38324</td>\n",
       "      <td>health</td>\n",
       "      <td>medical</td>\n",
       "      <td>How to Get Rid of Skin Tags, According to a De...</td>\n",
       "      <td>They seem harmless, but there's a very good re...</td>\n",
       "      <td>https://assets.msn.com/labs/mind/AAAKEkt.html</td>\n",
       "      <td>[{\"Label\": \"Skin tag\", \"Type\": \"C\", \"WikidataI...</td>\n",
       "      <td>[{\"Label\": \"Skin tag\", \"Type\": \"C\", \"WikidataI...</td>\n",
       "    </tr>\n",
       "  </tbody>\n",
       "</table>\n",
       "</div>\n",
       "      <button class=\"colab-df-convert\" onclick=\"convertToInteractive('df-82492493-4d6e-4b34-b2fc-9c1e75855984')\"\n",
       "              title=\"Convert this dataframe to an interactive table.\"\n",
       "              style=\"display:none;\">\n",
       "        \n",
       "  <svg xmlns=\"http://www.w3.org/2000/svg\" height=\"24px\"viewBox=\"0 0 24 24\"\n",
       "       width=\"24px\">\n",
       "    <path d=\"M0 0h24v24H0V0z\" fill=\"none\"/>\n",
       "    <path d=\"M18.56 5.44l.94 2.06.94-2.06 2.06-.94-2.06-.94-.94-2.06-.94 2.06-2.06.94zm-11 1L8.5 8.5l.94-2.06 2.06-.94-2.06-.94L8.5 2.5l-.94 2.06-2.06.94zm10 10l.94 2.06.94-2.06 2.06-.94-2.06-.94-.94-2.06-.94 2.06-2.06.94z\"/><path d=\"M17.41 7.96l-1.37-1.37c-.4-.4-.92-.59-1.43-.59-.52 0-1.04.2-1.43.59L10.3 9.45l-7.72 7.72c-.78.78-.78 2.05 0 2.83L4 21.41c.39.39.9.59 1.41.59.51 0 1.02-.2 1.41-.59l7.78-7.78 2.81-2.81c.8-.78.8-2.07 0-2.86zM5.41 20L4 18.59l7.72-7.72 1.47 1.35L5.41 20z\"/>\n",
       "  </svg>\n",
       "      </button>\n",
       "      \n",
       "  <style>\n",
       "    .colab-df-container {\n",
       "      display:flex;\n",
       "      flex-wrap:wrap;\n",
       "      gap: 12px;\n",
       "    }\n",
       "\n",
       "    .colab-df-convert {\n",
       "      background-color: #E8F0FE;\n",
       "      border: none;\n",
       "      border-radius: 50%;\n",
       "      cursor: pointer;\n",
       "      display: none;\n",
       "      fill: #1967D2;\n",
       "      height: 32px;\n",
       "      padding: 0 0 0 0;\n",
       "      width: 32px;\n",
       "    }\n",
       "\n",
       "    .colab-df-convert:hover {\n",
       "      background-color: #E2EBFA;\n",
       "      box-shadow: 0px 1px 2px rgba(60, 64, 67, 0.3), 0px 1px 3px 1px rgba(60, 64, 67, 0.15);\n",
       "      fill: #174EA6;\n",
       "    }\n",
       "\n",
       "    [theme=dark] .colab-df-convert {\n",
       "      background-color: #3B4455;\n",
       "      fill: #D2E3FC;\n",
       "    }\n",
       "\n",
       "    [theme=dark] .colab-df-convert:hover {\n",
       "      background-color: #434B5C;\n",
       "      box-shadow: 0px 1px 3px 1px rgba(0, 0, 0, 0.15);\n",
       "      filter: drop-shadow(0px 1px 2px rgba(0, 0, 0, 0.3));\n",
       "      fill: #FFFFFF;\n",
       "    }\n",
       "  </style>\n",
       "\n",
       "      <script>\n",
       "        const buttonEl =\n",
       "          document.querySelector('#df-82492493-4d6e-4b34-b2fc-9c1e75855984 button.colab-df-convert');\n",
       "        buttonEl.style.display =\n",
       "          google.colab.kernel.accessAllowed ? 'block' : 'none';\n",
       "\n",
       "        async function convertToInteractive(key) {\n",
       "          const element = document.querySelector('#df-82492493-4d6e-4b34-b2fc-9c1e75855984');\n",
       "          const dataTable =\n",
       "            await google.colab.kernel.invokeFunction('convertToInteractive',\n",
       "                                                     [key], {});\n",
       "          if (!dataTable) return;\n",
       "\n",
       "          const docLinkHtml = 'Like what you see? Visit the ' +\n",
       "            '<a target=\"_blank\" href=https://colab.research.google.com/notebooks/data_table.ipynb>data table notebook</a>'\n",
       "            + ' to learn more about interactive tables.';\n",
       "          element.innerHTML = '';\n",
       "          dataTable['output_type'] = 'display_data';\n",
       "          await google.colab.output.renderOutput(dataTable, element);\n",
       "          const docLink = document.createElement('div');\n",
       "          docLink.innerHTML = docLinkHtml;\n",
       "          element.appendChild(docLink);\n",
       "        }\n",
       "      </script>\n",
       "    </div>\n",
       "  </div>\n",
       "  "
      ],
      "text/plain": [
       "   NewsID  ...                                   AbstractEntities\n",
       "0  N55528  ...                                                 []\n",
       "1  N19639  ...  [{\"Label\": \"Adipose tissue\", \"Type\": \"C\", \"Wik...\n",
       "2  N61837  ...  [{\"Label\": \"Ukraine\", \"Type\": \"G\", \"WikidataId...\n",
       "3  N53526  ...  [{\"Label\": \"National Basketball Association\", ...\n",
       "4  N38324  ...  [{\"Label\": \"Skin tag\", \"Type\": \"C\", \"WikidataI...\n",
       "\n",
       "[5 rows x 8 columns]"
      ]
     },
     "execution_count": 6,
     "metadata": {},
     "output_type": "execute_result"
    }
   ],
   "source": [
    "articles_df.head()"
   ]
  },
  {
   "cell_type": "markdown",
   "metadata": {
    "id": "YDTTLoMBvNkM"
   },
   "source": [
    "Filter from NA values and from users who have a small click history (less than 5)"
   ]
  },
  {
   "cell_type": "code",
   "execution_count": null,
   "metadata": {
    "colab": {
     "base_uri": "https://localhost:8080/",
     "height": 35
    },
    "id": "E-a3mmx6pfSM",
    "outputId": "7617264f-e6d0-42db-e2e9-5ec1a3b7a71b"
   },
   "outputs": [
    {
     "data": {
      "application/vnd.google.colaboratory.intrinsic+json": {
       "type": "string"
      },
      "text/plain": [
       "'Number of rows before: 156965. After: 130019'"
      ]
     },
     "execution_count": 7,
     "metadata": {},
     "output_type": "execute_result"
    }
   ],
   "source": [
    "filtered_behaviors = behaviors_df[behaviors_df.History.str.split().str.len() > 5]\n",
    "\n",
    "f\"Number of rows before: {behaviors_df.shape[0]}. After: {filtered_behaviors.shape[0]}\"\n"
   ]
  },
  {
   "cell_type": "code",
   "execution_count": null,
   "metadata": {
    "colab": {
     "base_uri": "https://localhost:8080/",
     "height": 35
    },
    "id": "_Mqys55Xwq_j",
    "outputId": "f3830172-92df-4041-ace0-2f3eb5fac619"
   },
   "outputs": [
    {
     "data": {
      "application/vnd.google.colaboratory.intrinsic+json": {
       "type": "string"
      },
      "text/plain": [
       "'Number of rows before: 51282. After: 47661'"
      ]
     },
     "execution_count": 8,
     "metadata": {},
     "output_type": "execute_result"
    }
   ],
   "source": [
    "# Drop articles with duplicate titles\n",
    "filtered_articles = articles_df.drop_duplicates(subset=['Title'])\n",
    "\n",
    "# Drop articles with empty Abstract\n",
    "filtered_articles = filtered_articles[filtered_articles.Abstract.notna()]\n",
    "\n",
    "# Drop articles with titles less than 4 words\n",
    "filtered_articles = filtered_articles[filtered_articles['Title'].apply((lambda x: len(x.split())>=4))]\n",
    "\n",
    "f\"Number of rows before: {articles_df.shape[0]}. After: {filtered_articles.shape[0]}\"\n"
   ]
  },
  {
   "cell_type": "code",
   "execution_count": null,
   "metadata": {
    "colab": {
     "base_uri": "https://localhost:8080/",
     "height": 528
    },
    "id": "yzTRWJq00L9D",
    "outputId": "48869c40-1495-4d85-d21c-082d3d784abb"
   },
   "outputs": [
    {
     "data": {
      "text/html": [
       "\n",
       "  <div id=\"df-8bb2da67-f742-4261-ab8e-28649d74d152\">\n",
       "    <div class=\"colab-df-container\">\n",
       "      <div>\n",
       "<style scoped>\n",
       "    .dataframe tbody tr th:only-of-type {\n",
       "        vertical-align: middle;\n",
       "    }\n",
       "\n",
       "    .dataframe tbody tr th {\n",
       "        vertical-align: top;\n",
       "    }\n",
       "\n",
       "    .dataframe thead th {\n",
       "        text-align: right;\n",
       "    }\n",
       "</style>\n",
       "<table border=\"1\" class=\"dataframe\">\n",
       "  <thead>\n",
       "    <tr style=\"text-align: right;\">\n",
       "      <th></th>\n",
       "      <th>NewsID</th>\n",
       "      <th>Category</th>\n",
       "      <th>SubCategory</th>\n",
       "      <th>Title</th>\n",
       "      <th>Abstract</th>\n",
       "      <th>URL</th>\n",
       "      <th>TitleEntities</th>\n",
       "      <th>AbstractEntities</th>\n",
       "    </tr>\n",
       "  </thead>\n",
       "  <tbody>\n",
       "    <tr>\n",
       "      <th>0</th>\n",
       "      <td>N55528</td>\n",
       "      <td>lifestyle</td>\n",
       "      <td>lifestyleroyals</td>\n",
       "      <td>The Brands Queen Elizabeth, Prince Charles, an...</td>\n",
       "      <td>Shop the notebooks, jackets, and more that the...</td>\n",
       "      <td>https://assets.msn.com/labs/mind/AAGH0ET.html</td>\n",
       "      <td>[{\"Label\": \"Prince Philip, Duke of Edinburgh\",...</td>\n",
       "      <td>[]</td>\n",
       "    </tr>\n",
       "    <tr>\n",
       "      <th>1</th>\n",
       "      <td>N19639</td>\n",
       "      <td>health</td>\n",
       "      <td>weightloss</td>\n",
       "      <td>50 Worst Habits For Belly Fat</td>\n",
       "      <td>These seemingly harmless habits are holding yo...</td>\n",
       "      <td>https://assets.msn.com/labs/mind/AAB19MK.html</td>\n",
       "      <td>[{\"Label\": \"Adipose tissue\", \"Type\": \"C\", \"Wik...</td>\n",
       "      <td>[{\"Label\": \"Adipose tissue\", \"Type\": \"C\", \"Wik...</td>\n",
       "    </tr>\n",
       "    <tr>\n",
       "      <th>2</th>\n",
       "      <td>N61837</td>\n",
       "      <td>news</td>\n",
       "      <td>newsworld</td>\n",
       "      <td>The Cost of Trump's Aid Freeze in the Trenches...</td>\n",
       "      <td>Lt. Ivan Molchanets peeked over a parapet of s...</td>\n",
       "      <td>https://assets.msn.com/labs/mind/AAJgNsz.html</td>\n",
       "      <td>[]</td>\n",
       "      <td>[{\"Label\": \"Ukraine\", \"Type\": \"G\", \"WikidataId...</td>\n",
       "    </tr>\n",
       "    <tr>\n",
       "      <th>3</th>\n",
       "      <td>N53526</td>\n",
       "      <td>health</td>\n",
       "      <td>voices</td>\n",
       "      <td>I Was An NBA Wife. Here's How It Affected My M...</td>\n",
       "      <td>I felt like I was a fraud, and being an NBA wi...</td>\n",
       "      <td>https://assets.msn.com/labs/mind/AACk2N6.html</td>\n",
       "      <td>[]</td>\n",
       "      <td>[{\"Label\": \"National Basketball Association\", ...</td>\n",
       "    </tr>\n",
       "    <tr>\n",
       "      <th>4</th>\n",
       "      <td>N38324</td>\n",
       "      <td>health</td>\n",
       "      <td>medical</td>\n",
       "      <td>How to Get Rid of Skin Tags, According to a De...</td>\n",
       "      <td>They seem harmless, but there's a very good re...</td>\n",
       "      <td>https://assets.msn.com/labs/mind/AAAKEkt.html</td>\n",
       "      <td>[{\"Label\": \"Skin tag\", \"Type\": \"C\", \"WikidataI...</td>\n",
       "      <td>[{\"Label\": \"Skin tag\", \"Type\": \"C\", \"WikidataI...</td>\n",
       "    </tr>\n",
       "  </tbody>\n",
       "</table>\n",
       "</div>\n",
       "      <button class=\"colab-df-convert\" onclick=\"convertToInteractive('df-8bb2da67-f742-4261-ab8e-28649d74d152')\"\n",
       "              title=\"Convert this dataframe to an interactive table.\"\n",
       "              style=\"display:none;\">\n",
       "        \n",
       "  <svg xmlns=\"http://www.w3.org/2000/svg\" height=\"24px\"viewBox=\"0 0 24 24\"\n",
       "       width=\"24px\">\n",
       "    <path d=\"M0 0h24v24H0V0z\" fill=\"none\"/>\n",
       "    <path d=\"M18.56 5.44l.94 2.06.94-2.06 2.06-.94-2.06-.94-.94-2.06-.94 2.06-2.06.94zm-11 1L8.5 8.5l.94-2.06 2.06-.94-2.06-.94L8.5 2.5l-.94 2.06-2.06.94zm10 10l.94 2.06.94-2.06 2.06-.94-2.06-.94-.94-2.06-.94 2.06-2.06.94z\"/><path d=\"M17.41 7.96l-1.37-1.37c-.4-.4-.92-.59-1.43-.59-.52 0-1.04.2-1.43.59L10.3 9.45l-7.72 7.72c-.78.78-.78 2.05 0 2.83L4 21.41c.39.39.9.59 1.41.59.51 0 1.02-.2 1.41-.59l7.78-7.78 2.81-2.81c.8-.78.8-2.07 0-2.86zM5.41 20L4 18.59l7.72-7.72 1.47 1.35L5.41 20z\"/>\n",
       "  </svg>\n",
       "      </button>\n",
       "      \n",
       "  <style>\n",
       "    .colab-df-container {\n",
       "      display:flex;\n",
       "      flex-wrap:wrap;\n",
       "      gap: 12px;\n",
       "    }\n",
       "\n",
       "    .colab-df-convert {\n",
       "      background-color: #E8F0FE;\n",
       "      border: none;\n",
       "      border-radius: 50%;\n",
       "      cursor: pointer;\n",
       "      display: none;\n",
       "      fill: #1967D2;\n",
       "      height: 32px;\n",
       "      padding: 0 0 0 0;\n",
       "      width: 32px;\n",
       "    }\n",
       "\n",
       "    .colab-df-convert:hover {\n",
       "      background-color: #E2EBFA;\n",
       "      box-shadow: 0px 1px 2px rgba(60, 64, 67, 0.3), 0px 1px 3px 1px rgba(60, 64, 67, 0.15);\n",
       "      fill: #174EA6;\n",
       "    }\n",
       "\n",
       "    [theme=dark] .colab-df-convert {\n",
       "      background-color: #3B4455;\n",
       "      fill: #D2E3FC;\n",
       "    }\n",
       "\n",
       "    [theme=dark] .colab-df-convert:hover {\n",
       "      background-color: #434B5C;\n",
       "      box-shadow: 0px 1px 3px 1px rgba(0, 0, 0, 0.15);\n",
       "      filter: drop-shadow(0px 1px 2px rgba(0, 0, 0, 0.3));\n",
       "      fill: #FFFFFF;\n",
       "    }\n",
       "  </style>\n",
       "\n",
       "      <script>\n",
       "        const buttonEl =\n",
       "          document.querySelector('#df-8bb2da67-f742-4261-ab8e-28649d74d152 button.colab-df-convert');\n",
       "        buttonEl.style.display =\n",
       "          google.colab.kernel.accessAllowed ? 'block' : 'none';\n",
       "\n",
       "        async function convertToInteractive(key) {\n",
       "          const element = document.querySelector('#df-8bb2da67-f742-4261-ab8e-28649d74d152');\n",
       "          const dataTable =\n",
       "            await google.colab.kernel.invokeFunction('convertToInteractive',\n",
       "                                                     [key], {});\n",
       "          if (!dataTable) return;\n",
       "\n",
       "          const docLinkHtml = 'Like what you see? Visit the ' +\n",
       "            '<a target=\"_blank\" href=https://colab.research.google.com/notebooks/data_table.ipynb>data table notebook</a>'\n",
       "            + ' to learn more about interactive tables.';\n",
       "          element.innerHTML = '';\n",
       "          dataTable['output_type'] = 'display_data';\n",
       "          await google.colab.output.renderOutput(dataTable, element);\n",
       "          const docLink = document.createElement('div');\n",
       "          docLink.innerHTML = docLinkHtml;\n",
       "          element.appendChild(docLink);\n",
       "        }\n",
       "      </script>\n",
       "    </div>\n",
       "  </div>\n",
       "  "
      ],
      "text/plain": [
       "   NewsID  ...                                   AbstractEntities\n",
       "0  N55528  ...                                                 []\n",
       "1  N19639  ...  [{\"Label\": \"Adipose tissue\", \"Type\": \"C\", \"Wik...\n",
       "2  N61837  ...  [{\"Label\": \"Ukraine\", \"Type\": \"G\", \"WikidataId...\n",
       "3  N53526  ...  [{\"Label\": \"National Basketball Association\", ...\n",
       "4  N38324  ...  [{\"Label\": \"Skin tag\", \"Type\": \"C\", \"WikidataI...\n",
       "\n",
       "[5 rows x 8 columns]"
      ]
     },
     "execution_count": 9,
     "metadata": {},
     "output_type": "execute_result"
    }
   ],
   "source": [
    "filtered_articles.head()"
   ]
  },
  {
   "cell_type": "markdown",
   "metadata": {
    "id": "3cQ3XHG65bne"
   },
   "source": [
    "## Exploratory Data Analysis"
   ]
  },
  {
   "cell_type": "code",
   "execution_count": null,
   "metadata": {
    "colab": {
     "base_uri": "https://localhost:8080/",
     "height": 206
    },
    "id": "1gHpn8ydAHTU",
    "outputId": "ab07aeac-724f-4fa3-d41d-7cde5639cde1"
   },
   "outputs": [
    {
     "data": {
      "text/html": [
       "\n",
       "  <div id=\"df-0c4298ac-cd7e-45ff-bf30-2a87d0743f49\">\n",
       "    <div class=\"colab-df-container\">\n",
       "      <div>\n",
       "<style scoped>\n",
       "    .dataframe tbody tr th:only-of-type {\n",
       "        vertical-align: middle;\n",
       "    }\n",
       "\n",
       "    .dataframe tbody tr th {\n",
       "        vertical-align: top;\n",
       "    }\n",
       "\n",
       "    .dataframe thead th {\n",
       "        text-align: right;\n",
       "    }\n",
       "</style>\n",
       "<table border=\"1\" class=\"dataframe\">\n",
       "  <thead>\n",
       "    <tr style=\"text-align: right;\">\n",
       "      <th></th>\n",
       "      <th>NewsID</th>\n",
       "      <th>Category</th>\n",
       "      <th>SubCategory</th>\n",
       "      <th>Title</th>\n",
       "      <th>Abstract</th>\n",
       "    </tr>\n",
       "  </thead>\n",
       "  <tbody>\n",
       "    <tr>\n",
       "      <th>0</th>\n",
       "      <td>N55528</td>\n",
       "      <td>lifestyle</td>\n",
       "      <td>lifestyleroyals</td>\n",
       "      <td>The Brands Queen Elizabeth, Prince Charles, an...</td>\n",
       "      <td>Shop the notebooks, jackets, and more that the...</td>\n",
       "    </tr>\n",
       "    <tr>\n",
       "      <th>1</th>\n",
       "      <td>N19639</td>\n",
       "      <td>health</td>\n",
       "      <td>weightloss</td>\n",
       "      <td>50 Worst Habits For Belly Fat</td>\n",
       "      <td>These seemingly harmless habits are holding yo...</td>\n",
       "    </tr>\n",
       "    <tr>\n",
       "      <th>2</th>\n",
       "      <td>N61837</td>\n",
       "      <td>news</td>\n",
       "      <td>newsworld</td>\n",
       "      <td>The Cost of Trump's Aid Freeze in the Trenches...</td>\n",
       "      <td>Lt. Ivan Molchanets peeked over a parapet of s...</td>\n",
       "    </tr>\n",
       "    <tr>\n",
       "      <th>3</th>\n",
       "      <td>N53526</td>\n",
       "      <td>health</td>\n",
       "      <td>voices</td>\n",
       "      <td>I Was An NBA Wife. Here's How It Affected My M...</td>\n",
       "      <td>I felt like I was a fraud, and being an NBA wi...</td>\n",
       "    </tr>\n",
       "    <tr>\n",
       "      <th>4</th>\n",
       "      <td>N38324</td>\n",
       "      <td>health</td>\n",
       "      <td>medical</td>\n",
       "      <td>How to Get Rid of Skin Tags, According to a De...</td>\n",
       "      <td>They seem harmless, but there's a very good re...</td>\n",
       "    </tr>\n",
       "  </tbody>\n",
       "</table>\n",
       "</div>\n",
       "      <button class=\"colab-df-convert\" onclick=\"convertToInteractive('df-0c4298ac-cd7e-45ff-bf30-2a87d0743f49')\"\n",
       "              title=\"Convert this dataframe to an interactive table.\"\n",
       "              style=\"display:none;\">\n",
       "        \n",
       "  <svg xmlns=\"http://www.w3.org/2000/svg\" height=\"24px\"viewBox=\"0 0 24 24\"\n",
       "       width=\"24px\">\n",
       "    <path d=\"M0 0h24v24H0V0z\" fill=\"none\"/>\n",
       "    <path d=\"M18.56 5.44l.94 2.06.94-2.06 2.06-.94-2.06-.94-.94-2.06-.94 2.06-2.06.94zm-11 1L8.5 8.5l.94-2.06 2.06-.94-2.06-.94L8.5 2.5l-.94 2.06-2.06.94zm10 10l.94 2.06.94-2.06 2.06-.94-2.06-.94-.94-2.06-.94 2.06-2.06.94z\"/><path d=\"M17.41 7.96l-1.37-1.37c-.4-.4-.92-.59-1.43-.59-.52 0-1.04.2-1.43.59L10.3 9.45l-7.72 7.72c-.78.78-.78 2.05 0 2.83L4 21.41c.39.39.9.59 1.41.59.51 0 1.02-.2 1.41-.59l7.78-7.78 2.81-2.81c.8-.78.8-2.07 0-2.86zM5.41 20L4 18.59l7.72-7.72 1.47 1.35L5.41 20z\"/>\n",
       "  </svg>\n",
       "      </button>\n",
       "      \n",
       "  <style>\n",
       "    .colab-df-container {\n",
       "      display:flex;\n",
       "      flex-wrap:wrap;\n",
       "      gap: 12px;\n",
       "    }\n",
       "\n",
       "    .colab-df-convert {\n",
       "      background-color: #E8F0FE;\n",
       "      border: none;\n",
       "      border-radius: 50%;\n",
       "      cursor: pointer;\n",
       "      display: none;\n",
       "      fill: #1967D2;\n",
       "      height: 32px;\n",
       "      padding: 0 0 0 0;\n",
       "      width: 32px;\n",
       "    }\n",
       "\n",
       "    .colab-df-convert:hover {\n",
       "      background-color: #E2EBFA;\n",
       "      box-shadow: 0px 1px 2px rgba(60, 64, 67, 0.3), 0px 1px 3px 1px rgba(60, 64, 67, 0.15);\n",
       "      fill: #174EA6;\n",
       "    }\n",
       "\n",
       "    [theme=dark] .colab-df-convert {\n",
       "      background-color: #3B4455;\n",
       "      fill: #D2E3FC;\n",
       "    }\n",
       "\n",
       "    [theme=dark] .colab-df-convert:hover {\n",
       "      background-color: #434B5C;\n",
       "      box-shadow: 0px 1px 3px 1px rgba(0, 0, 0, 0.15);\n",
       "      filter: drop-shadow(0px 1px 2px rgba(0, 0, 0, 0.3));\n",
       "      fill: #FFFFFF;\n",
       "    }\n",
       "  </style>\n",
       "\n",
       "      <script>\n",
       "        const buttonEl =\n",
       "          document.querySelector('#df-0c4298ac-cd7e-45ff-bf30-2a87d0743f49 button.colab-df-convert');\n",
       "        buttonEl.style.display =\n",
       "          google.colab.kernel.accessAllowed ? 'block' : 'none';\n",
       "\n",
       "        async function convertToInteractive(key) {\n",
       "          const element = document.querySelector('#df-0c4298ac-cd7e-45ff-bf30-2a87d0743f49');\n",
       "          const dataTable =\n",
       "            await google.colab.kernel.invokeFunction('convertToInteractive',\n",
       "                                                     [key], {});\n",
       "          if (!dataTable) return;\n",
       "\n",
       "          const docLinkHtml = 'Like what you see? Visit the ' +\n",
       "            '<a target=\"_blank\" href=https://colab.research.google.com/notebooks/data_table.ipynb>data table notebook</a>'\n",
       "            + ' to learn more about interactive tables.';\n",
       "          element.innerHTML = '';\n",
       "          dataTable['output_type'] = 'display_data';\n",
       "          await google.colab.output.renderOutput(dataTable, element);\n",
       "          const docLink = document.createElement('div');\n",
       "          docLink.innerHTML = docLinkHtml;\n",
       "          element.appendChild(docLink);\n",
       "        }\n",
       "      </script>\n",
       "    </div>\n",
       "  </div>\n",
       "  "
      ],
      "text/plain": [
       "   NewsID  ...                                           Abstract\n",
       "0  N55528  ...  Shop the notebooks, jackets, and more that the...\n",
       "1  N19639  ...  These seemingly harmless habits are holding yo...\n",
       "2  N61837  ...  Lt. Ivan Molchanets peeked over a parapet of s...\n",
       "3  N53526  ...  I felt like I was a fraud, and being an NBA wi...\n",
       "4  N38324  ...  They seem harmless, but there's a very good re...\n",
       "\n",
       "[5 rows x 5 columns]"
      ]
     },
     "execution_count": 10,
     "metadata": {},
     "output_type": "execute_result"
    }
   ],
   "source": [
    "filtered_articles = filtered_articles.iloc[:,:5]\n",
    "filtered_articles.head()"
   ]
  },
  {
   "cell_type": "code",
   "execution_count": null,
   "metadata": {
    "id": "1VGiM1mkB4si"
   },
   "outputs": [],
   "source": [
    "behaviors_df_expanded = behaviors_df.copy()"
   ]
  },
  {
   "cell_type": "code",
   "execution_count": null,
   "metadata": {
    "id": "tjz8KWFMB8QQ"
   },
   "outputs": [],
   "source": [
    "behaviors_df_expanded['Number of Articles interacted'] = behaviors_df['History'].str.split(' ').str.len()\n",
    "behaviors_df_expanded['Number of Articles showed'] = behaviors_df['Impressions'].str.split(' ').str.len()"
   ]
  },
  {
   "cell_type": "markdown",
   "metadata": {
    "id": "hBP_orpTCE89"
   },
   "source": [
    "### Distributions"
   ]
  },
  {
   "cell_type": "code",
   "execution_count": null,
   "metadata": {
    "colab": {
     "base_uri": "https://localhost:8080/"
    },
    "id": "sUYsLkktCG7c",
    "outputId": "274b9062-38a2-406e-d40e-7b8f458aaed1"
   },
   "outputs": [
    {
     "data": {
      "text/plain": [
       "count    153727.000000\n",
       "mean         33.225387\n",
       "std          40.408679\n",
       "min           1.000000\n",
       "25%           8.000000\n",
       "50%          20.000000\n",
       "75%          43.000000\n",
       "max         558.000000\n",
       "Name: Number of Articles interacted, dtype: float64"
      ]
     },
     "execution_count": 13,
     "metadata": {},
     "output_type": "execute_result"
    }
   ],
   "source": [
    "num_of_articles = behaviors_df_expanded['Number of Articles interacted']\n",
    "num_of_articles.describe()"
   ]
  },
  {
   "cell_type": "code",
   "execution_count": null,
   "metadata": {
    "colab": {
     "base_uri": "https://localhost:8080/",
     "height": 458
    },
    "id": "LUo22rY0CI43",
    "outputId": "018469d4-17da-47b6-e30c-e2c37ea0b2e4"
   },
   "outputs": [
    {
     "data": {
      "image/png": "[encoded data removed]",
      "text/plain": [
       "<Figure size 864x504 with 1 Axes>"
      ]
     },
     "metadata": {
      "needs_background": "light"
     },
     "output_type": "display_data"
    }
   ],
   "source": [
    "fig = plt.figure(figsize=(12, 7))\n",
    "sns.histplot(num_of_articles, bins=40)\n",
    "plt.title(\"Distribution of Articles interacted\")\n",
    "plt.show()"
   ]
  },
  {
   "cell_type": "code",
   "execution_count": null,
   "metadata": {
    "colab": {
     "base_uri": "https://localhost:8080/"
    },
    "id": "a_Mmf6yOCKmi",
    "outputId": "1fb0def3-0612-4426-a617-b1ab92e753af"
   },
   "outputs": [
    {
     "data": {
      "text/plain": [
       "count    156965.000000\n",
       "mean         37.227688\n",
       "std          38.594148\n",
       "min           2.000000\n",
       "25%          10.000000\n",
       "50%          24.000000\n",
       "75%          51.000000\n",
       "max         299.000000\n",
       "Name: Number of Articles showed, dtype: float64"
      ]
     },
     "execution_count": 15,
     "metadata": {},
     "output_type": "execute_result"
    }
   ],
   "source": [
    "num_of_articles = behaviors_df_expanded['Number of Articles showed']\n",
    "num_of_articles.describe()"
   ]
  },
  {
   "cell_type": "code",
   "execution_count": null,
   "metadata": {
    "colab": {
     "base_uri": "https://localhost:8080/",
     "height": 458
    },
    "id": "CzOhqCMpCMFj",
    "outputId": "0cb2a429-fd46-4f93-e642-150a20d62331"
   },
   "outputs": [
    {
     "data": {
      "image/png": "[encoded data removed]",
      "text/plain": [
       "<Figure size 864x504 with 1 Axes>"
      ]
     },
     "metadata": {
      "needs_background": "light"
     },
     "output_type": "display_data"
    }
   ],
   "source": [
    "fig = plt.figure(figsize=(12, 7))\n",
    "sns.histplot(num_of_articles, bins=40)\n",
    "plt.title(\"Distribution of Articles showed\")\n",
    "plt.show()"
   ]
  },
  {
   "cell_type": "markdown",
   "metadata": {
    "id": "dbqs6rBHHFpZ"
   },
   "source": [
    "### Category distribution"
   ]
  },
  {
   "cell_type": "code",
   "execution_count": null,
   "metadata": {
    "id": "NCCuZ6FCHH3t"
   },
   "outputs": [],
   "source": [
    "c = filtered_articles[['Category','SubCategory']].value_counts()"
   ]
  },
  {
   "cell_type": "code",
   "execution_count": null,
   "metadata": {
    "id": "yfxIWC8aHIrI"
   },
   "outputs": [],
   "source": [
    "index=[]\n",
    "for i in c.index:\n",
    "    index.append(np.array(i))\n",
    "index=np.array(index)"
   ]
  },
  {
   "cell_type": "code",
   "execution_count": null,
   "metadata": {
    "id": "9XrWrhn5HKPq"
   },
   "outputs": [],
   "source": [
    "df=pd.DataFrame(columns=['Category','Sub Category','Values'])\n",
    "df['Category']=index[:,0]\n",
    "df['Sub Category']=index[:,1]\n",
    "df['Values']=c.values"
   ]
  },
  {
   "cell_type": "code",
   "execution_count": null,
   "metadata": {
    "colab": {
     "base_uri": "https://localhost:8080/",
     "height": 542
    },
    "id": "_SVwEWrwHLhL",
    "outputId": "fc2e042d-b620-4ec3-89b0-27f347a11eb9"
   },
   "outputs": [
    {
     "data": {
      "text/html": [
       "<html>\n",
       "<head><meta charset=\"utf-8\" /></head>\n",
       "<body>\n",
       "    <div>\n",
       "            <script src=\"https://cdnjs.cloudflare.com/ajax/libs/mathjax/2.7.5/MathJax.js?config=TeX-AMS-MML_SVG\"></script><script type=\"text/javascript\">if (window.MathJax) {MathJax.Hub.Config({SVG: {font: \"STIX-Web\"}});}</script>\n",
       "                <script type=\"text/javascript\">window.PlotlyConfig = {MathJaxConfig: 'local'};</script>\n",
       "        <script src=\"https://cdn.plot.ly/plotly-latest.min.js\"></script>    \n",
       "            <div id=\"0fc42c79-ec04-4d6c-a3a5-60c371193212\" class=\"plotly-graph-div\" style=\"height:525px; width:100%;\"></div>\n",
       "            <script type=\"text/javascript\">\n",
       "                \n",
       "                    window.PLOTLYENV=window.PLOTLYENV || {};\n",
       "                    \n",
       "                if (document.getElementById(\"0fc42c79-ec04-4d6c-a3a5-60c371193212\")) {\n",
       "                    Plotly.newPlot(\n",
       "                        '0fc42c79-ec04-4d6c-a3a5-60c371193212',\n",
       "                        [{\"alignmentgroup\": \"True\", \"hoverlabel\": {\"namelength\": 0}, \"hovertemplate\": \"Sub Category=newsus<br>Category=%{x}<br>Values=%{y}\", \"legendgroup\": \"Sub Category=newsus\", \"marker\": {\"color\": \"#636efa\"}, \"name\": \"Sub Category=newsus\", \"offsetgroup\": \"Sub Category=newsus\", \"orientation\": \"v\", \"showlegend\": true, \"textposition\": \"auto\", \"type\": \"bar\", \"x\": [\"news\"], \"xaxis\": \"x\", \"y\": [6211], \"yaxis\": \"y\"}, {\"alignmentgroup\": \"True\", \"hoverlabel\": {\"namelength\": 0}, \"hovertemplate\": \"Sub Category=football_nfl<br>Category=%{x}<br>Values=%{y}\", \"legendgroup\": \"Sub Category=football_nfl\", \"marker\": {\"color\": \"#EF553B\"}, \"name\": \"Sub Category=football_nfl\", \"offsetgroup\": \"Sub Category=football_nfl\", \"orientation\": \"v\", \"showlegend\": true, \"textposition\": \"auto\", \"type\": \"bar\", \"x\": [\"sports\"], \"xaxis\": \"x\", \"y\": [4709], \"yaxis\": \"y\"}, {\"alignmentgroup\": \"True\", \"hoverlabel\": {\"namelength\": 0}, \"hovertemplate\": \"Sub Category=newspolitics<br>Category=%{x}<br>Values=%{y}\", \"legendgroup\": \"Sub Category=newspolitics\", \"marker\": {\"color\": \"#00cc96\"}, \"name\": \"Sub Category=newspolitics\", \"offsetgroup\": \"Sub Category=newspolitics\", \"orientation\": \"v\", \"showlegend\": true, \"textposition\": \"auto\", \"type\": \"bar\", \"x\": [\"news\"], \"xaxis\": \"x\", \"y\": [2702], \"yaxis\": \"y\"}, {\"alignmentgroup\": \"True\", \"hoverlabel\": {\"namelength\": 0}, \"hovertemplate\": \"Sub Category=newscrime<br>Category=%{x}<br>Values=%{y}\", \"legendgroup\": \"Sub Category=newscrime\", \"marker\": {\"color\": \"#ab63fa\"}, \"name\": \"Sub Category=newscrime\", \"offsetgroup\": \"Sub Category=newscrime\", \"orientation\": \"v\", \"showlegend\": true, \"textposition\": \"auto\", \"type\": \"bar\", \"x\": [\"news\"], \"xaxis\": \"x\", \"y\": [2103], \"yaxis\": \"y\"}, {\"alignmentgroup\": \"True\", \"hoverlabel\": {\"namelength\": 0}, \"hovertemplate\": \"Sub Category=weathertopstories<br>Category=%{x}<br>Values=%{y}\", \"legendgroup\": \"Sub Category=weathertopstories\", \"marker\": {\"color\": \"#FFA15A\"}, \"name\": \"Sub Category=weathertopstories\", \"offsetgroup\": \"Sub Category=weathertopstories\", \"orientation\": \"v\", \"showlegend\": true, \"textposition\": \"auto\", \"type\": \"bar\", \"x\": [\"weather\"], \"xaxis\": \"x\", \"y\": [1819], \"yaxis\": \"y\"}, {\"alignmentgroup\": \"True\", \"hoverlabel\": {\"namelength\": 0}, \"hovertemplate\": \"Sub Category=newsworld<br>Category=%{x}<br>Values=%{y}\", \"legendgroup\": \"Sub Category=newsworld\", \"marker\": {\"color\": \"#19d3f3\"}, \"name\": \"Sub Category=newsworld\", \"offsetgroup\": \"Sub Category=newsworld\", \"orientation\": \"v\", \"showlegend\": true, \"textposition\": \"auto\", \"type\": \"bar\", \"x\": [\"news\"], \"xaxis\": \"x\", \"y\": [1630], \"yaxis\": \"y\"}, {\"alignmentgroup\": \"True\", \"hoverlabel\": {\"namelength\": 0}, \"hovertemplate\": \"Sub Category=football_ncaa<br>Category=%{x}<br>Values=%{y}\", \"legendgroup\": \"Sub Category=football_ncaa\", \"marker\": {\"color\": \"#FF6692\"}, \"name\": \"Sub Category=football_ncaa\", \"offsetgroup\": \"Sub Category=football_ncaa\", \"orientation\": \"v\", \"showlegend\": true, \"textposition\": \"auto\", \"type\": \"bar\", \"x\": [\"sports\"], \"xaxis\": \"x\", \"y\": [1508], \"yaxis\": \"y\"}, {\"alignmentgroup\": \"True\", \"hoverlabel\": {\"namelength\": 0}, \"hovertemplate\": \"Sub Category=baseball_mlb<br>Category=%{x}<br>Values=%{y}\", \"legendgroup\": \"Sub Category=baseball_mlb\", \"marker\": {\"color\": \"#B6E880\"}, \"name\": \"Sub Category=baseball_mlb\", \"offsetgroup\": \"Sub Category=baseball_mlb\", \"orientation\": \"v\", \"showlegend\": true, \"textposition\": \"auto\", \"type\": \"bar\", \"x\": [\"sports\"], \"xaxis\": \"x\", \"y\": [1446], \"yaxis\": \"y\"}, {\"alignmentgroup\": \"True\", \"hoverlabel\": {\"namelength\": 0}, \"hovertemplate\": \"Sub Category=basketball_nba<br>Category=%{x}<br>Values=%{y}\", \"legendgroup\": \"Sub Category=basketball_nba\", \"marker\": {\"color\": \"#FF97FF\"}, \"name\": \"Sub Category=basketball_nba\", \"offsetgroup\": \"Sub Category=basketball_nba\", \"orientation\": \"v\", \"showlegend\": true, \"textposition\": \"auto\", \"type\": \"bar\", \"x\": [\"sports\"], \"xaxis\": \"x\", \"y\": [1421], \"yaxis\": \"y\"}, {\"alignmentgroup\": \"True\", \"hoverlabel\": {\"namelength\": 0}, \"hovertemplate\": \"Sub Category=newsscienceandtechnology<br>Category=%{x}<br>Values=%{y}\", \"legendgroup\": \"Sub Category=newsscienceandtechnology\", \"marker\": {\"color\": \"#FECB52\"}, \"name\": \"Sub Category=newsscienceandtechnology\", \"offsetgroup\": \"Sub Category=newsscienceandtechnology\", \"orientation\": \"v\", \"showlegend\": true, \"textposition\": \"auto\", \"type\": \"bar\", \"x\": [\"news\"], \"xaxis\": \"x\", \"y\": [1180], \"yaxis\": \"y\"}, {\"alignmentgroup\": \"True\", \"hoverlabel\": {\"namelength\": 0}, \"hovertemplate\": \"Sub Category=news<br>Category=%{x}<br>Values=%{y}\", \"legendgroup\": \"Sub Category=news\", \"marker\": {\"color\": \"#636efa\"}, \"name\": \"Sub Category=news\", \"offsetgroup\": \"Sub Category=news\", \"orientation\": \"v\", \"showlegend\": true, \"textposition\": \"auto\", \"type\": \"bar\", \"x\": [\"video\", \"entertainment\"], \"xaxis\": \"x\", \"y\": [1140, 17], \"yaxis\": \"y\"}, {\"alignmentgroup\": \"True\", \"hoverlabel\": {\"namelength\": 0}, \"hovertemplate\": \"Sub Category=newstrends<br>Category=%{x}<br>Values=%{y}\", \"legendgroup\": \"Sub Category=newstrends\", \"marker\": {\"color\": \"#EF553B\"}, \"name\": \"Sub Category=newstrends\", \"offsetgroup\": \"Sub Category=newstrends\", \"orientation\": \"v\", \"showlegend\": true, \"textposition\": \"auto\", \"type\": \"bar\", \"x\": [\"foodanddrink\", \"travel\"], \"xaxis\": \"x\", \"y\": [1130, 1], \"yaxis\": \"y\"}, {\"alignmentgroup\": \"True\", \"hoverlabel\": {\"namelength\": 0}, \"hovertemplate\": \"Sub Category=travelarticle<br>Category=%{x}<br>Values=%{y}\", \"legendgroup\": \"Sub Category=travelarticle\", \"marker\": {\"color\": \"#00cc96\"}, \"name\": \"Sub Category=travelarticle\", \"offsetgroup\": \"Sub Category=travelarticle\", \"orientation\": \"v\", \"showlegend\": true, \"textposition\": \"auto\", \"type\": \"bar\", \"x\": [\"travel\"], \"xaxis\": \"x\", \"y\": [965], \"yaxis\": \"y\"}, {\"alignmentgroup\": \"True\", \"hoverlabel\": {\"namelength\": 0}, \"hovertemplate\": \"Sub Category=travelnews<br>Category=%{x}<br>Values=%{y}\", \"legendgroup\": \"Sub Category=travelnews\", \"marker\": {\"color\": \"#ab63fa\"}, \"name\": \"Sub Category=travelnews\", \"offsetgroup\": \"Sub Category=travelnews\", \"orientation\": \"v\", \"showlegend\": true, \"textposition\": \"auto\", \"type\": \"bar\", \"x\": [\"travel\"], \"xaxis\": \"x\", \"y\": [836], \"yaxis\": \"y\"}, {\"alignmentgroup\": \"True\", \"hoverlabel\": {\"namelength\": 0}, \"hovertemplate\": \"Sub Category=more_sports<br>Category=%{x}<br>Values=%{y}\", \"legendgroup\": \"Sub Category=more_sports\", \"marker\": {\"color\": \"#FFA15A\"}, \"name\": \"Sub Category=more_sports\", \"offsetgroup\": \"Sub Category=more_sports\", \"orientation\": \"v\", \"showlegend\": true, \"textposition\": \"auto\", \"type\": \"bar\", \"x\": [\"sports\"], \"xaxis\": \"x\", \"y\": [792], \"yaxis\": \"y\"}, {\"alignmentgroup\": \"True\", \"hoverlabel\": {\"namelength\": 0}, \"hovertemplate\": \"Sub Category=autosnews<br>Category=%{x}<br>Values=%{y}\", \"legendgroup\": \"Sub Category=autosnews\", \"marker\": {\"color\": \"#19d3f3\"}, \"name\": \"Sub Category=autosnews\", \"offsetgroup\": \"Sub Category=autosnews\", \"orientation\": \"v\", \"showlegend\": true, \"textposition\": \"auto\", \"type\": \"bar\", \"x\": [\"autos\"], \"xaxis\": \"x\", \"y\": [774], \"yaxis\": \"y\"}, {\"alignmentgroup\": \"True\", \"hoverlabel\": {\"namelength\": 0}, \"hovertemplate\": \"Sub Category=lifestylebuzz<br>Category=%{x}<br>Values=%{y}\", \"legendgroup\": \"Sub Category=lifestylebuzz\", \"marker\": {\"color\": \"#FF6692\"}, \"name\": \"Sub Category=lifestylebuzz\", \"offsetgroup\": \"Sub Category=lifestylebuzz\", \"orientation\": \"v\", \"showlegend\": true, \"textposition\": \"auto\", \"type\": \"bar\", \"x\": [\"lifestyle\"], \"xaxis\": \"x\", \"y\": [770], \"yaxis\": \"y\"}, {\"alignmentgroup\": \"True\", \"hoverlabel\": {\"namelength\": 0}, \"hovertemplate\": \"Sub Category=basketball_ncaa<br>Category=%{x}<br>Values=%{y}\", \"legendgroup\": \"Sub Category=basketball_ncaa\", \"marker\": {\"color\": \"#B6E880\"}, \"name\": \"Sub Category=basketball_ncaa\", \"offsetgroup\": \"Sub Category=basketball_ncaa\", \"orientation\": \"v\", \"showlegend\": true, \"textposition\": \"auto\", \"type\": \"bar\", \"x\": [\"sports\"], \"xaxis\": \"x\", \"y\": [738], \"yaxis\": \"y\"}, {\"alignmentgroup\": \"True\", \"hoverlabel\": {\"namelength\": 0}, \"hovertemplate\": \"Sub Category=financenews<br>Category=%{x}<br>Values=%{y}\", \"legendgroup\": \"Sub Category=financenews\", \"marker\": {\"color\": \"#FF97FF\"}, \"name\": \"Sub Category=financenews\", \"offsetgroup\": \"Sub Category=financenews\", \"orientation\": \"v\", \"showlegend\": true, \"textposition\": \"auto\", \"type\": \"bar\", \"x\": [\"finance\"], \"xaxis\": \"x\", \"y\": [652], \"yaxis\": \"y\"}, {\"alignmentgroup\": \"True\", \"hoverlabel\": {\"namelength\": 0}, \"hovertemplate\": \"Sub Category=finance-companies<br>Category=%{x}<br>Values=%{y}\", \"legendgroup\": \"Sub Category=finance-companies\", \"marker\": {\"color\": \"#FECB52\"}, \"name\": \"Sub Category=finance-companies\", \"offsetgroup\": \"Sub Category=finance-companies\", \"orientation\": \"v\", \"showlegend\": true, \"textposition\": \"auto\", \"type\": \"bar\", \"x\": [\"finance\"], \"xaxis\": \"x\", \"y\": [563], \"yaxis\": \"y\"}, {\"alignmentgroup\": \"True\", \"hoverlabel\": {\"namelength\": 0}, \"hovertemplate\": \"Sub Category=finance-real-estate<br>Category=%{x}<br>Values=%{y}\", \"legendgroup\": \"Sub Category=finance-real-estate\", \"marker\": {\"color\": \"#636efa\"}, \"name\": \"Sub Category=finance-real-estate\", \"offsetgroup\": \"Sub Category=finance-real-estate\", \"orientation\": \"v\", \"showlegend\": true, \"textposition\": \"auto\", \"type\": \"bar\", \"x\": [\"finance\"], \"xaxis\": \"x\", \"y\": [562], \"yaxis\": \"y\"}, {\"alignmentgroup\": \"True\", \"hoverlabel\": {\"namelength\": 0}, \"hovertemplate\": \"Sub Category=icehockey_nhl<br>Category=%{x}<br>Values=%{y}\", \"legendgroup\": \"Sub Category=icehockey_nhl\", \"marker\": {\"color\": \"#EF553B\"}, \"name\": \"Sub Category=icehockey_nhl\", \"offsetgroup\": \"Sub Category=icehockey_nhl\", \"orientation\": \"v\", \"showlegend\": true, \"textposition\": \"auto\", \"type\": \"bar\", \"x\": [\"sports\"], \"xaxis\": \"x\", \"y\": [508], \"yaxis\": \"y\"}, {\"alignmentgroup\": \"True\", \"hoverlabel\": {\"namelength\": 0}, \"hovertemplate\": \"Sub Category=health-news<br>Category=%{x}<br>Values=%{y}\", \"legendgroup\": \"Sub Category=health-news\", \"marker\": {\"color\": \"#00cc96\"}, \"name\": \"Sub Category=health-news\", \"offsetgroup\": \"Sub Category=health-news\", \"orientation\": \"v\", \"showlegend\": true, \"textposition\": \"auto\", \"type\": \"bar\", \"x\": [\"health\"], \"xaxis\": \"x\", \"y\": [455], \"yaxis\": \"y\"}, {\"alignmentgroup\": \"True\", \"hoverlabel\": {\"namelength\": 0}, \"hovertemplate\": \"Sub Category=recipes<br>Category=%{x}<br>Values=%{y}\", \"legendgroup\": \"Sub Category=recipes\", \"marker\": {\"color\": \"#ab63fa\"}, \"name\": \"Sub Category=recipes\", \"offsetgroup\": \"Sub Category=recipes\", \"orientation\": \"v\", \"showlegend\": true, \"textposition\": \"auto\", \"type\": \"bar\", \"x\": [\"foodanddrink\", \"health\"], \"xaxis\": \"x\", \"y\": [454, 2], \"yaxis\": \"y\"}, {\"alignmentgroup\": \"True\", \"hoverlabel\": {\"namelength\": 0}, \"hovertemplate\": \"Sub Category=medical<br>Category=%{x}<br>Values=%{y}\", \"legendgroup\": \"Sub Category=medical\", \"marker\": {\"color\": \"#FFA15A\"}, \"name\": \"Sub Category=medical\", \"offsetgroup\": \"Sub Category=medical\", \"orientation\": \"v\", \"showlegend\": true, \"textposition\": \"auto\", \"type\": \"bar\", \"x\": [\"health\"], \"xaxis\": \"x\", \"y\": [443], \"yaxis\": \"y\"}, {\"alignmentgroup\": \"True\", \"hoverlabel\": {\"namelength\": 0}, \"hovertemplate\": \"Sub Category=markets<br>Category=%{x}<br>Values=%{y}\", \"legendgroup\": \"Sub Category=markets\", \"marker\": {\"color\": \"#19d3f3\"}, \"name\": \"Sub Category=markets\", \"offsetgroup\": \"Sub Category=markets\", \"orientation\": \"v\", \"showlegend\": true, \"textposition\": \"auto\", \"type\": \"bar\", \"x\": [\"finance\"], \"xaxis\": \"x\", \"y\": [407], \"yaxis\": \"y\"}, {\"alignmentgroup\": \"True\", \"hoverlabel\": {\"namelength\": 0}, \"hovertemplate\": \"Sub Category=musicnews<br>Category=%{x}<br>Values=%{y}\", \"legendgroup\": \"Sub Category=musicnews\", \"marker\": {\"color\": \"#FF6692\"}, \"name\": \"Sub Category=musicnews\", \"offsetgroup\": \"Sub Category=musicnews\", \"orientation\": \"v\", \"showlegend\": true, \"textposition\": \"auto\", \"type\": \"bar\", \"x\": [\"music\"], \"xaxis\": \"x\", \"y\": [400], \"yaxis\": \"y\"}, {\"alignmentgroup\": \"True\", \"hoverlabel\": {\"namelength\": 0}, \"hovertemplate\": \"Sub Category=mma<br>Category=%{x}<br>Values=%{y}\", \"legendgroup\": \"Sub Category=mma\", \"marker\": {\"color\": \"#B6E880\"}, \"name\": \"Sub Category=mma\", \"offsetgroup\": \"Sub Category=mma\", \"orientation\": \"v\", \"showlegend\": true, \"textposition\": \"auto\", \"type\": \"bar\", \"x\": [\"sports\"], \"xaxis\": \"x\", \"y\": [394], \"yaxis\": \"y\"}, {\"alignmentgroup\": \"True\", \"hoverlabel\": {\"namelength\": 0}, \"hovertemplate\": \"Sub Category=golf<br>Category=%{x}<br>Values=%{y}\", \"legendgroup\": \"Sub Category=golf\", \"marker\": {\"color\": \"#FF97FF\"}, \"name\": \"Sub Category=golf\", \"offsetgroup\": \"Sub Category=golf\", \"orientation\": \"v\", \"showlegend\": true, \"textposition\": \"auto\", \"type\": \"bar\", \"x\": [\"sports\"], \"xaxis\": \"x\", \"y\": [393], \"yaxis\": \"y\"}, {\"alignmentgroup\": \"True\", \"hoverlabel\": {\"namelength\": 0}, \"hovertemplate\": \"Sub Category=tvnews<br>Category=%{x}<br>Values=%{y}\", \"legendgroup\": \"Sub Category=tvnews\", \"marker\": {\"color\": \"#FECB52\"}, \"name\": \"Sub Category=tvnews\", \"offsetgroup\": \"Sub Category=tvnews\", \"orientation\": \"v\", \"showlegend\": true, \"textposition\": \"auto\", \"type\": \"bar\", \"x\": [\"tv\"], \"xaxis\": \"x\", \"y\": [361], \"yaxis\": \"y\"}, {\"alignmentgroup\": \"True\", \"hoverlabel\": {\"namelength\": 0}, \"hovertemplate\": \"Sub Category=newsoffbeat<br>Category=%{x}<br>Values=%{y}\", \"legendgroup\": \"Sub Category=newsoffbeat\", \"marker\": {\"color\": \"#636efa\"}, \"name\": \"Sub Category=newsoffbeat\", \"offsetgroup\": \"Sub Category=newsoffbeat\", \"orientation\": \"v\", \"showlegend\": true, \"textposition\": \"auto\", \"type\": \"bar\", \"x\": [\"news\"], \"xaxis\": \"x\", \"y\": [357], \"yaxis\": \"y\"}, {\"alignmentgroup\": \"True\", \"hoverlabel\": {\"namelength\": 0}, \"hovertemplate\": \"Sub Category=tv-celebrity<br>Category=%{x}<br>Values=%{y}\", \"legendgroup\": \"Sub Category=tv-celebrity\", \"marker\": {\"color\": \"#EF553B\"}, \"name\": \"Sub Category=tv-celebrity\", \"offsetgroup\": \"Sub Category=tv-celebrity\", \"orientation\": \"v\", \"showlegend\": true, \"textposition\": \"auto\", \"type\": \"bar\", \"x\": [\"tv\"], \"xaxis\": \"x\", \"y\": [354], \"yaxis\": \"y\"}, {\"alignmentgroup\": \"True\", \"hoverlabel\": {\"namelength\": 0}, \"hovertemplate\": \"Sub Category=wellness<br>Category=%{x}<br>Values=%{y}\", \"legendgroup\": \"Sub Category=wellness\", \"marker\": {\"color\": \"#00cc96\"}, \"name\": \"Sub Category=wellness\", \"offsetgroup\": \"Sub Category=wellness\", \"orientation\": \"v\", \"showlegend\": true, \"textposition\": \"auto\", \"type\": \"bar\", \"x\": [\"health\"], \"xaxis\": \"x\", \"y\": [325], \"yaxis\": \"y\"}, {\"alignmentgroup\": \"True\", \"hoverlabel\": {\"namelength\": 0}, \"hovertemplate\": \"Sub Category=newsopinion<br>Category=%{x}<br>Values=%{y}\", \"legendgroup\": \"Sub Category=newsopinion\", \"marker\": {\"color\": \"#ab63fa\"}, \"name\": \"Sub Category=newsopinion\", \"offsetgroup\": \"Sub Category=newsopinion\", \"orientation\": \"v\", \"showlegend\": true, \"textposition\": \"auto\", \"type\": \"bar\", \"x\": [\"news\"], \"xaxis\": \"x\", \"y\": [305], \"yaxis\": \"y\"}, {\"alignmentgroup\": \"True\", \"hoverlabel\": {\"namelength\": 0}, \"hovertemplate\": \"Sub Category=racing<br>Category=%{x}<br>Values=%{y}\", \"legendgroup\": \"Sub Category=racing\", \"marker\": {\"color\": \"#FFA15A\"}, \"name\": \"Sub Category=racing\", \"offsetgroup\": \"Sub Category=racing\", \"orientation\": \"v\", \"showlegend\": true, \"textposition\": \"auto\", \"type\": \"bar\", \"x\": [\"sports\"], \"xaxis\": \"x\", \"y\": [293], \"yaxis\": \"y\"}, {\"alignmentgroup\": \"True\", \"hoverlabel\": {\"namelength\": 0}, \"hovertemplate\": \"Sub Category=foodnews<br>Category=%{x}<br>Values=%{y}\", \"legendgroup\": \"Sub Category=foodnews\", \"marker\": {\"color\": \"#19d3f3\"}, \"name\": \"Sub Category=foodnews\", \"offsetgroup\": \"Sub Category=foodnews\", \"orientation\": \"v\", \"showlegend\": true, \"textposition\": \"auto\", \"type\": \"bar\", \"x\": [\"foodanddrink\"], \"xaxis\": \"x\", \"y\": [267], \"yaxis\": \"y\"}, {\"alignmentgroup\": \"True\", \"hoverlabel\": {\"namelength\": 0}, \"hovertemplate\": \"Sub Category=animals<br>Category=%{x}<br>Values=%{y}\", \"legendgroup\": \"Sub Category=animals\", \"marker\": {\"color\": \"#FF6692\"}, \"name\": \"Sub Category=animals\", \"offsetgroup\": \"Sub Category=animals\", \"orientation\": \"v\", \"showlegend\": true, \"textposition\": \"auto\", \"type\": \"bar\", \"x\": [\"video\", \"kids\"], \"xaxis\": \"x\", \"y\": [255, 1], \"yaxis\": \"y\"}, {\"alignmentgroup\": \"True\", \"hoverlabel\": {\"namelength\": 0}, \"hovertemplate\": \"Sub Category=tipsandtricks<br>Category=%{x}<br>Values=%{y}\", \"legendgroup\": \"Sub Category=tipsandtricks\", \"marker\": {\"color\": \"#B6E880\"}, \"name\": \"Sub Category=tipsandtricks\", \"offsetgroup\": \"Sub Category=tipsandtricks\", \"orientation\": \"v\", \"showlegend\": true, \"textposition\": \"auto\", \"type\": \"bar\", \"x\": [\"foodanddrink\"], \"xaxis\": \"x\", \"y\": [246], \"yaxis\": \"y\"}, {\"alignmentgroup\": \"True\", \"hoverlabel\": {\"namelength\": 0}, \"hovertemplate\": \"Sub Category=lifestyleroyals<br>Category=%{x}<br>Values=%{y}\", \"legendgroup\": \"Sub Category=lifestyleroyals\", \"marker\": {\"color\": \"#FF97FF\"}, \"name\": \"Sub Category=lifestyleroyals\", \"offsetgroup\": \"Sub Category=lifestyleroyals\", \"orientation\": \"v\", \"showlegend\": true, \"textposition\": \"auto\", \"type\": \"bar\", \"x\": [\"lifestyle\"], \"xaxis\": \"x\", \"y\": [238], \"yaxis\": \"y\"}, {\"alignmentgroup\": \"True\", \"hoverlabel\": {\"namelength\": 0}, \"hovertemplate\": \"Sub Category=traveltripideas<br>Category=%{x}<br>Values=%{y}\", \"legendgroup\": \"Sub Category=traveltripideas\", \"marker\": {\"color\": \"#FECB52\"}, \"name\": \"Sub Category=traveltripideas\", \"offsetgroup\": \"Sub Category=traveltripideas\", \"orientation\": \"v\", \"showlegend\": true, \"textposition\": \"auto\", \"type\": \"bar\", \"x\": [\"travel\"], \"xaxis\": \"x\", \"y\": [228], \"yaxis\": \"y\"}, {\"alignmentgroup\": \"True\", \"hoverlabel\": {\"namelength\": 0}, \"hovertemplate\": \"Sub Category=movienews<br>Category=%{x}<br>Values=%{y}\", \"legendgroup\": \"Sub Category=movienews\", \"marker\": {\"color\": \"#636efa\"}, \"name\": \"Sub Category=movienews\", \"offsetgroup\": \"Sub Category=movienews\", \"orientation\": \"v\", \"showlegend\": true, \"textposition\": \"auto\", \"type\": \"bar\", \"x\": [\"movies\"], \"xaxis\": \"x\", \"y\": [225], \"yaxis\": \"y\"}, {\"alignmentgroup\": \"True\", \"hoverlabel\": {\"namelength\": 0}, \"hovertemplate\": \"Sub Category=nutrition<br>Category=%{x}<br>Values=%{y}\", \"legendgroup\": \"Sub Category=nutrition\", \"marker\": {\"color\": \"#EF553B\"}, \"name\": \"Sub Category=nutrition\", \"offsetgroup\": \"Sub Category=nutrition\", \"orientation\": \"v\", \"showlegend\": true, \"textposition\": \"auto\", \"type\": \"bar\", \"x\": [\"health\"], \"xaxis\": \"x\", \"y\": [220], \"yaxis\": \"y\"}, {\"alignmentgroup\": \"True\", \"hoverlabel\": {\"namelength\": 0}, \"hovertemplate\": \"Sub Category=viral<br>Category=%{x}<br>Values=%{y}\", \"legendgroup\": \"Sub Category=viral\", \"marker\": {\"color\": \"#00cc96\"}, \"name\": \"Sub Category=viral\", \"offsetgroup\": \"Sub Category=viral\", \"orientation\": \"v\", \"showlegend\": true, \"textposition\": \"auto\", \"type\": \"bar\", \"x\": [\"video\"], \"xaxis\": \"x\", \"y\": [214], \"yaxis\": \"y\"}, {\"alignmentgroup\": \"True\", \"hoverlabel\": {\"namelength\": 0}, \"hovertemplate\": \"Sub Category=movies-celebrity<br>Category=%{x}<br>Values=%{y}\", \"legendgroup\": \"Sub Category=movies-celebrity\", \"marker\": {\"color\": \"#ab63fa\"}, \"name\": \"Sub Category=movies-celebrity\", \"offsetgroup\": \"Sub Category=movies-celebrity\", \"orientation\": \"v\", \"showlegend\": true, \"textposition\": \"auto\", \"type\": \"bar\", \"x\": [\"movies\"], \"xaxis\": \"x\", \"y\": [212], \"yaxis\": \"y\"}, {\"alignmentgroup\": \"True\", \"hoverlabel\": {\"namelength\": 0}, \"hovertemplate\": \"Sub Category=music-celebrity<br>Category=%{x}<br>Values=%{y}\", \"legendgroup\": \"Sub Category=music-celebrity\", \"marker\": {\"color\": \"#FFA15A\"}, \"name\": \"Sub Category=music-celebrity\", \"offsetgroup\": \"Sub Category=music-celebrity\", \"orientation\": \"v\", \"showlegend\": true, \"textposition\": \"auto\", \"type\": \"bar\", \"x\": [\"music\"], \"xaxis\": \"x\", \"y\": [210], \"yaxis\": \"y\"}, {\"alignmentgroup\": \"True\", \"hoverlabel\": {\"namelength\": 0}, \"hovertemplate\": \"Sub Category=autosenthusiasts<br>Category=%{x}<br>Values=%{y}\", \"legendgroup\": \"Sub Category=autosenthusiasts\", \"marker\": {\"color\": \"#19d3f3\"}, \"name\": \"Sub Category=autosenthusiasts\", \"offsetgroup\": \"Sub Category=autosenthusiasts\", \"orientation\": \"v\", \"showlegend\": true, \"textposition\": \"auto\", \"type\": \"bar\", \"x\": [\"autos\"], \"xaxis\": \"x\", \"y\": [206], \"yaxis\": \"y\"}, {\"alignmentgroup\": \"True\", \"hoverlabel\": {\"namelength\": 0}, \"hovertemplate\": \"Sub Category=lifestylehomeandgarden<br>Category=%{x}<br>Values=%{y}\", \"legendgroup\": \"Sub Category=lifestylehomeandgarden\", \"marker\": {\"color\": \"#FF6692\"}, \"name\": \"Sub Category=lifestylehomeandgarden\", \"offsetgroup\": \"Sub Category=lifestylehomeandgarden\", \"orientation\": \"v\", \"showlegend\": true, \"textposition\": \"auto\", \"type\": \"bar\", \"x\": [\"lifestyle\"], \"xaxis\": \"x\", \"y\": [176], \"yaxis\": \"y\"}, {\"alignmentgroup\": \"True\", \"hoverlabel\": {\"namelength\": 0}, \"hovertemplate\": \"Sub Category=newsgoodnews<br>Category=%{x}<br>Values=%{y}\", \"legendgroup\": \"Sub Category=newsgoodnews\", \"marker\": {\"color\": \"#B6E880\"}, \"name\": \"Sub Category=newsgoodnews\", \"offsetgroup\": \"Sub Category=newsgoodnews\", \"orientation\": \"v\", \"showlegend\": true, \"textposition\": \"auto\", \"type\": \"bar\", \"x\": [\"news\"], \"xaxis\": \"x\", \"y\": [173], \"yaxis\": \"y\"}, {\"alignmentgroup\": \"True\", \"hoverlabel\": {\"namelength\": 0}, \"hovertemplate\": \"Sub Category=restaurantsandnews<br>Category=%{x}<br>Values=%{y}\", \"legendgroup\": \"Sub Category=restaurantsandnews\", \"marker\": {\"color\": \"#FF97FF\"}, \"name\": \"Sub Category=restaurantsandnews\", \"offsetgroup\": \"Sub Category=restaurantsandnews\", \"orientation\": \"v\", \"showlegend\": true, \"textposition\": \"auto\", \"type\": \"bar\", \"x\": [\"foodanddrink\"], \"xaxis\": \"x\", \"y\": [169], \"yaxis\": \"y\"}, {\"alignmentgroup\": \"True\", \"hoverlabel\": {\"namelength\": 0}, \"hovertemplate\": \"Sub Category=football_nfl_videos<br>Category=%{x}<br>Values=%{y}\", \"legendgroup\": \"Sub Category=football_nfl_videos\", \"marker\": {\"color\": \"#FECB52\"}, \"name\": \"Sub Category=football_nfl_videos\", \"offsetgroup\": \"Sub Category=football_nfl_videos\", \"orientation\": \"v\", \"showlegend\": true, \"textposition\": \"auto\", \"type\": \"bar\", \"x\": [\"sports\"], \"xaxis\": \"x\", \"y\": [159], \"yaxis\": \"y\"}, {\"alignmentgroup\": \"True\", \"hoverlabel\": {\"namelength\": 0}, \"hovertemplate\": \"Sub Category=soccer<br>Category=%{x}<br>Values=%{y}\", \"legendgroup\": \"Sub Category=soccer\", \"marker\": {\"color\": \"#636efa\"}, \"name\": \"Sub Category=soccer\", \"offsetgroup\": \"Sub Category=soccer\", \"orientation\": \"v\", \"showlegend\": true, \"textposition\": \"auto\", \"type\": \"bar\", \"x\": [\"sports\"], \"xaxis\": \"x\", \"y\": [139], \"yaxis\": \"y\"}, {\"alignmentgroup\": \"True\", \"hoverlabel\": {\"namelength\": 0}, \"hovertemplate\": \"Sub Category=celebrity<br>Category=%{x}<br>Values=%{y}\", \"legendgroup\": \"Sub Category=celebrity\", \"marker\": {\"color\": \"#EF553B\"}, \"name\": \"Sub Category=celebrity\", \"offsetgroup\": \"Sub Category=celebrity\", \"orientation\": \"v\", \"showlegend\": true, \"textposition\": \"auto\", \"type\": \"bar\", \"x\": [\"entertainment\"], \"xaxis\": \"x\", \"y\": [137], \"yaxis\": \"y\"}, {\"alignmentgroup\": \"True\", \"hoverlabel\": {\"namelength\": 0}, \"hovertemplate\": \"Sub Category=science<br>Category=%{x}<br>Values=%{y}\", \"legendgroup\": \"Sub Category=science\", \"marker\": {\"color\": \"#00cc96\"}, \"name\": \"Sub Category=science\", \"offsetgroup\": \"Sub Category=science\", \"orientation\": \"v\", \"showlegend\": true, \"textposition\": \"auto\", \"type\": \"bar\", \"x\": [\"video\", \"kids\"], \"xaxis\": \"x\", \"y\": [134, 1], \"yaxis\": \"y\"}, {\"alignmentgroup\": \"True\", \"hoverlabel\": {\"namelength\": 0}, \"hovertemplate\": \"Sub Category=lifestylefamily<br>Category=%{x}<br>Values=%{y}\", \"legendgroup\": \"Sub Category=lifestylefamily\", \"marker\": {\"color\": \"#ab63fa\"}, \"name\": \"Sub Category=lifestylefamily\", \"offsetgroup\": \"Sub Category=lifestylefamily\", \"orientation\": \"v\", \"showlegend\": true, \"textposition\": \"auto\", \"type\": \"bar\", \"x\": [\"lifestyle\"], \"xaxis\": \"x\", \"y\": [129], \"yaxis\": \"y\"}, {\"alignmentgroup\": \"True\", \"hoverlabel\": {\"namelength\": 0}, \"hovertemplate\": \"Sub Category=weightloss<br>Category=%{x}<br>Values=%{y}\", \"legendgroup\": \"Sub Category=weightloss\", \"marker\": {\"color\": \"#FFA15A\"}, \"name\": \"Sub Category=weightloss\", \"offsetgroup\": \"Sub Category=weightloss\", \"orientation\": \"v\", \"showlegend\": true, \"textposition\": \"auto\", \"type\": \"bar\", \"x\": [\"health\"], \"xaxis\": \"x\", \"y\": [127], \"yaxis\": \"y\"}, {\"alignmentgroup\": \"True\", \"hoverlabel\": {\"namelength\": 0}, \"hovertemplate\": \"Sub Category=autosclassics<br>Category=%{x}<br>Values=%{y}\", \"legendgroup\": \"Sub Category=autosclassics\", \"marker\": {\"color\": \"#19d3f3\"}, \"name\": \"Sub Category=autosclassics\", \"offsetgroup\": \"Sub Category=autosclassics\", \"orientation\": \"v\", \"showlegend\": true, \"textposition\": \"auto\", \"type\": \"bar\", \"x\": [\"autos\"], \"xaxis\": \"x\", \"y\": [118], \"yaxis\": \"y\"}, {\"alignmentgroup\": \"True\", \"hoverlabel\": {\"namelength\": 0}, \"hovertemplate\": \"Sub Category=lifestyle<br>Category=%{x}<br>Values=%{y}\", \"legendgroup\": \"Sub Category=lifestyle\", \"marker\": {\"color\": \"#FF6692\"}, \"name\": \"Sub Category=lifestyle\", \"offsetgroup\": \"Sub Category=lifestyle\", \"orientation\": \"v\", \"showlegend\": true, \"textposition\": \"auto\", \"type\": \"bar\", \"x\": [\"video\"], \"xaxis\": \"x\", \"y\": [116], \"yaxis\": \"y\"}, {\"alignmentgroup\": \"True\", \"hoverlabel\": {\"namelength\": 0}, \"hovertemplate\": \"Sub Category=entertainment-celebrity<br>Category=%{x}<br>Values=%{y}\", \"legendgroup\": \"Sub Category=entertainment-celebrity\", \"marker\": {\"color\": \"#B6E880\"}, \"name\": \"Sub Category=entertainment-celebrity\", \"offsetgroup\": \"Sub Category=entertainment-celebrity\", \"orientation\": \"v\", \"showlegend\": true, \"textposition\": \"auto\", \"type\": \"bar\", \"x\": [\"entertainment\"], \"xaxis\": \"x\", \"y\": [115], \"yaxis\": \"y\"}, {\"alignmentgroup\": \"True\", \"hoverlabel\": {\"namelength\": 0}, \"hovertemplate\": \"Sub Category=finance-top-stocks<br>Category=%{x}<br>Values=%{y}\", \"legendgroup\": \"Sub Category=finance-top-stocks\", \"marker\": {\"color\": \"#FF97FF\"}, \"name\": \"Sub Category=finance-top-stocks\", \"offsetgroup\": \"Sub Category=finance-top-stocks\", \"orientation\": \"v\", \"showlegend\": true, \"textposition\": \"auto\", \"type\": \"bar\", \"x\": [\"finance\"], \"xaxis\": \"x\", \"y\": [115], \"yaxis\": \"y\"}, {\"alignmentgroup\": \"True\", \"hoverlabel\": {\"namelength\": 0}, \"hovertemplate\": \"Sub Category=personalfinance<br>Category=%{x}<br>Values=%{y}\", \"legendgroup\": \"Sub Category=personalfinance\", \"marker\": {\"color\": \"#FECB52\"}, \"name\": \"Sub Category=personalfinance\", \"offsetgroup\": \"Sub Category=personalfinance\", \"orientation\": \"v\", \"showlegend\": true, \"textposition\": \"auto\", \"type\": \"bar\", \"x\": [\"finance\", \"news\"], \"xaxis\": \"x\", \"y\": [115, 2], \"yaxis\": \"y\"}, {\"alignmentgroup\": \"True\", \"hoverlabel\": {\"namelength\": 0}, \"hovertemplate\": \"Sub Category=finance-career-education<br>Category=%{x}<br>Values=%{y}\", \"legendgroup\": \"Sub Category=finance-career-education\", \"marker\": {\"color\": \"#636efa\"}, \"name\": \"Sub Category=finance-career-education\", \"offsetgroup\": \"Sub Category=finance-career-education\", \"orientation\": \"v\", \"showlegend\": true, \"textposition\": \"auto\", \"type\": \"bar\", \"x\": [\"finance\"], \"xaxis\": \"x\", \"y\": [113], \"yaxis\": \"y\"}, {\"alignmentgroup\": \"True\", \"hoverlabel\": {\"namelength\": 0}, \"hovertemplate\": \"Sub Category=gaming<br>Category=%{x}<br>Values=%{y}\", \"legendgroup\": \"Sub Category=gaming\", \"marker\": {\"color\": \"#EF553B\"}, \"name\": \"Sub Category=gaming\", \"offsetgroup\": \"Sub Category=gaming\", \"orientation\": \"v\", \"showlegend\": true, \"textposition\": \"auto\", \"type\": \"bar\", \"x\": [\"entertainment\"], \"xaxis\": \"x\", \"y\": [113], \"yaxis\": \"y\"}, {\"alignmentgroup\": \"True\", \"hoverlabel\": {\"namelength\": 0}, \"hovertemplate\": \"Sub Category=tennis<br>Category=%{x}<br>Values=%{y}\", \"legendgroup\": \"Sub Category=tennis\", \"marker\": {\"color\": \"#00cc96\"}, \"name\": \"Sub Category=tennis\", \"offsetgroup\": \"Sub Category=tennis\", \"orientation\": \"v\", \"showlegend\": true, \"textposition\": \"auto\", \"type\": \"bar\", \"x\": [\"sports\"], \"xaxis\": \"x\", \"y\": [109], \"yaxis\": \"y\"}, {\"alignmentgroup\": \"True\", \"hoverlabel\": {\"namelength\": 0}, \"hovertemplate\": \"Sub Category=elections-2020-us<br>Category=%{x}<br>Values=%{y}\", \"legendgroup\": \"Sub Category=elections-2020-us\", \"marker\": {\"color\": \"#ab63fa\"}, \"name\": \"Sub Category=elections-2020-us\", \"offsetgroup\": \"Sub Category=elections-2020-us\", \"orientation\": \"v\", \"showlegend\": true, \"textposition\": \"auto\", \"type\": \"bar\", \"x\": [\"news\"], \"xaxis\": \"x\", \"y\": [107], \"yaxis\": \"y\"}, {\"alignmentgroup\": \"True\", \"hoverlabel\": {\"namelength\": 0}, \"hovertemplate\": \"Sub Category=entertainment-books<br>Category=%{x}<br>Values=%{y}\", \"legendgroup\": \"Sub Category=entertainment-books\", \"marker\": {\"color\": \"#FFA15A\"}, \"name\": \"Sub Category=entertainment-books\", \"offsetgroup\": \"Sub Category=entertainment-books\", \"orientation\": \"v\", \"showlegend\": true, \"textposition\": \"auto\", \"type\": \"bar\", \"x\": [\"entertainment\"], \"xaxis\": \"x\", \"y\": [106], \"yaxis\": \"y\"}, {\"alignmentgroup\": \"True\", \"hoverlabel\": {\"namelength\": 0}, \"hovertemplate\": \"Sub Category=shop-holidays<br>Category=%{x}<br>Values=%{y}\", \"legendgroup\": \"Sub Category=shop-holidays\", \"marker\": {\"color\": \"#19d3f3\"}, \"name\": \"Sub Category=shop-holidays\", \"offsetgroup\": \"Sub Category=shop-holidays\", \"orientation\": \"v\", \"showlegend\": true, \"textposition\": \"auto\", \"type\": \"bar\", \"x\": [\"lifestyle\"], \"xaxis\": \"x\", \"y\": [106], \"yaxis\": \"y\"}, {\"alignmentgroup\": \"True\", \"hoverlabel\": {\"namelength\": 0}, \"hovertemplate\": \"Sub Category=fitness<br>Category=%{x}<br>Values=%{y}\", \"legendgroup\": \"Sub Category=fitness\", \"marker\": {\"color\": \"#FF6692\"}, \"name\": \"Sub Category=fitness\", \"offsetgroup\": \"Sub Category=fitness\", \"orientation\": \"v\", \"showlegend\": true, \"textposition\": \"auto\", \"type\": \"bar\", \"x\": [\"health\"], \"xaxis\": \"x\", \"y\": [101], \"yaxis\": \"y\"}, {\"alignmentgroup\": \"True\", \"hoverlabel\": {\"namelength\": 0}, \"hovertemplate\": \"Sub Category=lifestyledidyouknow<br>Category=%{x}<br>Values=%{y}\", \"legendgroup\": \"Sub Category=lifestyledidyouknow\", \"marker\": {\"color\": \"#B6E880\"}, \"name\": \"Sub Category=lifestyledidyouknow\", \"offsetgroup\": \"Sub Category=lifestyledidyouknow\", \"orientation\": \"v\", \"showlegend\": true, \"textposition\": \"auto\", \"type\": \"bar\", \"x\": [\"lifestyle\"], \"xaxis\": \"x\", \"y\": [100], \"yaxis\": \"y\"}, {\"alignmentgroup\": \"True\", \"hoverlabel\": {\"namelength\": 0}, \"hovertemplate\": \"Sub Category=popculture<br>Category=%{x}<br>Values=%{y}\", \"legendgroup\": \"Sub Category=popculture\", \"marker\": {\"color\": \"#FF97FF\"}, \"name\": \"Sub Category=popculture\", \"offsetgroup\": \"Sub Category=popculture\", \"orientation\": \"v\", \"showlegend\": true, \"textposition\": \"auto\", \"type\": \"bar\", \"x\": [\"video\"], \"xaxis\": \"x\", \"y\": [98], \"yaxis\": \"y\"}, {\"alignmentgroup\": \"True\", \"hoverlabel\": {\"namelength\": 0}, \"hovertemplate\": \"Sub Category=autosmotorcycles<br>Category=%{x}<br>Values=%{y}\", \"legendgroup\": \"Sub Category=autosmotorcycles\", \"marker\": {\"color\": \"#FECB52\"}, \"name\": \"Sub Category=autosmotorcycles\", \"offsetgroup\": \"Sub Category=autosmotorcycles\", \"orientation\": \"v\", \"showlegend\": true, \"textposition\": \"auto\", \"type\": \"bar\", \"x\": [\"autos\"], \"xaxis\": \"x\", \"y\": [84], \"yaxis\": \"y\"}, {\"alignmentgroup\": \"True\", \"hoverlabel\": {\"namelength\": 0}, \"hovertemplate\": \"Sub Category=videos<br>Category=%{x}<br>Values=%{y}\", \"legendgroup\": \"Sub Category=videos\", \"marker\": {\"color\": \"#636efa\"}, \"name\": \"Sub Category=videos\", \"offsetgroup\": \"Sub Category=videos\", \"orientation\": \"v\", \"showlegend\": true, \"textposition\": \"auto\", \"type\": \"bar\", \"x\": [\"foodanddrink\"], \"xaxis\": \"x\", \"y\": [84], \"yaxis\": \"y\"}, {\"alignmentgroup\": \"True\", \"hoverlabel\": {\"namelength\": 0}, \"hovertemplate\": \"Sub Category=finance-video<br>Category=%{x}<br>Values=%{y}\", \"legendgroup\": \"Sub Category=finance-video\", \"marker\": {\"color\": \"#EF553B\"}, \"name\": \"Sub Category=finance-video\", \"offsetgroup\": \"Sub Category=finance-video\", \"orientation\": \"v\", \"showlegend\": true, \"textposition\": \"auto\", \"type\": \"bar\", \"x\": [\"finance\"], \"xaxis\": \"x\", \"y\": [79], \"yaxis\": \"y\"}, {\"alignmentgroup\": \"True\", \"hoverlabel\": {\"namelength\": 0}, \"hovertemplate\": \"Sub Category=voices<br>Category=%{x}<br>Values=%{y}\", \"legendgroup\": \"Sub Category=voices\", \"marker\": {\"color\": \"#00cc96\"}, \"name\": \"Sub Category=voices\", \"offsetgroup\": \"Sub Category=voices\", \"orientation\": \"v\", \"showlegend\": true, \"textposition\": \"auto\", \"type\": \"bar\", \"x\": [\"lifestyle\", \"health\", \"travel\"], \"xaxis\": \"x\", \"y\": [78, 51, 6], \"yaxis\": \"y\"}, {\"alignmentgroup\": \"True\", \"hoverlabel\": {\"namelength\": 0}, \"hovertemplate\": \"Sub Category=finance-retirement<br>Category=%{x}<br>Values=%{y}\", \"legendgroup\": \"Sub Category=finance-retirement\", \"marker\": {\"color\": \"#ab63fa\"}, \"name\": \"Sub Category=finance-retirement\", \"offsetgroup\": \"Sub Category=finance-retirement\", \"orientation\": \"v\", \"showlegend\": true, \"textposition\": \"auto\", \"type\": \"bar\", \"x\": [\"finance\"], \"xaxis\": \"x\", \"y\": [76], \"yaxis\": \"y\"}, {\"alignmentgroup\": \"True\", \"hoverlabel\": {\"namelength\": 0}, \"hovertemplate\": \"Sub Category=traveltips<br>Category=%{x}<br>Values=%{y}\", \"legendgroup\": \"Sub Category=traveltips\", \"marker\": {\"color\": \"#FFA15A\"}, \"name\": \"Sub Category=traveltips\", \"offsetgroup\": \"Sub Category=traveltips\", \"orientation\": \"v\", \"showlegend\": true, \"textposition\": \"auto\", \"type\": \"bar\", \"x\": [\"travel\"], \"xaxis\": \"x\", \"y\": [76], \"yaxis\": \"y\"}, {\"alignmentgroup\": \"True\", \"hoverlabel\": {\"namelength\": 0}, \"hovertemplate\": \"Sub Category=lifestylepets<br>Category=%{x}<br>Values=%{y}\", \"legendgroup\": \"Sub Category=lifestylepets\", \"marker\": {\"color\": \"#19d3f3\"}, \"name\": \"Sub Category=lifestylepets\", \"offsetgroup\": \"Sub Category=lifestylepets\", \"orientation\": \"v\", \"showlegend\": true, \"textposition\": \"auto\", \"type\": \"bar\", \"x\": [\"lifestyle\"], \"xaxis\": \"x\", \"y\": [73], \"yaxis\": \"y\"}, {\"alignmentgroup\": \"True\", \"hoverlabel\": {\"namelength\": 0}, \"hovertemplate\": \"Sub Category=tv-gallery<br>Category=%{x}<br>Values=%{y}\", \"legendgroup\": \"Sub Category=tv-gallery\", \"marker\": {\"color\": \"#FF6692\"}, \"name\": \"Sub Category=tv-gallery\", \"offsetgroup\": \"Sub Category=tv-gallery\", \"orientation\": \"v\", \"showlegend\": true, \"textposition\": \"auto\", \"type\": \"bar\", \"x\": [\"tv\"], \"xaxis\": \"x\", \"y\": [71], \"yaxis\": \"y\"}, {\"alignmentgroup\": \"True\", \"hoverlabel\": {\"namelength\": 0}, \"hovertemplate\": \"Sub Category=finance-saving-investing<br>Category=%{x}<br>Values=%{y}\", \"legendgroup\": \"Sub Category=finance-saving-investing\", \"marker\": {\"color\": \"#B6E880\"}, \"name\": \"Sub Category=finance-saving-investing\", \"offsetgroup\": \"Sub Category=finance-saving-investing\", \"orientation\": \"v\", \"showlegend\": true, \"textposition\": \"auto\", \"type\": \"bar\", \"x\": [\"finance\"], \"xaxis\": \"x\", \"y\": [71], \"yaxis\": \"y\"}, {\"alignmentgroup\": \"True\", \"hoverlabel\": {\"namelength\": 0}, \"hovertemplate\": \"Sub Category=lifestylepetsanimals<br>Category=%{x}<br>Values=%{y}\", \"legendgroup\": \"Sub Category=lifestylepetsanimals\", \"marker\": {\"color\": \"#FF97FF\"}, \"name\": \"Sub Category=lifestylepetsanimals\", \"offsetgroup\": \"Sub Category=lifestylepetsanimals\", \"orientation\": \"v\", \"showlegend\": true, \"textposition\": \"auto\", \"type\": \"bar\", \"x\": [\"lifestyle\"], \"xaxis\": \"x\", \"y\": [67], \"yaxis\": \"y\"}, {\"alignmentgroup\": \"True\", \"hoverlabel\": {\"namelength\": 0}, \"hovertemplate\": \"Sub Category=autossuvs<br>Category=%{x}<br>Values=%{y}\", \"legendgroup\": \"Sub Category=autossuvs\", \"marker\": {\"color\": \"#FECB52\"}, \"name\": \"Sub Category=autossuvs\", \"offsetgroup\": \"Sub Category=autossuvs\", \"orientation\": \"v\", \"showlegend\": true, \"textposition\": \"auto\", \"type\": \"bar\", \"x\": [\"autos\"], \"xaxis\": \"x\", \"y\": [66], \"yaxis\": \"y\"}, {\"alignmentgroup\": \"True\", \"hoverlabel\": {\"namelength\": 0}, \"hovertemplate\": \"Sub Category=finance-savemoney<br>Category=%{x}<br>Values=%{y}\", \"legendgroup\": \"Sub Category=finance-savemoney\", \"marker\": {\"color\": \"#636efa\"}, \"name\": \"Sub Category=finance-savemoney\", \"offsetgroup\": \"Sub Category=finance-savemoney\", \"orientation\": \"v\", \"showlegend\": true, \"textposition\": \"auto\", \"type\": \"bar\", \"x\": [\"finance\"], \"xaxis\": \"x\", \"y\": [64], \"yaxis\": \"y\"}, {\"alignmentgroup\": \"True\", \"hoverlabel\": {\"namelength\": 0}, \"hovertemplate\": \"Sub Category=movies-gallery<br>Category=%{x}<br>Values=%{y}\", \"legendgroup\": \"Sub Category=movies-gallery\", \"marker\": {\"color\": \"#EF553B\"}, \"name\": \"Sub Category=movies-gallery\", \"offsetgroup\": \"Sub Category=movies-gallery\", \"orientation\": \"v\", \"showlegend\": true, \"textposition\": \"auto\", \"type\": \"bar\", \"x\": [\"movies\"], \"xaxis\": \"x\", \"y\": [63], \"yaxis\": \"y\"}, {\"alignmentgroup\": \"True\", \"hoverlabel\": {\"namelength\": 0}, \"hovertemplate\": \"Sub Category=beverages<br>Category=%{x}<br>Values=%{y}\", \"legendgroup\": \"Sub Category=beverages\", \"marker\": {\"color\": \"#00cc96\"}, \"name\": \"Sub Category=beverages\", \"offsetgroup\": \"Sub Category=beverages\", \"orientation\": \"v\", \"showlegend\": true, \"textposition\": \"auto\", \"type\": \"bar\", \"x\": [\"foodanddrink\"], \"xaxis\": \"x\", \"y\": [62], \"yaxis\": \"y\"}, {\"alignmentgroup\": \"True\", \"hoverlabel\": {\"namelength\": 0}, \"hovertemplate\": \"Sub Category=lifestylecelebstyle<br>Category=%{x}<br>Values=%{y}\", \"legendgroup\": \"Sub Category=lifestylecelebstyle\", \"marker\": {\"color\": \"#ab63fa\"}, \"name\": \"Sub Category=lifestylecelebstyle\", \"offsetgroup\": \"Sub Category=lifestylecelebstyle\", \"orientation\": \"v\", \"showlegend\": true, \"textposition\": \"auto\", \"type\": \"bar\", \"x\": [\"lifestyle\"], \"xaxis\": \"x\", \"y\": [59], \"yaxis\": \"y\"}, {\"alignmentgroup\": \"True\", \"hoverlabel\": {\"namelength\": 0}, \"hovertemplate\": \"Sub Category=movievideo<br>Category=%{x}<br>Values=%{y}\", \"legendgroup\": \"Sub Category=movievideo\", \"marker\": {\"color\": \"#FFA15A\"}, \"name\": \"Sub Category=movievideo\", \"offsetgroup\": \"Sub Category=movievideo\", \"orientation\": \"v\", \"showlegend\": true, \"textposition\": \"auto\", \"type\": \"bar\", \"x\": [\"movies\"], \"xaxis\": \"x\", \"y\": [59], \"yaxis\": \"y\"}, {\"alignmentgroup\": \"True\", \"hoverlabel\": {\"namelength\": 0}, \"hovertemplate\": \"Sub Category=lifestylesmartliving<br>Category=%{x}<br>Values=%{y}\", \"legendgroup\": \"Sub Category=lifestylesmartliving\", \"marker\": {\"color\": \"#19d3f3\"}, \"name\": \"Sub Category=lifestylesmartliving\", \"offsetgroup\": \"Sub Category=lifestylesmartliving\", \"orientation\": \"v\", \"showlegend\": true, \"textposition\": \"auto\", \"type\": \"bar\", \"x\": [\"lifestyle\"], \"xaxis\": \"x\", \"y\": [58], \"yaxis\": \"y\"}, {\"alignmentgroup\": \"True\", \"hoverlabel\": {\"namelength\": 0}, \"hovertemplate\": \"Sub Category=peopleandplaces<br>Category=%{x}<br>Values=%{y}\", \"legendgroup\": \"Sub Category=peopleandplaces\", \"marker\": {\"color\": \"#FF6692\"}, \"name\": \"Sub Category=peopleandplaces\", \"offsetgroup\": \"Sub Category=peopleandplaces\", \"orientation\": \"v\", \"showlegend\": true, \"textposition\": \"auto\", \"type\": \"bar\", \"x\": [\"video\"], \"xaxis\": \"x\", \"y\": [54], \"yaxis\": \"y\"}, {\"alignmentgroup\": \"True\", \"hoverlabel\": {\"namelength\": 0}, \"hovertemplate\": \"Sub Category=autossports<br>Category=%{x}<br>Values=%{y}\", \"legendgroup\": \"Sub Category=autossports\", \"marker\": {\"color\": \"#B6E880\"}, \"name\": \"Sub Category=autossports\", \"offsetgroup\": \"Sub Category=autossports\", \"orientation\": \"v\", \"showlegend\": true, \"textposition\": \"auto\", \"type\": \"bar\", \"x\": [\"autos\"], \"xaxis\": \"x\", \"y\": [52], \"yaxis\": \"y\"}, {\"alignmentgroup\": \"True\", \"hoverlabel\": {\"namelength\": 0}, \"hovertemplate\": \"Sub Category=video<br>Category=%{x}<br>Values=%{y}\", \"legendgroup\": \"Sub Category=video\", \"marker\": {\"color\": \"#FF97FF\"}, \"name\": \"Sub Category=video\", \"offsetgroup\": \"Sub Category=video\", \"orientation\": \"v\", \"showlegend\": true, \"textposition\": \"auto\", \"type\": \"bar\", \"x\": [\"travel\", \"entertainment\", \"health\", \"kids\"], \"xaxis\": \"x\", \"y\": [50, 28, 11, 5], \"yaxis\": \"y\"}, {\"alignmentgroup\": \"True\", \"hoverlabel\": {\"namelength\": 0}, \"hovertemplate\": \"Sub Category=newsbusiness<br>Category=%{x}<br>Values=%{y}\", \"legendgroup\": \"Sub Category=newsbusiness\", \"marker\": {\"color\": \"#FECB52\"}, \"name\": \"Sub Category=newsbusiness\", \"offsetgroup\": \"Sub Category=newsbusiness\", \"orientation\": \"v\", \"showlegend\": true, \"textposition\": \"auto\", \"type\": \"bar\", \"x\": [\"news\"], \"xaxis\": \"x\", \"y\": [48], \"yaxis\": \"y\"}, {\"alignmentgroup\": \"True\", \"hoverlabel\": {\"namelength\": 0}, \"hovertemplate\": \"Sub Category=quickandeasy<br>Category=%{x}<br>Values=%{y}\", \"legendgroup\": \"Sub Category=quickandeasy\", \"marker\": {\"color\": \"#636efa\"}, \"name\": \"Sub Category=quickandeasy\", \"offsetgroup\": \"Sub Category=quickandeasy\", \"orientation\": \"v\", \"showlegend\": true, \"textposition\": \"auto\", \"type\": \"bar\", \"x\": [\"foodanddrink\"], \"xaxis\": \"x\", \"y\": [44], \"yaxis\": \"y\"}, {\"alignmentgroup\": \"True\", \"hoverlabel\": {\"namelength\": 0}, \"hovertemplate\": \"Sub Category=music-gallery<br>Category=%{x}<br>Values=%{y}\", \"legendgroup\": \"Sub Category=music-gallery\", \"marker\": {\"color\": \"#EF553B\"}, \"name\": \"Sub Category=music-gallery\", \"offsetgroup\": \"Sub Category=music-gallery\", \"orientation\": \"v\", \"showlegend\": true, \"textposition\": \"auto\", \"type\": \"bar\", \"x\": [\"music\"], \"xaxis\": \"x\", \"y\": [43], \"yaxis\": \"y\"}, {\"alignmentgroup\": \"True\", \"hoverlabel\": {\"namelength\": 0}, \"hovertemplate\": \"Sub Category=tvvideos<br>Category=%{x}<br>Values=%{y}\", \"legendgroup\": \"Sub Category=tvvideos\", \"marker\": {\"color\": \"#00cc96\"}, \"name\": \"Sub Category=tvvideos\", \"offsetgroup\": \"Sub Category=tvvideos\", \"orientation\": \"v\", \"showlegend\": true, \"textposition\": \"auto\", \"type\": \"bar\", \"x\": [\"tv\"], \"xaxis\": \"x\", \"y\": [39], \"yaxis\": \"y\"}, {\"alignmentgroup\": \"True\", \"hoverlabel\": {\"namelength\": 0}, \"hovertemplate\": \"Sub Category=factcheck<br>Category=%{x}<br>Values=%{y}\", \"legendgroup\": \"Sub Category=factcheck\", \"marker\": {\"color\": \"#ab63fa\"}, \"name\": \"Sub Category=factcheck\", \"offsetgroup\": \"Sub Category=factcheck\", \"orientation\": \"v\", \"showlegend\": true, \"textposition\": \"auto\", \"type\": \"bar\", \"x\": [\"news\"], \"xaxis\": \"x\", \"y\": [39], \"yaxis\": \"y\"}, {\"alignmentgroup\": \"True\", \"hoverlabel\": {\"namelength\": 0}, \"hovertemplate\": \"Sub Category=baseball_mlb_videos<br>Category=%{x}<br>Values=%{y}\", \"legendgroup\": \"Sub Category=baseball_mlb_videos\", \"marker\": {\"color\": \"#FFA15A\"}, \"name\": \"Sub Category=baseball_mlb_videos\", \"offsetgroup\": \"Sub Category=baseball_mlb_videos\", \"orientation\": \"v\", \"showlegend\": true, \"textposition\": \"auto\", \"type\": \"bar\", \"x\": [\"sports\"], \"xaxis\": \"x\", \"y\": [36], \"yaxis\": \"y\"}, {\"alignmentgroup\": \"True\", \"hoverlabel\": {\"namelength\": 0}, \"hovertemplate\": \"Sub Category=healthnews<br>Category=%{x}<br>Values=%{y}\", \"legendgroup\": \"Sub Category=healthnews\", \"marker\": {\"color\": \"#19d3f3\"}, \"name\": \"Sub Category=healthnews\", \"offsetgroup\": \"Sub Category=healthnews\", \"orientation\": \"v\", \"showlegend\": true, \"textposition\": \"auto\", \"type\": \"bar\", \"x\": [\"health\"], \"xaxis\": \"x\", \"y\": [36], \"yaxis\": \"y\"}, {\"alignmentgroup\": \"True\", \"hoverlabel\": {\"namelength\": 0}, \"hovertemplate\": \"Sub Category=finance-taxes<br>Category=%{x}<br>Values=%{y}\", \"legendgroup\": \"Sub Category=finance-taxes\", \"marker\": {\"color\": \"#FF6692\"}, \"name\": \"Sub Category=finance-taxes\", \"offsetgroup\": \"Sub Category=finance-taxes\", \"orientation\": \"v\", \"showlegend\": true, \"textposition\": \"auto\", \"type\": \"bar\", \"x\": [\"finance\"], \"xaxis\": \"x\", \"y\": [36], \"yaxis\": \"y\"}, {\"alignmentgroup\": \"True\", \"hoverlabel\": {\"namelength\": 0}, \"hovertemplate\": \"Sub Category=autostrucks<br>Category=%{x}<br>Values=%{y}\", \"legendgroup\": \"Sub Category=autostrucks\", \"marker\": {\"color\": \"#B6E880\"}, \"name\": \"Sub Category=autostrucks\", \"offsetgroup\": \"Sub Category=autostrucks\", \"orientation\": \"v\", \"showlegend\": true, \"textposition\": \"auto\", \"type\": \"bar\", \"x\": [\"autos\"], \"xaxis\": \"x\", \"y\": [36], \"yaxis\": \"y\"}, {\"alignmentgroup\": \"True\", \"hoverlabel\": {\"namelength\": 0}, \"hovertemplate\": \"Sub Category=cma-awards<br>Category=%{x}<br>Values=%{y}\", \"legendgroup\": \"Sub Category=cma-awards\", \"marker\": {\"color\": \"#FF97FF\"}, \"name\": \"Sub Category=cma-awards\", \"offsetgroup\": \"Sub Category=cma-awards\", \"orientation\": \"v\", \"showlegend\": true, \"textposition\": \"auto\", \"type\": \"bar\", \"x\": [\"music\"], \"xaxis\": \"x\", \"y\": [36], \"yaxis\": \"y\"}, {\"alignmentgroup\": \"True\", \"hoverlabel\": {\"namelength\": 0}, \"hovertemplate\": \"Sub Category=football_ncaa_videos<br>Category=%{x}<br>Values=%{y}\", \"legendgroup\": \"Sub Category=football_ncaa_videos\", \"marker\": {\"color\": \"#FECB52\"}, \"name\": \"Sub Category=football_ncaa_videos\", \"offsetgroup\": \"Sub Category=football_ncaa_videos\", \"orientation\": \"v\", \"showlegend\": true, \"textposition\": \"auto\", \"type\": \"bar\", \"x\": [\"sports\"], \"xaxis\": \"x\", \"y\": [34], \"yaxis\": \"y\"}, {\"alignmentgroup\": \"True\", \"hoverlabel\": {\"namelength\": 0}, \"hovertemplate\": \"Sub Category=soccer_mls<br>Category=%{x}<br>Values=%{y}\", \"legendgroup\": \"Sub Category=soccer_mls\", \"marker\": {\"color\": \"#636efa\"}, \"name\": \"Sub Category=soccer_mls\", \"offsetgroup\": \"Sub Category=soccer_mls\", \"orientation\": \"v\", \"showlegend\": true, \"textposition\": \"auto\", \"type\": \"bar\", \"x\": [\"sports\"], \"xaxis\": \"x\", \"y\": [34], \"yaxis\": \"y\"}, {\"alignmentgroup\": \"True\", \"hoverlabel\": {\"namelength\": 0}, \"hovertemplate\": \"Sub Category=lifestylehoroscope<br>Category=%{x}<br>Values=%{y}\", \"legendgroup\": \"Sub Category=lifestylehoroscope\", \"marker\": {\"color\": \"#EF553B\"}, \"name\": \"Sub Category=lifestylehoroscope\", \"offsetgroup\": \"Sub Category=lifestylehoroscope\", \"orientation\": \"v\", \"showlegend\": true, \"textposition\": \"auto\", \"type\": \"bar\", \"x\": [\"lifestyle\"], \"xaxis\": \"x\", \"y\": [33], \"yaxis\": \"y\"}, {\"alignmentgroup\": \"True\", \"hoverlabel\": {\"namelength\": 0}, \"hovertemplate\": \"Sub Category=lifestylerelationships<br>Category=%{x}<br>Values=%{y}\", \"legendgroup\": \"Sub Category=lifestylerelationships\", \"marker\": {\"color\": \"#00cc96\"}, \"name\": \"Sub Category=lifestylerelationships\", \"offsetgroup\": \"Sub Category=lifestylerelationships\", \"orientation\": \"v\", \"showlegend\": true, \"textposition\": \"auto\", \"type\": \"bar\", \"x\": [\"lifestyle\"], \"xaxis\": \"x\", \"y\": [32], \"yaxis\": \"y\"}, {\"alignmentgroup\": \"True\", \"hoverlabel\": {\"namelength\": 0}, \"hovertemplate\": \"Sub Category=autosbuying<br>Category=%{x}<br>Values=%{y}\", \"legendgroup\": \"Sub Category=autosbuying\", \"marker\": {\"color\": \"#ab63fa\"}, \"name\": \"Sub Category=autosbuying\", \"offsetgroup\": \"Sub Category=autosbuying\", \"orientation\": \"v\", \"showlegend\": true, \"textposition\": \"auto\", \"type\": \"bar\", \"x\": [\"autos\"], \"xaxis\": \"x\", \"y\": [32], \"yaxis\": \"y\"}, {\"alignmentgroup\": \"True\", \"hoverlabel\": {\"namelength\": 0}, \"hovertemplate\": \"Sub Category=shop-all<br>Category=%{x}<br>Values=%{y}\", \"legendgroup\": \"Sub Category=shop-all\", \"marker\": {\"color\": \"#FFA15A\"}, \"name\": \"Sub Category=shop-all\", \"offsetgroup\": \"Sub Category=shop-all\", \"orientation\": \"v\", \"showlegend\": true, \"textposition\": \"auto\", \"type\": \"bar\", \"x\": [\"lifestyle\"], \"xaxis\": \"x\", \"y\": [31], \"yaxis\": \"y\"}, {\"alignmentgroup\": \"True\", \"hoverlabel\": {\"namelength\": 0}, \"hovertemplate\": \"Sub Category=lifestylecareer<br>Category=%{x}<br>Values=%{y}\", \"legendgroup\": \"Sub Category=lifestylecareer\", \"marker\": {\"color\": \"#19d3f3\"}, \"name\": \"Sub Category=lifestylecareer\", \"offsetgroup\": \"Sub Category=lifestylecareer\", \"orientation\": \"v\", \"showlegend\": true, \"textposition\": \"auto\", \"type\": \"bar\", \"x\": [\"lifestyle\"], \"xaxis\": \"x\", \"y\": [30], \"yaxis\": \"y\"}, {\"alignmentgroup\": \"True\", \"hoverlabel\": {\"namelength\": 0}, \"hovertemplate\": \"Sub Category=finance-small-business<br>Category=%{x}<br>Values=%{y}\", \"legendgroup\": \"Sub Category=finance-small-business\", \"marker\": {\"color\": \"#FF6692\"}, \"name\": \"Sub Category=finance-small-business\", \"offsetgroup\": \"Sub Category=finance-small-business\", \"orientation\": \"v\", \"showlegend\": true, \"textposition\": \"auto\", \"type\": \"bar\", \"x\": [\"finance\"], \"xaxis\": \"x\", \"y\": [30], \"yaxis\": \"y\"}, {\"alignmentgroup\": \"True\", \"hoverlabel\": {\"namelength\": 0}, \"hovertemplate\": \"Sub Category=lifestylebeauty<br>Category=%{x}<br>Values=%{y}\", \"legendgroup\": \"Sub Category=lifestylebeauty\", \"marker\": {\"color\": \"#B6E880\"}, \"name\": \"Sub Category=lifestylebeauty\", \"offsetgroup\": \"Sub Category=lifestylebeauty\", \"orientation\": \"v\", \"showlegend\": true, \"textposition\": \"auto\", \"type\": \"bar\", \"x\": [\"lifestyle\"], \"xaxis\": \"x\", \"y\": [30], \"yaxis\": \"y\"}, {\"alignmentgroup\": \"True\", \"hoverlabel\": {\"namelength\": 0}, \"hovertemplate\": \"Sub Category=lifestylefamilyandrelationships<br>Category=%{x}<br>Values=%{y}\", \"legendgroup\": \"Sub Category=lifestylefamilyandrelationships\", \"marker\": {\"color\": \"#FF97FF\"}, \"name\": \"Sub Category=lifestylefamilyandrelationships\", \"offsetgroup\": \"Sub Category=lifestylefamilyandrelationships\", \"orientation\": \"v\", \"showlegend\": true, \"textposition\": \"auto\", \"type\": \"bar\", \"x\": [\"lifestyle\"], \"xaxis\": \"x\", \"y\": [28], \"yaxis\": \"y\"}, {\"alignmentgroup\": \"True\", \"hoverlabel\": {\"namelength\": 0}, \"hovertemplate\": \"Sub Category=lifestylemindandsoul<br>Category=%{x}<br>Values=%{y}\", \"legendgroup\": \"Sub Category=lifestylemindandsoul\", \"marker\": {\"color\": \"#FECB52\"}, \"name\": \"Sub Category=lifestylemindandsoul\", \"offsetgroup\": \"Sub Category=lifestylemindandsoul\", \"orientation\": \"v\", \"showlegend\": true, \"textposition\": \"auto\", \"type\": \"bar\", \"x\": [\"lifestyle\"], \"xaxis\": \"x\", \"y\": [27], \"yaxis\": \"y\"}, {\"alignmentgroup\": \"True\", \"hoverlabel\": {\"namelength\": 0}, \"hovertemplate\": \"Sub Category=lifestyleparenting<br>Category=%{x}<br>Values=%{y}\", \"legendgroup\": \"Sub Category=lifestyleparenting\", \"marker\": {\"color\": \"#636efa\"}, \"name\": \"Sub Category=lifestyleparenting\", \"offsetgroup\": \"Sub Category=lifestyleparenting\", \"orientation\": \"v\", \"showlegend\": true, \"textposition\": \"auto\", \"type\": \"bar\", \"x\": [\"lifestyle\"], \"xaxis\": \"x\", \"y\": [26], \"yaxis\": \"y\"}, {\"alignmentgroup\": \"True\", \"hoverlabel\": {\"namelength\": 0}, \"hovertemplate\": \"Sub Category=music-awards<br>Category=%{x}<br>Values=%{y}\", \"legendgroup\": \"Sub Category=music-awards\", \"marker\": {\"color\": \"#EF553B\"}, \"name\": \"Sub Category=music-awards\", \"offsetgroup\": \"Sub Category=music-awards\", \"orientation\": \"v\", \"showlegend\": true, \"textposition\": \"auto\", \"type\": \"bar\", \"x\": [\"music\"], \"xaxis\": \"x\", \"y\": [25], \"yaxis\": \"y\"}, {\"alignmentgroup\": \"True\", \"hoverlabel\": {\"namelength\": 0}, \"hovertemplate\": \"Sub Category=awards<br>Category=%{x}<br>Values=%{y}\", \"legendgroup\": \"Sub Category=awards\", \"marker\": {\"color\": \"#00cc96\"}, \"name\": \"Sub Category=awards\", \"offsetgroup\": \"Sub Category=awards\", \"orientation\": \"v\", \"showlegend\": true, \"textposition\": \"auto\", \"type\": \"bar\", \"x\": [\"entertainment\"], \"xaxis\": \"x\", \"y\": [24], \"yaxis\": \"y\"}, {\"alignmentgroup\": \"True\", \"hoverlabel\": {\"namelength\": 0}, \"hovertemplate\": \"Sub Category=advice<br>Category=%{x}<br>Values=%{y}\", \"legendgroup\": \"Sub Category=advice\", \"marker\": {\"color\": \"#ab63fa\"}, \"name\": \"Sub Category=advice\", \"offsetgroup\": \"Sub Category=advice\", \"orientation\": \"v\", \"showlegend\": true, \"textposition\": \"auto\", \"type\": \"bar\", \"x\": [\"lifestyle\"], \"xaxis\": \"x\", \"y\": [24], \"yaxis\": \"y\"}, {\"alignmentgroup\": \"True\", \"hoverlabel\": {\"namelength\": 0}, \"hovertemplate\": \"Sub Category=autosownership<br>Category=%{x}<br>Values=%{y}\", \"legendgroup\": \"Sub Category=autosownership\", \"marker\": {\"color\": \"#FFA15A\"}, \"name\": \"Sub Category=autosownership\", \"offsetgroup\": \"Sub Category=autosownership\", \"orientation\": \"v\", \"showlegend\": true, \"textposition\": \"auto\", \"type\": \"bar\", \"x\": [\"autos\"], \"xaxis\": \"x\", \"y\": [23], \"yaxis\": \"y\"}, {\"alignmentgroup\": \"True\", \"hoverlabel\": {\"namelength\": 0}, \"hovertemplate\": \"Sub Category=soccer_epl<br>Category=%{x}<br>Values=%{y}\", \"legendgroup\": \"Sub Category=soccer_epl\", \"marker\": {\"color\": \"#19d3f3\"}, \"name\": \"Sub Category=soccer_epl\", \"offsetgroup\": \"Sub Category=soccer_epl\", \"orientation\": \"v\", \"showlegend\": true, \"textposition\": \"auto\", \"type\": \"bar\", \"x\": [\"sports\"], \"xaxis\": \"x\", \"y\": [23], \"yaxis\": \"y\"}, {\"alignmentgroup\": \"True\", \"hoverlabel\": {\"namelength\": 0}, \"hovertemplate\": \"Sub Category=lifestylecleaningandorganizing<br>Category=%{x}<br>Values=%{y}\", \"legendgroup\": \"Sub Category=lifestylecleaningandorganizing\", \"marker\": {\"color\": \"#FF6692\"}, \"name\": \"Sub Category=lifestylecleaningandorganizing\", \"offsetgroup\": \"Sub Category=lifestylecleaningandorganizing\", \"orientation\": \"v\", \"showlegend\": true, \"textposition\": \"auto\", \"type\": \"bar\", \"x\": [\"lifestyle\"], \"xaxis\": \"x\", \"y\": [23], \"yaxis\": \"y\"}, {\"alignmentgroup\": \"True\", \"hoverlabel\": {\"namelength\": 0}, \"hovertemplate\": \"Sub Category=newsphotos<br>Category=%{x}<br>Values=%{y}\", \"legendgroup\": \"Sub Category=newsphotos\", \"marker\": {\"color\": \"#B6E880\"}, \"name\": \"Sub Category=newsphotos\", \"offsetgroup\": \"Sub Category=newsphotos\", \"orientation\": \"v\", \"showlegend\": true, \"textposition\": \"auto\", \"type\": \"bar\", \"x\": [\"news\"], \"xaxis\": \"x\", \"y\": [22], \"yaxis\": \"y\"}, {\"alignmentgroup\": \"True\", \"hoverlabel\": {\"namelength\": 0}, \"hovertemplate\": \"Sub Category=finance-technology<br>Category=%{x}<br>Values=%{y}\", \"legendgroup\": \"Sub Category=finance-technology\", \"marker\": {\"color\": \"#FF97FF\"}, \"name\": \"Sub Category=finance-technology\", \"offsetgroup\": \"Sub Category=finance-technology\", \"orientation\": \"v\", \"showlegend\": true, \"textposition\": \"auto\", \"type\": \"bar\", \"x\": [\"finance\"], \"xaxis\": \"x\", \"y\": [20], \"yaxis\": \"y\"}, {\"alignmentgroup\": \"True\", \"hoverlabel\": {\"namelength\": 0}, \"hovertemplate\": \"Sub Category=autossema<br>Category=%{x}<br>Values=%{y}\", \"legendgroup\": \"Sub Category=autossema\", \"marker\": {\"color\": \"#FECB52\"}, \"name\": \"Sub Category=autossema\", \"offsetgroup\": \"Sub Category=autossema\", \"orientation\": \"v\", \"showlegend\": true, \"textposition\": \"auto\", \"type\": \"bar\", \"x\": [\"autos\"], \"xaxis\": \"x\", \"y\": [19], \"yaxis\": \"y\"}, {\"alignmentgroup\": \"True\", \"hoverlabel\": {\"namelength\": 0}, \"hovertemplate\": \"Sub Category=outdoors<br>Category=%{x}<br>Values=%{y}\", \"legendgroup\": \"Sub Category=outdoors\", \"marker\": {\"color\": \"#636efa\"}, \"name\": \"Sub Category=outdoors\", \"offsetgroup\": \"Sub Category=outdoors\", \"orientation\": \"v\", \"showlegend\": true, \"textposition\": \"auto\", \"type\": \"bar\", \"x\": [\"sports\"], \"xaxis\": \"x\", \"y\": [18], \"yaxis\": \"y\"}, {\"alignmentgroup\": \"True\", \"hoverlabel\": {\"namelength\": 0}, \"hovertemplate\": \"Sub Category=finance-career<br>Category=%{x}<br>Values=%{y}\", \"legendgroup\": \"Sub Category=finance-career\", \"marker\": {\"color\": \"#EF553B\"}, \"name\": \"Sub Category=finance-career\", \"offsetgroup\": \"Sub Category=finance-career\", \"orientation\": \"v\", \"showlegend\": true, \"textposition\": \"auto\", \"type\": \"bar\", \"x\": [\"finance\"], \"xaxis\": \"x\", \"y\": [18], \"yaxis\": \"y\"}, {\"alignmentgroup\": \"True\", \"hoverlabel\": {\"namelength\": 0}, \"hovertemplate\": \"Sub Category=autosluxury<br>Category=%{x}<br>Values=%{y}\", \"legendgroup\": \"Sub Category=autosluxury\", \"marker\": {\"color\": \"#00cc96\"}, \"name\": \"Sub Category=autosluxury\", \"offsetgroup\": \"Sub Category=autosluxury\", \"orientation\": \"v\", \"showlegend\": true, \"textposition\": \"auto\", \"type\": \"bar\", \"x\": [\"autos\"], \"xaxis\": \"x\", \"y\": [18], \"yaxis\": \"y\"}, {\"alignmentgroup\": \"True\", \"hoverlabel\": {\"namelength\": 0}, \"hovertemplate\": \"Sub Category=newsfactcheck<br>Category=%{x}<br>Values=%{y}\", \"legendgroup\": \"Sub Category=newsfactcheck\", \"marker\": {\"color\": \"#ab63fa\"}, \"name\": \"Sub Category=newsfactcheck\", \"offsetgroup\": \"Sub Category=newsfactcheck\", \"orientation\": \"v\", \"showlegend\": true, \"textposition\": \"auto\", \"type\": \"bar\", \"x\": [\"news\"], \"xaxis\": \"x\", \"y\": [17], \"yaxis\": \"y\"}, {\"alignmentgroup\": \"True\", \"hoverlabel\": {\"namelength\": 0}, \"hovertemplate\": \"Sub Category=musicvideos<br>Category=%{x}<br>Values=%{y}\", \"legendgroup\": \"Sub Category=musicvideos\", \"marker\": {\"color\": \"#FFA15A\"}, \"name\": \"Sub Category=musicvideos\", \"offsetgroup\": \"Sub Category=musicvideos\", \"orientation\": \"v\", \"showlegend\": true, \"textposition\": \"auto\", \"type\": \"bar\", \"x\": [\"music\"], \"xaxis\": \"x\", \"y\": [17], \"yaxis\": \"y\"}, {\"alignmentgroup\": \"True\", \"hoverlabel\": {\"namelength\": 0}, \"hovertemplate\": \"Sub Category=shop-apparel<br>Category=%{x}<br>Values=%{y}\", \"legendgroup\": \"Sub Category=shop-apparel\", \"marker\": {\"color\": \"#19d3f3\"}, \"name\": \"Sub Category=shop-apparel\", \"offsetgroup\": \"Sub Category=shop-apparel\", \"orientation\": \"v\", \"showlegend\": true, \"textposition\": \"auto\", \"type\": \"bar\", \"x\": [\"lifestyle\"], \"xaxis\": \"x\", \"y\": [16], \"yaxis\": \"y\"}, {\"alignmentgroup\": \"True\", \"hoverlabel\": {\"namelength\": 0}, \"hovertemplate\": \"Sub Category=finance-credit<br>Category=%{x}<br>Values=%{y}\", \"legendgroup\": \"Sub Category=finance-credit\", \"marker\": {\"color\": \"#FF6692\"}, \"name\": \"Sub Category=finance-credit\", \"offsetgroup\": \"Sub Category=finance-credit\", \"orientation\": \"v\", \"showlegend\": true, \"textposition\": \"auto\", \"type\": \"bar\", \"x\": [\"finance\"], \"xaxis\": \"x\", \"y\": [16], \"yaxis\": \"y\"}, {\"alignmentgroup\": \"True\", \"hoverlabel\": {\"namelength\": 0}, \"hovertemplate\": \"Sub Category=tv-recaps<br>Category=%{x}<br>Values=%{y}\", \"legendgroup\": \"Sub Category=tv-recaps\", \"marker\": {\"color\": \"#B6E880\"}, \"name\": \"Sub Category=tv-recaps\", \"offsetgroup\": \"Sub Category=tv-recaps\", \"orientation\": \"v\", \"showlegend\": true, \"textposition\": \"auto\", \"type\": \"bar\", \"x\": [\"tv\"], \"xaxis\": \"x\", \"y\": [16], \"yaxis\": \"y\"}, {\"alignmentgroup\": \"True\", \"hoverlabel\": {\"namelength\": 0}, \"hovertemplate\": \"Sub Category=autosresearchguides<br>Category=%{x}<br>Values=%{y}\", \"legendgroup\": \"Sub Category=autosresearchguides\", \"marker\": {\"color\": \"#FF97FF\"}, \"name\": \"Sub Category=autosresearchguides\", \"offsetgroup\": \"Sub Category=autosresearchguides\", \"orientation\": \"v\", \"showlegend\": true, \"textposition\": \"auto\", \"type\": \"bar\", \"x\": [\"autos\"], \"xaxis\": \"x\", \"y\": [16], \"yaxis\": \"y\"}, {\"alignmentgroup\": \"True\", \"hoverlabel\": {\"namelength\": 0}, \"hovertemplate\": \"Sub Category=humor<br>Category=%{x}<br>Values=%{y}\", \"legendgroup\": \"Sub Category=humor\", \"marker\": {\"color\": \"#FECB52\"}, \"name\": \"Sub Category=humor\", \"offsetgroup\": \"Sub Category=humor\", \"orientation\": \"v\", \"showlegend\": true, \"textposition\": \"auto\", \"type\": \"bar\", \"x\": [\"tv\", \"entertainment\", \"music\"], \"xaxis\": \"x\", \"y\": [15, 4, 1], \"yaxis\": \"y\"}, {\"alignmentgroup\": \"True\", \"hoverlabel\": {\"namelength\": 0}, \"hovertemplate\": \"Sub Category=lifestylelovesex<br>Category=%{x}<br>Values=%{y}\", \"legendgroup\": \"Sub Category=lifestylelovesex\", \"marker\": {\"color\": \"#636efa\"}, \"name\": \"Sub Category=lifestylelovesex\", \"offsetgroup\": \"Sub Category=lifestylelovesex\", \"orientation\": \"v\", \"showlegend\": true, \"textposition\": \"auto\", \"type\": \"bar\", \"x\": [\"lifestyle\"], \"xaxis\": \"x\", \"y\": [15], \"yaxis\": \"y\"}, {\"alignmentgroup\": \"True\", \"hoverlabel\": {\"namelength\": 0}, \"hovertemplate\": \"Sub Category=finance-insurance<br>Category=%{x}<br>Values=%{y}\", \"legendgroup\": \"Sub Category=finance-insurance\", \"marker\": {\"color\": \"#EF553B\"}, \"name\": \"Sub Category=finance-insurance\", \"offsetgroup\": \"Sub Category=finance-insurance\", \"orientation\": \"v\", \"showlegend\": true, \"textposition\": \"auto\", \"type\": \"bar\", \"x\": [\"finance\"], \"xaxis\": \"x\", \"y\": [15], \"yaxis\": \"y\"}, {\"alignmentgroup\": \"True\", \"hoverlabel\": {\"namelength\": 0}, \"hovertemplate\": \"Sub Category=lifestylevideo<br>Category=%{x}<br>Values=%{y}\", \"legendgroup\": \"Sub Category=lifestylevideo\", \"marker\": {\"color\": \"#00cc96\"}, \"name\": \"Sub Category=lifestylevideo\", \"offsetgroup\": \"Sub Category=lifestylevideo\", \"orientation\": \"v\", \"showlegend\": true, \"textposition\": \"auto\", \"type\": \"bar\", \"x\": [\"lifestyle\"], \"xaxis\": \"x\", \"y\": [15], \"yaxis\": \"y\"}, {\"alignmentgroup\": \"True\", \"hoverlabel\": {\"namelength\": 0}, \"hovertemplate\": \"Sub Category=newsscience<br>Category=%{x}<br>Values=%{y}\", \"legendgroup\": \"Sub Category=newsscience\", \"marker\": {\"color\": \"#ab63fa\"}, \"name\": \"Sub Category=newsscience\", \"offsetgroup\": \"Sub Category=newsscience\", \"orientation\": \"v\", \"showlegend\": true, \"textposition\": \"auto\", \"type\": \"bar\", \"x\": [\"news\"], \"xaxis\": \"x\", \"y\": [15], \"yaxis\": \"y\"}, {\"alignmentgroup\": \"True\", \"hoverlabel\": {\"namelength\": 0}, \"hovertemplate\": \"Sub Category=basketball_ncaa_videos<br>Category=%{x}<br>Values=%{y}\", \"legendgroup\": \"Sub Category=basketball_ncaa_videos\", \"marker\": {\"color\": \"#FFA15A\"}, \"name\": \"Sub Category=basketball_ncaa_videos\", \"offsetgroup\": \"Sub Category=basketball_ncaa_videos\", \"orientation\": \"v\", \"showlegend\": true, \"textposition\": \"auto\", \"type\": \"bar\", \"x\": [\"sports\"], \"xaxis\": \"x\", \"y\": [14], \"yaxis\": \"y\"}, {\"alignmentgroup\": \"True\", \"hoverlabel\": {\"namelength\": 0}, \"hovertemplate\": \"Sub Category=finance-healthcare<br>Category=%{x}<br>Values=%{y}\", \"legendgroup\": \"Sub Category=finance-healthcare\", \"marker\": {\"color\": \"#19d3f3\"}, \"name\": \"Sub Category=finance-healthcare\", \"offsetgroup\": \"Sub Category=finance-healthcare\", \"orientation\": \"v\", \"showlegend\": true, \"textposition\": \"auto\", \"type\": \"bar\", \"x\": [\"finance\"], \"xaxis\": \"x\", \"y\": [14], \"yaxis\": \"y\"}, {\"alignmentgroup\": \"True\", \"hoverlabel\": {\"namelength\": 0}, \"hovertemplate\": \"Sub Category=lifestyle-news-feature<br>Category=%{x}<br>Values=%{y}\", \"legendgroup\": \"Sub Category=lifestyle-news-feature\", \"marker\": {\"color\": \"#FF6692\"}, \"name\": \"Sub Category=lifestyle-news-feature\", \"offsetgroup\": \"Sub Category=lifestyle-news-feature\", \"orientation\": \"v\", \"showlegend\": true, \"textposition\": \"auto\", \"type\": \"bar\", \"x\": [\"lifestyle\"], \"xaxis\": \"x\", \"y\": [14], \"yaxis\": \"y\"}, {\"alignmentgroup\": \"True\", \"hoverlabel\": {\"namelength\": 0}, \"hovertemplate\": \"Sub Category=lifestylefashion<br>Category=%{x}<br>Values=%{y}\", \"legendgroup\": \"Sub Category=lifestylefashion\", \"marker\": {\"color\": \"#B6E880\"}, \"name\": \"Sub Category=lifestylefashion\", \"offsetgroup\": \"Sub Category=lifestylefashion\", \"orientation\": \"v\", \"showlegend\": true, \"textposition\": \"auto\", \"type\": \"bar\", \"x\": [\"lifestyle\"], \"xaxis\": \"x\", \"y\": [14], \"yaxis\": \"y\"}, {\"alignmentgroup\": \"True\", \"hoverlabel\": {\"namelength\": 0}, \"hovertemplate\": \"Sub Category=wines<br>Category=%{x}<br>Values=%{y}\", \"legendgroup\": \"Sub Category=wines\", \"marker\": {\"color\": \"#FF97FF\"}, \"name\": \"Sub Category=wines\", \"offsetgroup\": \"Sub Category=wines\", \"orientation\": \"v\", \"showlegend\": true, \"textposition\": \"auto\", \"type\": \"bar\", \"x\": [\"foodanddrink\"], \"xaxis\": \"x\", \"y\": [13], \"yaxis\": \"y\"}, {\"alignmentgroup\": \"True\", \"hoverlabel\": {\"namelength\": 0}, \"hovertemplate\": \"Sub Category=autosresearch<br>Category=%{x}<br>Values=%{y}\", \"legendgroup\": \"Sub Category=autosresearch\", \"marker\": {\"color\": \"#FECB52\"}, \"name\": \"Sub Category=autosresearch\", \"offsetgroup\": \"Sub Category=autosresearch\", \"orientation\": \"v\", \"showlegend\": true, \"textposition\": \"auto\", \"type\": \"bar\", \"x\": [\"autos\"], \"xaxis\": \"x\", \"y\": [13], \"yaxis\": \"y\"}, {\"alignmentgroup\": \"True\", \"hoverlabel\": {\"namelength\": 0}, \"hovertemplate\": \"Sub Category=finance-billstopay<br>Category=%{x}<br>Values=%{y}\", \"legendgroup\": \"Sub Category=finance-billstopay\", \"marker\": {\"color\": \"#636efa\"}, \"name\": \"Sub Category=finance-billstopay\", \"offsetgroup\": \"Sub Category=finance-billstopay\", \"orientation\": \"v\", \"showlegend\": true, \"textposition\": \"auto\", \"type\": \"bar\", \"x\": [\"finance\"], \"xaxis\": \"x\", \"y\": [12], \"yaxis\": \"y\"}, {\"alignmentgroup\": \"True\", \"hoverlabel\": {\"namelength\": 0}, \"hovertemplate\": \"Sub Category=movies-awards<br>Category=%{x}<br>Values=%{y}\", \"legendgroup\": \"Sub Category=movies-awards\", \"marker\": {\"color\": \"#EF553B\"}, \"name\": \"Sub Category=movies-awards\", \"offsetgroup\": \"Sub Category=movies-awards\", \"orientation\": \"v\", \"showlegend\": true, \"textposition\": \"auto\", \"type\": \"bar\", \"x\": [\"movies\"], \"xaxis\": \"x\", \"y\": [12], \"yaxis\": \"y\"}, {\"alignmentgroup\": \"True\", \"hoverlabel\": {\"namelength\": 0}, \"hovertemplate\": \"Sub Category=awardstyle<br>Category=%{x}<br>Values=%{y}\", \"legendgroup\": \"Sub Category=awardstyle\", \"marker\": {\"color\": \"#00cc96\"}, \"name\": \"Sub Category=awardstyle\", \"offsetgroup\": \"Sub Category=awardstyle\", \"orientation\": \"v\", \"showlegend\": true, \"textposition\": \"auto\", \"type\": \"bar\", \"x\": [\"lifestyle\"], \"xaxis\": \"x\", \"y\": [12], \"yaxis\": \"y\"}, {\"alignmentgroup\": \"True\", \"hoverlabel\": {\"namelength\": 0}, \"hovertemplate\": \"Sub Category=lifestylediy<br>Category=%{x}<br>Values=%{y}\", \"legendgroup\": \"Sub Category=lifestylediy\", \"marker\": {\"color\": \"#ab63fa\"}, \"name\": \"Sub Category=lifestylediy\", \"offsetgroup\": \"Sub Category=lifestylediy\", \"orientation\": \"v\", \"showlegend\": true, \"textposition\": \"auto\", \"type\": \"bar\", \"x\": [\"lifestyle\"], \"xaxis\": \"x\", \"y\": [12], \"yaxis\": \"y\"}, {\"alignmentgroup\": \"True\", \"hoverlabel\": {\"namelength\": 0}, \"hovertemplate\": \"Sub Category=lifestyleweddings<br>Category=%{x}<br>Values=%{y}\", \"legendgroup\": \"Sub Category=lifestyleweddings\", \"marker\": {\"color\": \"#FFA15A\"}, \"name\": \"Sub Category=lifestyleweddings\", \"offsetgroup\": \"Sub Category=lifestyleweddings\", \"orientation\": \"v\", \"showlegend\": true, \"textposition\": \"auto\", \"type\": \"bar\", \"x\": [\"lifestyle\"], \"xaxis\": \"x\", \"y\": [11], \"yaxis\": \"y\"}, {\"alignmentgroup\": \"True\", \"hoverlabel\": {\"namelength\": 0}, \"hovertemplate\": \"Sub Category=ads-lung-health<br>Category=%{x}<br>Values=%{y}\", \"legendgroup\": \"Sub Category=ads-lung-health\", \"marker\": {\"color\": \"#19d3f3\"}, \"name\": \"Sub Category=ads-lung-health\", \"offsetgroup\": \"Sub Category=ads-lung-health\", \"orientation\": \"v\", \"showlegend\": true, \"textposition\": \"auto\", \"type\": \"bar\", \"x\": [\"health\"], \"xaxis\": \"x\", \"y\": [11], \"yaxis\": \"y\"}, {\"alignmentgroup\": \"True\", \"hoverlabel\": {\"namelength\": 0}, \"hovertemplate\": \"Sub Category=causes<br>Category=%{x}<br>Values=%{y}\", \"legendgroup\": \"Sub Category=causes\", \"marker\": {\"color\": \"#FF6692\"}, \"name\": \"Sub Category=causes\", \"offsetgroup\": \"Sub Category=causes\", \"orientation\": \"v\", \"showlegend\": true, \"textposition\": \"auto\", \"type\": \"bar\", \"x\": [\"lifestyle\", \"health\", \"finance\", \"news\"], \"xaxis\": \"x\", \"y\": [11, 8, 3, 2], \"yaxis\": \"y\"}, {\"alignmentgroup\": \"True\", \"hoverlabel\": {\"namelength\": 0}, \"hovertemplate\": \"Sub Category=newsweather<br>Category=%{x}<br>Values=%{y}\", \"legendgroup\": \"Sub Category=newsweather\", \"marker\": {\"color\": \"#B6E880\"}, \"name\": \"Sub Category=newsweather\", \"offsetgroup\": \"Sub Category=newsweather\", \"orientation\": \"v\", \"showlegend\": true, \"textposition\": \"auto\", \"type\": \"bar\", \"x\": [\"news\"], \"xaxis\": \"x\", \"y\": [11], \"yaxis\": \"y\"}, {\"alignmentgroup\": \"True\", \"hoverlabel\": {\"namelength\": 0}, \"hovertemplate\": \"Sub Category=finance-education<br>Category=%{x}<br>Values=%{y}\", \"legendgroup\": \"Sub Category=finance-education\", \"marker\": {\"color\": \"#FF97FF\"}, \"name\": \"Sub Category=finance-education\", \"offsetgroup\": \"Sub Category=finance-education\", \"orientation\": \"v\", \"showlegend\": true, \"textposition\": \"auto\", \"type\": \"bar\", \"x\": [\"finance\"], \"xaxis\": \"x\", \"y\": [10], \"yaxis\": \"y\"}, {\"alignmentgroup\": \"True\", \"hoverlabel\": {\"namelength\": 0}, \"hovertemplate\": \"Sub Category=boxing<br>Category=%{x}<br>Values=%{y}\", \"legendgroup\": \"Sub Category=boxing\", \"marker\": {\"color\": \"#FECB52\"}, \"name\": \"Sub Category=boxing\", \"offsetgroup\": \"Sub Category=boxing\", \"orientation\": \"v\", \"showlegend\": true, \"textposition\": \"auto\", \"type\": \"bar\", \"x\": [\"sports\"], \"xaxis\": \"x\", \"y\": [10], \"yaxis\": \"y\"}, {\"alignmentgroup\": \"True\", \"hoverlabel\": {\"namelength\": 0}, \"hovertemplate\": \"Sub Category=retirement<br>Category=%{x}<br>Values=%{y}\", \"legendgroup\": \"Sub Category=retirement\", \"marker\": {\"color\": \"#636efa\"}, \"name\": \"Sub Category=retirement\", \"offsetgroup\": \"Sub Category=retirement\", \"orientation\": \"v\", \"showlegend\": true, \"textposition\": \"auto\", \"type\": \"bar\", \"x\": [\"finance\"], \"xaxis\": \"x\", \"y\": [10], \"yaxis\": \"y\"}, {\"alignmentgroup\": \"True\", \"hoverlabel\": {\"namelength\": 0}, \"hovertemplate\": \"Sub Category=travel-points-rewards<br>Category=%{x}<br>Values=%{y}\", \"legendgroup\": \"Sub Category=travel-points-rewards\", \"marker\": {\"color\": \"#EF553B\"}, \"name\": \"Sub Category=travel-points-rewards\", \"offsetgroup\": \"Sub Category=travel-points-rewards\", \"orientation\": \"v\", \"showlegend\": true, \"textposition\": \"auto\", \"type\": \"bar\", \"x\": [\"travel\"], \"xaxis\": \"x\", \"y\": [10], \"yaxis\": \"y\"}, {\"alignmentgroup\": \"True\", \"hoverlabel\": {\"namelength\": 0}, \"hovertemplate\": \"Sub Category=mentalhealth<br>Category=%{x}<br>Values=%{y}\", \"legendgroup\": \"Sub Category=mentalhealth\", \"marker\": {\"color\": \"#00cc96\"}, \"name\": \"Sub Category=mentalhealth\", \"offsetgroup\": \"Sub Category=mentalhealth\", \"orientation\": \"v\", \"showlegend\": true, \"textposition\": \"auto\", \"type\": \"bar\", \"x\": [\"health\"], \"xaxis\": \"x\", \"y\": [9], \"yaxis\": \"y\"}, {\"alignmentgroup\": \"True\", \"hoverlabel\": {\"namelength\": 0}, \"hovertemplate\": \"Sub Category=basketball_nba_videos<br>Category=%{x}<br>Values=%{y}\", \"legendgroup\": \"Sub Category=basketball_nba_videos\", \"marker\": {\"color\": \"#ab63fa\"}, \"name\": \"Sub Category=basketball_nba_videos\", \"offsetgroup\": \"Sub Category=basketball_nba_videos\", \"orientation\": \"v\", \"showlegend\": true, \"textposition\": \"auto\", \"type\": \"bar\", \"x\": [\"sports\"], \"xaxis\": \"x\", \"y\": [9], \"yaxis\": \"y\"}, {\"alignmentgroup\": \"True\", \"hoverlabel\": {\"namelength\": 0}, \"hovertemplate\": \"Sub Category=pregnancyparenting<br>Category=%{x}<br>Values=%{y}\", \"legendgroup\": \"Sub Category=pregnancyparenting\", \"marker\": {\"color\": \"#FFA15A\"}, \"name\": \"Sub Category=pregnancyparenting\", \"offsetgroup\": \"Sub Category=pregnancyparenting\", \"orientation\": \"v\", \"showlegend\": true, \"textposition\": \"auto\", \"type\": \"bar\", \"x\": [\"health\", \"lifestyle\"], \"xaxis\": \"x\", \"y\": [8, 1], \"yaxis\": \"y\"}, {\"alignmentgroup\": \"True\", \"hoverlabel\": {\"namelength\": 0}, \"hovertemplate\": \"Sub Category=lifestyledecor<br>Category=%{x}<br>Values=%{y}\", \"legendgroup\": \"Sub Category=lifestyledecor\", \"marker\": {\"color\": \"#19d3f3\"}, \"name\": \"Sub Category=lifestyledecor\", \"offsetgroup\": \"Sub Category=lifestyledecor\", \"orientation\": \"v\", \"showlegend\": true, \"textposition\": \"auto\", \"type\": \"bar\", \"x\": [\"lifestyle\"], \"xaxis\": \"x\", \"y\": [8], \"yaxis\": \"y\"}, {\"alignmentgroup\": \"True\", \"hoverlabel\": {\"namelength\": 0}, \"hovertemplate\": \"Sub Category=newselection2020<br>Category=%{x}<br>Values=%{y}\", \"legendgroup\": \"Sub Category=newselection2020\", \"marker\": {\"color\": \"#FF6692\"}, \"name\": \"Sub Category=newselection2020\", \"offsetgroup\": \"Sub Category=newselection2020\", \"orientation\": \"v\", \"showlegend\": true, \"textposition\": \"auto\", \"type\": \"bar\", \"x\": [\"news\"], \"xaxis\": \"x\", \"y\": [8], \"yaxis\": \"y\"}, {\"alignmentgroup\": \"True\", \"hoverlabel\": {\"namelength\": 0}, \"hovertemplate\": \"Sub Category=ads-latingrammys<br>Category=%{x}<br>Values=%{y}\", \"legendgroup\": \"Sub Category=ads-latingrammys\", \"marker\": {\"color\": \"#B6E880\"}, \"name\": \"Sub Category=ads-latingrammys\", \"offsetgroup\": \"Sub Category=ads-latingrammys\", \"orientation\": \"v\", \"showlegend\": true, \"textposition\": \"auto\", \"type\": \"bar\", \"x\": [\"music\"], \"xaxis\": \"x\", \"y\": [7], \"yaxis\": \"y\"}, {\"alignmentgroup\": \"True\", \"hoverlabel\": {\"namelength\": 0}, \"hovertemplate\": \"Sub Category=autosvideonew<br>Category=%{x}<br>Values=%{y}\", \"legendgroup\": \"Sub Category=autosvideonew\", \"marker\": {\"color\": \"#FF97FF\"}, \"name\": \"Sub Category=autosvideonew\", \"offsetgroup\": \"Sub Category=autosvideonew\", \"orientation\": \"v\", \"showlegend\": true, \"textposition\": \"auto\", \"type\": \"bar\", \"x\": [\"autos\"], \"xaxis\": \"x\", \"y\": [7], \"yaxis\": \"y\"}, {\"alignmentgroup\": \"True\", \"hoverlabel\": {\"namelength\": 0}, \"hovertemplate\": \"Sub Category=boxing-mma<br>Category=%{x}<br>Values=%{y}\", \"legendgroup\": \"Sub Category=boxing-mma\", \"marker\": {\"color\": \"#FECB52\"}, \"name\": \"Sub Category=boxing-mma\", \"offsetgroup\": \"Sub Category=boxing-mma\", \"orientation\": \"v\", \"showlegend\": true, \"textposition\": \"auto\", \"type\": \"bar\", \"x\": [\"sports\"], \"xaxis\": \"x\", \"y\": [6], \"yaxis\": \"y\"}, {\"alignmentgroup\": \"True\", \"hoverlabel\": {\"namelength\": 0}, \"hovertemplate\": \"Sub Category=autostokyo<br>Category=%{x}<br>Values=%{y}\", \"legendgroup\": \"Sub Category=autostokyo\", \"marker\": {\"color\": \"#636efa\"}, \"name\": \"Sub Category=autostokyo\", \"offsetgroup\": \"Sub Category=autostokyo\", \"orientation\": \"v\", \"showlegend\": true, \"textposition\": \"auto\", \"type\": \"bar\", \"x\": [\"autos\"], \"xaxis\": \"x\", \"y\": [6], \"yaxis\": \"y\"}, {\"alignmentgroup\": \"True\", \"hoverlabel\": {\"namelength\": 0}, \"hovertemplate\": \"Sub Category=ustravel<br>Category=%{x}<br>Values=%{y}\", \"legendgroup\": \"Sub Category=ustravel\", \"marker\": {\"color\": \"#EF553B\"}, \"name\": \"Sub Category=ustravel\", \"offsetgroup\": \"Sub Category=ustravel\", \"orientation\": \"v\", \"showlegend\": true, \"textposition\": \"auto\", \"type\": \"bar\", \"x\": [\"travel\"], \"xaxis\": \"x\", \"y\": [6], \"yaxis\": \"y\"}, {\"alignmentgroup\": \"True\", \"hoverlabel\": {\"namelength\": 0}, \"hovertemplate\": \"Sub Category=weight-loss<br>Category=%{x}<br>Values=%{y}\", \"legendgroup\": \"Sub Category=weight-loss\", \"marker\": {\"color\": \"#00cc96\"}, \"name\": \"Sub Category=weight-loss\", \"offsetgroup\": \"Sub Category=weight-loss\", \"orientation\": \"v\", \"showlegend\": true, \"textposition\": \"auto\", \"type\": \"bar\", \"x\": [\"health\"], \"xaxis\": \"x\", \"y\": [6], \"yaxis\": \"y\"}, {\"alignmentgroup\": \"True\", \"hoverlabel\": {\"namelength\": 0}, \"hovertemplate\": \"Sub Category=autoshybrids<br>Category=%{x}<br>Values=%{y}\", \"legendgroup\": \"Sub Category=autoshybrids\", \"marker\": {\"color\": \"#ab63fa\"}, \"name\": \"Sub Category=autoshybrids\", \"offsetgroup\": \"Sub Category=autoshybrids\", \"orientation\": \"v\", \"showlegend\": true, \"textposition\": \"auto\", \"type\": \"bar\", \"x\": [\"autos\"], \"xaxis\": \"x\", \"y\": [6], \"yaxis\": \"y\"}, {\"alignmentgroup\": \"True\", \"hoverlabel\": {\"namelength\": 0}, \"hovertemplate\": \"Sub Category=internationaltravel<br>Category=%{x}<br>Values=%{y}\", \"legendgroup\": \"Sub Category=internationaltravel\", \"marker\": {\"color\": \"#FFA15A\"}, \"name\": \"Sub Category=internationaltravel\", \"offsetgroup\": \"Sub Category=internationaltravel\", \"orientation\": \"v\", \"showlegend\": true, \"textposition\": \"auto\", \"type\": \"bar\", \"x\": [\"travel\"], \"xaxis\": \"x\", \"y\": [5], \"yaxis\": \"y\"}, {\"alignmentgroup\": \"True\", \"hoverlabel\": {\"namelength\": 0}, \"hovertemplate\": \"Sub Category=movies-oscars<br>Category=%{x}<br>Values=%{y}\", \"legendgroup\": \"Sub Category=movies-oscars\", \"marker\": {\"color\": \"#19d3f3\"}, \"name\": \"Sub Category=movies-oscars\", \"offsetgroup\": \"Sub Category=movies-oscars\", \"orientation\": \"v\", \"showlegend\": true, \"textposition\": \"auto\", \"type\": \"bar\", \"x\": [\"movies\"], \"xaxis\": \"x\", \"y\": [5], \"yaxis\": \"y\"}, {\"alignmentgroup\": \"True\", \"hoverlabel\": {\"namelength\": 0}, \"hovertemplate\": \"Sub Category=wonder<br>Category=%{x}<br>Values=%{y}\", \"legendgroup\": \"Sub Category=wonder\", \"marker\": {\"color\": \"#FF6692\"}, \"name\": \"Sub Category=wonder\", \"offsetgroup\": \"Sub Category=wonder\", \"orientation\": \"v\", \"showlegend\": true, \"textposition\": \"auto\", \"type\": \"bar\", \"x\": [\"video\"], \"xaxis\": \"x\", \"y\": [5], \"yaxis\": \"y\"}, {\"alignmentgroup\": \"True\", \"hoverlabel\": {\"namelength\": 0}, \"hovertemplate\": \"Sub Category=causes-animals<br>Category=%{x}<br>Values=%{y}\", \"legendgroup\": \"Sub Category=causes-animals\", \"marker\": {\"color\": \"#B6E880\"}, \"name\": \"Sub Category=causes-animals\", \"offsetgroup\": \"Sub Category=causes-animals\", \"orientation\": \"v\", \"showlegend\": true, \"textposition\": \"auto\", \"type\": \"bar\", \"x\": [\"lifestyle\"], \"xaxis\": \"x\", \"y\": [5], \"yaxis\": \"y\"}, {\"alignmentgroup\": \"True\", \"hoverlabel\": {\"namelength\": 0}, \"hovertemplate\": \"Sub Category=causes-green-living<br>Category=%{x}<br>Values=%{y}\", \"legendgroup\": \"Sub Category=causes-green-living\", \"marker\": {\"color\": \"#FF97FF\"}, \"name\": \"Sub Category=causes-green-living\", \"offsetgroup\": \"Sub Category=causes-green-living\", \"orientation\": \"v\", \"showlegend\": true, \"textposition\": \"auto\", \"type\": \"bar\", \"x\": [\"lifestyle\"], \"xaxis\": \"x\", \"y\": [5], \"yaxis\": \"y\"}, {\"alignmentgroup\": \"True\", \"hoverlabel\": {\"namelength\": 0}, \"hovertemplate\": \"Sub Category=lifestyleshopping<br>Category=%{x}<br>Values=%{y}\", \"legendgroup\": \"Sub Category=lifestyleshopping\", \"marker\": {\"color\": \"#FECB52\"}, \"name\": \"Sub Category=lifestyleshopping\", \"offsetgroup\": \"Sub Category=lifestyleshopping\", \"orientation\": \"v\", \"showlegend\": true, \"textposition\": \"auto\", \"type\": \"bar\", \"x\": [\"lifestyle\"], \"xaxis\": \"x\", \"y\": [5], \"yaxis\": \"y\"}, {\"alignmentgroup\": \"True\", \"hoverlabel\": {\"namelength\": 0}, \"hovertemplate\": \"Sub Category=newsworldpolitics<br>Category=%{x}<br>Values=%{y}\", \"legendgroup\": \"Sub Category=newsworldpolitics\", \"marker\": {\"color\": \"#636efa\"}, \"name\": \"Sub Category=newsworldpolitics\", \"offsetgroup\": \"Sub Category=newsworldpolitics\", \"orientation\": \"v\", \"showlegend\": true, \"textposition\": \"auto\", \"type\": \"bar\", \"x\": [\"news\"], \"xaxis\": \"x\", \"y\": [5], \"yaxis\": \"y\"}, {\"alignmentgroup\": \"True\", \"hoverlabel\": {\"namelength\": 0}, \"hovertemplate\": \"Sub Category=tunedin<br>Category=%{x}<br>Values=%{y}\", \"legendgroup\": \"Sub Category=tunedin\", \"marker\": {\"color\": \"#EF553B\"}, \"name\": \"Sub Category=tunedin\", \"offsetgroup\": \"Sub Category=tunedin\", \"orientation\": \"v\", \"showlegend\": true, \"textposition\": \"auto\", \"type\": \"bar\", \"x\": [\"video\"], \"xaxis\": \"x\", \"y\": [5], \"yaxis\": \"y\"}, {\"alignmentgroup\": \"True\", \"hoverlabel\": {\"namelength\": 0}, \"hovertemplate\": \"Sub Category=finance-mutual-funds<br>Category=%{x}<br>Values=%{y}\", \"legendgroup\": \"Sub Category=finance-mutual-funds\", \"marker\": {\"color\": \"#00cc96\"}, \"name\": \"Sub Category=finance-mutual-funds\", \"offsetgroup\": \"Sub Category=finance-mutual-funds\", \"orientation\": \"v\", \"showlegend\": true, \"textposition\": \"auto\", \"type\": \"bar\", \"x\": [\"finance\"], \"xaxis\": \"x\", \"y\": [4], \"yaxis\": \"y\"}, {\"alignmentgroup\": \"True\", \"hoverlabel\": {\"namelength\": 0}, \"hovertemplate\": \"Sub Category=music-reviews<br>Category=%{x}<br>Values=%{y}\", \"legendgroup\": \"Sub Category=music-reviews\", \"marker\": {\"color\": \"#ab63fa\"}, \"name\": \"Sub Category=music-reviews\", \"offsetgroup\": \"Sub Category=music-reviews\", \"orientation\": \"v\", \"showlegend\": true, \"textposition\": \"auto\", \"type\": \"bar\", \"x\": [\"music\"], \"xaxis\": \"x\", \"y\": [4], \"yaxis\": \"y\"}, {\"alignmentgroup\": \"True\", \"hoverlabel\": {\"namelength\": 0}, \"hovertemplate\": \"Sub Category=music-grammys<br>Category=%{x}<br>Values=%{y}\", \"legendgroup\": \"Sub Category=music-grammys\", \"marker\": {\"color\": \"#FFA15A\"}, \"name\": \"Sub Category=music-grammys\", \"offsetgroup\": \"Sub Category=music-grammys\", \"orientation\": \"v\", \"showlegend\": true, \"textposition\": \"auto\", \"type\": \"bar\", \"x\": [\"music\"], \"xaxis\": \"x\", \"y\": [4], \"yaxis\": \"y\"}, {\"alignmentgroup\": \"True\", \"hoverlabel\": {\"namelength\": 0}, \"hovertemplate\": \"Sub Category=travel-adventure-travel<br>Category=%{x}<br>Values=%{y}\", \"legendgroup\": \"Sub Category=travel-adventure-travel\", \"marker\": {\"color\": \"#19d3f3\"}, \"name\": \"Sub Category=travel-adventure-travel\", \"offsetgroup\": \"Sub Category=travel-adventure-travel\", \"orientation\": \"v\", \"showlegend\": true, \"textposition\": \"auto\", \"type\": \"bar\", \"x\": [\"travel\"], \"xaxis\": \"x\", \"y\": [4], \"yaxis\": \"y\"}, {\"alignmentgroup\": \"True\", \"hoverlabel\": {\"namelength\": 0}, \"hovertemplate\": \"Sub Category=reviews<br>Category=%{x}<br>Values=%{y}\", \"legendgroup\": \"Sub Category=reviews\", \"marker\": {\"color\": \"#FF6692\"}, \"name\": \"Sub Category=reviews\", \"offsetgroup\": \"Sub Category=reviews\", \"orientation\": \"v\", \"showlegend\": true, \"textposition\": \"auto\", \"type\": \"bar\", \"x\": [\"movies\"], \"xaxis\": \"x\", \"y\": [4], \"yaxis\": \"y\"}, {\"alignmentgroup\": \"True\", \"hoverlabel\": {\"namelength\": 0}, \"hovertemplate\": \"Sub Category=people-places<br>Category=%{x}<br>Values=%{y}\", \"legendgroup\": \"Sub Category=people-places\", \"marker\": {\"color\": \"#B6E880\"}, \"name\": \"Sub Category=people-places\", \"offsetgroup\": \"Sub Category=people-places\", \"orientation\": \"v\", \"showlegend\": true, \"textposition\": \"auto\", \"type\": \"bar\", \"x\": [\"kids\"], \"xaxis\": \"x\", \"y\": [4], \"yaxis\": \"y\"}, {\"alignmentgroup\": \"True\", \"hoverlabel\": {\"namelength\": 0}, \"hovertemplate\": \"Sub Category=tv-golden-globes<br>Category=%{x}<br>Values=%{y}\", \"legendgroup\": \"Sub Category=tv-golden-globes\", \"marker\": {\"color\": \"#FF97FF\"}, \"name\": \"Sub Category=tv-golden-globes\", \"offsetgroup\": \"Sub Category=tv-golden-globes\", \"orientation\": \"v\", \"showlegend\": true, \"textposition\": \"auto\", \"type\": \"bar\", \"x\": [\"tv\"], \"xaxis\": \"x\", \"y\": [4], \"yaxis\": \"y\"}, {\"alignmentgroup\": \"True\", \"hoverlabel\": {\"namelength\": 0}, \"hovertemplate\": \"Sub Category=causes-food-insecurity<br>Category=%{x}<br>Values=%{y}\", \"legendgroup\": \"Sub Category=causes-food-insecurity\", \"marker\": {\"color\": \"#FECB52\"}, \"name\": \"Sub Category=causes-food-insecurity\", \"offsetgroup\": \"Sub Category=causes-food-insecurity\", \"orientation\": \"v\", \"showlegend\": true, \"textposition\": \"auto\", \"type\": \"bar\", \"x\": [\"foodanddrink\"], \"xaxis\": \"x\", \"y\": [4], \"yaxis\": \"y\"}, {\"alignmentgroup\": \"True\", \"hoverlabel\": {\"namelength\": 0}, \"hovertemplate\": \"Sub Category=autospassenger<br>Category=%{x}<br>Values=%{y}\", \"legendgroup\": \"Sub Category=autospassenger\", \"marker\": {\"color\": \"#636efa\"}, \"name\": \"Sub Category=autospassenger\", \"offsetgroup\": \"Sub Category=autospassenger\", \"orientation\": \"v\", \"showlegend\": true, \"textposition\": \"auto\", \"type\": \"bar\", \"x\": [\"autos\"], \"xaxis\": \"x\", \"y\": [3], \"yaxis\": \"y\"}, {\"alignmentgroup\": \"True\", \"hoverlabel\": {\"namelength\": 0}, \"hovertemplate\": \"Sub Category=cooking<br>Category=%{x}<br>Values=%{y}\", \"legendgroup\": \"Sub Category=cooking\", \"marker\": {\"color\": \"#EF553B\"}, \"name\": \"Sub Category=cooking\", \"offsetgroup\": \"Sub Category=cooking\", \"orientation\": \"v\", \"showlegend\": true, \"textposition\": \"auto\", \"type\": \"bar\", \"x\": [\"foodanddrink\"], \"xaxis\": \"x\", \"y\": [3], \"yaxis\": \"y\"}, {\"alignmentgroup\": \"True\", \"hoverlabel\": {\"namelength\": 0}, \"hovertemplate\": \"Sub Category=sports_news<br>Category=%{x}<br>Values=%{y}\", \"legendgroup\": \"Sub Category=sports_news\", \"marker\": {\"color\": \"#00cc96\"}, \"name\": \"Sub Category=sports_news\", \"offsetgroup\": \"Sub Category=sports_news\", \"orientation\": \"v\", \"showlegend\": true, \"textposition\": \"auto\", \"type\": \"bar\", \"x\": [\"sports\"], \"xaxis\": \"x\", \"y\": [3], \"yaxis\": \"y\"}, {\"alignmentgroup\": \"True\", \"hoverlabel\": {\"namelength\": 0}, \"hovertemplate\": \"Sub Category=downtime<br>Category=%{x}<br>Values=%{y}\", \"legendgroup\": \"Sub Category=downtime\", \"marker\": {\"color\": \"#ab63fa\"}, \"name\": \"Sub Category=downtime\", \"offsetgroup\": \"Sub Category=downtime\", \"orientation\": \"v\", \"showlegend\": true, \"textposition\": \"auto\", \"type\": \"bar\", \"x\": [\"video\"], \"xaxis\": \"x\", \"y\": [3], \"yaxis\": \"y\"}, {\"alignmentgroup\": \"True\", \"hoverlabel\": {\"namelength\": 0}, \"hovertemplate\": \"Sub Category=autosreview<br>Category=%{x}<br>Values=%{y}\", \"legendgroup\": \"Sub Category=autosreview\", \"marker\": {\"color\": \"#FFA15A\"}, \"name\": \"Sub Category=autosreview\", \"offsetgroup\": \"Sub Category=autosreview\", \"orientation\": \"v\", \"showlegend\": true, \"textposition\": \"auto\", \"type\": \"bar\", \"x\": [\"autos\"], \"xaxis\": \"x\", \"y\": [3], \"yaxis\": \"y\"}, {\"alignmentgroup\": \"True\", \"hoverlabel\": {\"namelength\": 0}, \"hovertemplate\": \"Sub Category=foodrecipes<br>Category=%{x}<br>Values=%{y}\", \"legendgroup\": \"Sub Category=foodrecipes\", \"marker\": {\"color\": \"#19d3f3\"}, \"name\": \"Sub Category=foodrecipes\", \"offsetgroup\": \"Sub Category=foodrecipes\", \"orientation\": \"v\", \"showlegend\": true, \"textposition\": \"auto\", \"type\": \"bar\", \"x\": [\"foodanddrink\"], \"xaxis\": \"x\", \"y\": [3], \"yaxis\": \"y\"}, {\"alignmentgroup\": \"True\", \"hoverlabel\": {\"namelength\": 0}, \"hovertemplate\": \"Sub Category=fun<br>Category=%{x}<br>Values=%{y}\", \"legendgroup\": \"Sub Category=fun\", \"marker\": {\"color\": \"#FF6692\"}, \"name\": \"Sub Category=fun\", \"offsetgroup\": \"Sub Category=fun\", \"orientation\": \"v\", \"showlegend\": true, \"textposition\": \"auto\", \"type\": \"bar\", \"x\": [\"kids\"], \"xaxis\": \"x\", \"y\": [3], \"yaxis\": \"y\"}, {\"alignmentgroup\": \"True\", \"hoverlabel\": {\"namelength\": 0}, \"hovertemplate\": \"Sub Category=indepth<br>Category=%{x}<br>Values=%{y}\", \"legendgroup\": \"Sub Category=indepth\", \"marker\": {\"color\": \"#B6E880\"}, \"name\": \"Sub Category=indepth\", \"offsetgroup\": \"Sub Category=indepth\", \"orientation\": \"v\", \"showlegend\": true, \"textposition\": \"auto\", \"type\": \"bar\", \"x\": [\"news\"], \"xaxis\": \"x\", \"y\": [2], \"yaxis\": \"y\"}, {\"alignmentgroup\": \"True\", \"hoverlabel\": {\"namelength\": 0}, \"hovertemplate\": \"Sub Category=technologyinvesting<br>Category=%{x}<br>Values=%{y}\", \"legendgroup\": \"Sub Category=technologyinvesting\", \"marker\": {\"color\": \"#FF97FF\"}, \"name\": \"Sub Category=technologyinvesting\", \"offsetgroup\": \"Sub Category=technologyinvesting\", \"orientation\": \"v\", \"showlegend\": true, \"textposition\": \"auto\", \"type\": \"bar\", \"x\": [\"finance\"], \"xaxis\": \"x\", \"y\": [2], \"yaxis\": \"y\"}, {\"alignmentgroup\": \"True\", \"hoverlabel\": {\"namelength\": 0}, \"hovertemplate\": \"Sub Category=yearinoffbeatgoodnews<br>Category=%{x}<br>Values=%{y}\", \"legendgroup\": \"Sub Category=yearinoffbeatgoodnews\", \"marker\": {\"color\": \"#FECB52\"}, \"name\": \"Sub Category=yearinoffbeatgoodnews\", \"offsetgroup\": \"Sub Category=yearinoffbeatgoodnews\", \"orientation\": \"v\", \"showlegend\": true, \"textposition\": \"auto\", \"type\": \"bar\", \"x\": [\"news\"], \"xaxis\": \"x\", \"y\": [2], \"yaxis\": \"y\"}, {\"alignmentgroup\": \"True\", \"hoverlabel\": {\"namelength\": 0}, \"hovertemplate\": \"Sub Category=autosvideos<br>Category=%{x}<br>Values=%{y}\", \"legendgroup\": \"Sub Category=autosvideos\", \"marker\": {\"color\": \"#636efa\"}, \"name\": \"Sub Category=autosvideos\", \"offsetgroup\": \"Sub Category=autosvideos\", \"orientation\": \"v\", \"showlegend\": true, \"textposition\": \"auto\", \"type\": \"bar\", \"x\": [\"autos\"], \"xaxis\": \"x\", \"y\": [2], \"yaxis\": \"y\"}, {\"alignmentgroup\": \"True\", \"hoverlabel\": {\"namelength\": 0}, \"hovertemplate\": \"Sub Category=travel-videos<br>Category=%{x}<br>Values=%{y}\", \"legendgroup\": \"Sub Category=travel-videos\", \"marker\": {\"color\": \"#EF553B\"}, \"name\": \"Sub Category=travel-videos\", \"offsetgroup\": \"Sub Category=travel-videos\", \"orientation\": \"v\", \"showlegend\": true, \"textposition\": \"auto\", \"type\": \"bar\", \"x\": [\"travel\"], \"xaxis\": \"x\", \"y\": [2], \"yaxis\": \"y\"}, {\"alignmentgroup\": \"True\", \"hoverlabel\": {\"namelength\": 0}, \"hovertemplate\": \"Sub Category=causes-environment<br>Category=%{x}<br>Values=%{y}\", \"legendgroup\": \"Sub Category=causes-environment\", \"marker\": {\"color\": \"#00cc96\"}, \"name\": \"Sub Category=causes-environment\", \"offsetgroup\": \"Sub Category=causes-environment\", \"orientation\": \"v\", \"showlegend\": true, \"textposition\": \"auto\", \"type\": \"bar\", \"x\": [\"news\"], \"xaxis\": \"x\", \"y\": [2], \"yaxis\": \"y\"}, {\"alignmentgroup\": \"True\", \"hoverlabel\": {\"namelength\": 0}, \"hovertemplate\": \"Sub Category=shop-home-goods<br>Category=%{x}<br>Values=%{y}\", \"legendgroup\": \"Sub Category=shop-home-goods\", \"marker\": {\"color\": \"#ab63fa\"}, \"name\": \"Sub Category=shop-home-goods\", \"offsetgroup\": \"Sub Category=shop-home-goods\", \"orientation\": \"v\", \"showlegend\": true, \"textposition\": \"auto\", \"type\": \"bar\", \"x\": [\"lifestyle\"], \"xaxis\": \"x\", \"y\": [2], \"yaxis\": \"y\"}, {\"alignmentgroup\": \"True\", \"hoverlabel\": {\"namelength\": 0}, \"hovertemplate\": \"Sub Category=shop-books-movies-tv<br>Category=%{x}<br>Values=%{y}\", \"legendgroup\": \"Sub Category=shop-books-movies-tv\", \"marker\": {\"color\": \"#FFA15A\"}, \"name\": \"Sub Category=shop-books-movies-tv\", \"offsetgroup\": \"Sub Category=shop-books-movies-tv\", \"orientation\": \"v\", \"showlegend\": true, \"textposition\": \"auto\", \"type\": \"bar\", \"x\": [\"lifestyle\"], \"xaxis\": \"x\", \"y\": [2], \"yaxis\": \"y\"}, {\"alignmentgroup\": \"True\", \"hoverlabel\": {\"namelength\": 0}, \"hovertemplate\": \"Sub Category=tv-reviews<br>Category=%{x}<br>Values=%{y}\", \"legendgroup\": \"Sub Category=tv-reviews\", \"marker\": {\"color\": \"#19d3f3\"}, \"name\": \"Sub Category=tv-reviews\", \"offsetgroup\": \"Sub Category=tv-reviews\", \"orientation\": \"v\", \"showlegend\": true, \"textposition\": \"auto\", \"type\": \"bar\", \"x\": [\"tv\"], \"xaxis\": \"x\", \"y\": [2], \"yaxis\": \"y\"}, {\"alignmentgroup\": \"True\", \"hoverlabel\": {\"namelength\": 0}, \"hovertemplate\": \"Sub Category=holidays<br>Category=%{x}<br>Values=%{y}\", \"legendgroup\": \"Sub Category=holidays\", \"marker\": {\"color\": \"#FF6692\"}, \"name\": \"Sub Category=holidays\", \"offsetgroup\": \"Sub Category=holidays\", \"orientation\": \"v\", \"showlegend\": true, \"textposition\": \"auto\", \"type\": \"bar\", \"x\": [\"travel\", \"lifestyle\"], \"xaxis\": \"x\", \"y\": [2, 2], \"yaxis\": \"y\"}, {\"alignmentgroup\": \"True\", \"hoverlabel\": {\"namelength\": 0}, \"hovertemplate\": \"Sub Category=healthagingwell<br>Category=%{x}<br>Values=%{y}\", \"legendgroup\": \"Sub Category=healthagingwell\", \"marker\": {\"color\": \"#B6E880\"}, \"name\": \"Sub Category=healthagingwell\", \"offsetgroup\": \"Sub Category=healthagingwell\", \"orientation\": \"v\", \"showlegend\": true, \"textposition\": \"auto\", \"type\": \"bar\", \"x\": [\"health\"], \"xaxis\": \"x\", \"y\": [2], \"yaxis\": \"y\"}, {\"alignmentgroup\": \"True\", \"hoverlabel\": {\"namelength\": 0}, \"hovertemplate\": \"Sub Category=basketball_wnba<br>Category=%{x}<br>Values=%{y}\", \"legendgroup\": \"Sub Category=basketball_wnba\", \"marker\": {\"color\": \"#FF97FF\"}, \"name\": \"Sub Category=basketball_wnba\", \"offsetgroup\": \"Sub Category=basketball_wnba\", \"orientation\": \"v\", \"showlegend\": true, \"textposition\": \"auto\", \"type\": \"bar\", \"x\": [\"sports\"], \"xaxis\": \"x\", \"y\": [2], \"yaxis\": \"y\"}, {\"alignmentgroup\": \"True\", \"hoverlabel\": {\"namelength\": 0}, \"hovertemplate\": \"Sub Category=sports<br>Category=%{x}<br>Values=%{y}\", \"legendgroup\": \"Sub Category=sports\", \"marker\": {\"color\": \"#FECB52\"}, \"name\": \"Sub Category=sports\", \"offsetgroup\": \"Sub Category=sports\", \"orientation\": \"v\", \"showlegend\": true, \"textposition\": \"auto\", \"type\": \"bar\", \"x\": [\"video\"], \"xaxis\": \"x\", \"y\": [2], \"yaxis\": \"y\"}, {\"alignmentgroup\": \"True\", \"hoverlabel\": {\"namelength\": 0}, \"hovertemplate\": \"Sub Category=cocktails<br>Category=%{x}<br>Values=%{y}\", \"legendgroup\": \"Sub Category=cocktails\", \"marker\": {\"color\": \"#636efa\"}, \"name\": \"Sub Category=cocktails\", \"offsetgroup\": \"Sub Category=cocktails\", \"orientation\": \"v\", \"showlegend\": true, \"textposition\": \"auto\", \"type\": \"bar\", \"x\": [\"foodanddrink\"], \"xaxis\": \"x\", \"y\": [2], \"yaxis\": \"y\"}, {\"alignmentgroup\": \"True\", \"hoverlabel\": {\"namelength\": 0}, \"hovertemplate\": \"Sub Category=seasonal<br>Category=%{x}<br>Values=%{y}\", \"legendgroup\": \"Sub Category=seasonal\", \"marker\": {\"color\": \"#EF553B\"}, \"name\": \"Sub Category=seasonal\", \"offsetgroup\": \"Sub Category=seasonal\", \"orientation\": \"v\", \"showlegend\": true, \"textposition\": \"auto\", \"type\": \"bar\", \"x\": [\"foodanddrink\"], \"xaxis\": \"x\", \"y\": [2], \"yaxis\": \"y\"}, {\"alignmentgroup\": \"True\", \"hoverlabel\": {\"namelength\": 0}, \"hovertemplate\": \"Sub Category=middleeast-top-stories<br>Category=%{x}<br>Values=%{y}\", \"legendgroup\": \"Sub Category=middleeast-top-stories\", \"marker\": {\"color\": \"#00cc96\"}, \"name\": \"Sub Category=middleeast-top-stories\", \"offsetgroup\": \"Sub Category=middleeast-top-stories\", \"orientation\": \"v\", \"showlegend\": true, \"textposition\": \"auto\", \"type\": \"bar\", \"x\": [\"middleeast\"], \"xaxis\": \"x\", \"y\": [2], \"yaxis\": \"y\"}, {\"alignmentgroup\": \"True\", \"hoverlabel\": {\"namelength\": 0}, \"hovertemplate\": \"Sub Category=career-news<br>Category=%{x}<br>Values=%{y}\", \"legendgroup\": \"Sub Category=career-news\", \"marker\": {\"color\": \"#ab63fa\"}, \"name\": \"Sub Category=career-news\", \"offsetgroup\": \"Sub Category=career-news\", \"orientation\": \"v\", \"showlegend\": true, \"textposition\": \"auto\", \"type\": \"bar\", \"x\": [\"finance\"], \"xaxis\": \"x\", \"y\": [2], \"yaxis\": \"y\"}, {\"alignmentgroup\": \"True\", \"hoverlabel\": {\"namelength\": 0}, \"hovertemplate\": \"Sub Category=autoscartech<br>Category=%{x}<br>Values=%{y}\", \"legendgroup\": \"Sub Category=autoscartech\", \"marker\": {\"color\": \"#FFA15A\"}, \"name\": \"Sub Category=autoscartech\", \"offsetgroup\": \"Sub Category=autoscartech\", \"orientation\": \"v\", \"showlegend\": true, \"textposition\": \"auto\", \"type\": \"bar\", \"x\": [\"autos\"], \"xaxis\": \"x\", \"y\": [2], \"yaxis\": \"y\"}, {\"alignmentgroup\": \"True\", \"hoverlabel\": {\"namelength\": 0}, \"hovertemplate\": \"Sub Category=newsrealestate<br>Category=%{x}<br>Values=%{y}\", \"legendgroup\": \"Sub Category=newsrealestate\", \"marker\": {\"color\": \"#19d3f3\"}, \"name\": \"Sub Category=newsrealestate\", \"offsetgroup\": \"Sub Category=newsrealestate\", \"orientation\": \"v\", \"showlegend\": true, \"textposition\": \"auto\", \"type\": \"bar\", \"x\": [\"news\"], \"xaxis\": \"x\", \"y\": [1], \"yaxis\": \"y\"}, {\"alignmentgroup\": \"True\", \"hoverlabel\": {\"namelength\": 0}, \"hovertemplate\": \"Sub Category=celebritynews<br>Category=%{x}<br>Values=%{y}\", \"legendgroup\": \"Sub Category=celebritynews\", \"marker\": {\"color\": \"#FF6692\"}, \"name\": \"Sub Category=celebritynews\", \"offsetgroup\": \"Sub Category=celebritynews\", \"orientation\": \"v\", \"showlegend\": true, \"textposition\": \"auto\", \"type\": \"bar\", \"x\": [\"entertainment\"], \"xaxis\": \"x\", \"y\": [1], \"yaxis\": \"y\"}, {\"alignmentgroup\": \"True\", \"hoverlabel\": {\"namelength\": 0}, \"hovertemplate\": \"Sub Category=travel<br>Category=%{x}<br>Values=%{y}\", \"legendgroup\": \"Sub Category=travel\", \"marker\": {\"color\": \"#B6E880\"}, \"name\": \"Sub Category=travel\", \"offsetgroup\": \"Sub Category=travel\", \"orientation\": \"v\", \"showlegend\": true, \"textposition\": \"auto\", \"type\": \"bar\", \"x\": [\"lifestyle\"], \"xaxis\": \"x\", \"y\": [1], \"yaxis\": \"y\"}, {\"alignmentgroup\": \"True\", \"hoverlabel\": {\"namelength\": 0}, \"hovertemplate\": \"Sub Category=tv-golden-globes-video<br>Category=%{x}<br>Values=%{y}\", \"legendgroup\": \"Sub Category=tv-golden-globes-video\", \"marker\": {\"color\": \"#FF97FF\"}, \"name\": \"Sub Category=tv-golden-globes-video\", \"offsetgroup\": \"Sub Category=tv-golden-globes-video\", \"orientation\": \"v\", \"showlegend\": true, \"textposition\": \"auto\", \"type\": \"bar\", \"x\": [\"tv\"], \"xaxis\": \"x\", \"y\": [1], \"yaxis\": \"y\"}, {\"alignmentgroup\": \"True\", \"hoverlabel\": {\"namelength\": 0}, \"hovertemplate\": \"Sub Category=entertainmentmusic<br>Category=%{x}<br>Values=%{y}\", \"legendgroup\": \"Sub Category=entertainmentmusic\", \"marker\": {\"color\": \"#FECB52\"}, \"name\": \"Sub Category=entertainmentmusic\", \"offsetgroup\": \"Sub Category=entertainmentmusic\", \"orientation\": \"v\", \"showlegend\": true, \"textposition\": \"auto\", \"type\": \"bar\", \"x\": [\"entertainment\"], \"xaxis\": \"x\", \"y\": [1], \"yaxis\": \"y\"}, {\"alignmentgroup\": \"True\", \"hoverlabel\": {\"namelength\": 0}, \"hovertemplate\": \"Sub Category=entertainmenttv<br>Category=%{x}<br>Values=%{y}\", \"legendgroup\": \"Sub Category=entertainmenttv\", \"marker\": {\"color\": \"#636efa\"}, \"name\": \"Sub Category=entertainmenttv\", \"offsetgroup\": \"Sub Category=entertainmenttv\", \"orientation\": \"v\", \"showlegend\": true, \"textposition\": \"auto\", \"type\": \"bar\", \"x\": [\"entertainment\"], \"xaxis\": \"x\", \"y\": [1], \"yaxis\": \"y\"}, {\"alignmentgroup\": \"True\", \"hoverlabel\": {\"namelength\": 0}, \"hovertemplate\": \"Sub Category=games<br>Category=%{x}<br>Values=%{y}\", \"legendgroup\": \"Sub Category=games\", \"marker\": {\"color\": \"#EF553B\"}, \"name\": \"Sub Category=games\", \"offsetgroup\": \"Sub Category=games\", \"orientation\": \"v\", \"showlegend\": true, \"textposition\": \"auto\", \"type\": \"bar\", \"x\": [\"entertainment\"], \"xaxis\": \"x\", \"y\": [1], \"yaxis\": \"y\"}, {\"alignmentgroup\": \"True\", \"hoverlabel\": {\"namelength\": 0}, \"hovertemplate\": \"Sub Category=foodanddrink<br>Category=%{x}<br>Values=%{y}\", \"legendgroup\": \"Sub Category=foodanddrink\", \"marker\": {\"color\": \"#00cc96\"}, \"name\": \"Sub Category=foodanddrink\", \"offsetgroup\": \"Sub Category=foodanddrink\", \"orientation\": \"v\", \"showlegend\": true, \"textposition\": \"auto\", \"type\": \"bar\", \"x\": [\"video\"], \"xaxis\": \"x\", \"y\": [1], \"yaxis\": \"y\"}, {\"alignmentgroup\": \"True\", \"hoverlabel\": {\"namelength\": 0}, \"hovertemplate\": \"Sub Category=comedy<br>Category=%{x}<br>Values=%{y}\", \"legendgroup\": \"Sub Category=comedy\", \"marker\": {\"color\": \"#ab63fa\"}, \"name\": \"Sub Category=comedy\", \"offsetgroup\": \"Sub Category=comedy\", \"orientation\": \"v\", \"showlegend\": true, \"textposition\": \"auto\", \"type\": \"bar\", \"x\": [\"video\"], \"xaxis\": \"x\", \"y\": [1], \"yaxis\": \"y\"}, {\"alignmentgroup\": \"True\", \"hoverlabel\": {\"namelength\": 0}, \"hovertemplate\": \"Sub Category=lifestylehoroscopefish<br>Category=%{x}<br>Values=%{y}\", \"legendgroup\": \"Sub Category=lifestylehoroscopefish\", \"marker\": {\"color\": \"#FFA15A\"}, \"name\": \"Sub Category=lifestylehoroscopefish\", \"offsetgroup\": \"Sub Category=lifestylehoroscopefish\", \"orientation\": \"v\", \"showlegend\": true, \"textposition\": \"auto\", \"type\": \"bar\", \"x\": [\"lifestyle\"], \"xaxis\": \"x\", \"y\": [1], \"yaxis\": \"y\"}, {\"alignmentgroup\": \"True\", \"hoverlabel\": {\"namelength\": 0}, \"hovertemplate\": \"Sub Category=lifestylemarriage<br>Category=%{x}<br>Values=%{y}\", \"legendgroup\": \"Sub Category=lifestylemarriage\", \"marker\": {\"color\": \"#19d3f3\"}, \"name\": \"Sub Category=lifestylemarriage\", \"offsetgroup\": \"Sub Category=lifestylemarriage\", \"orientation\": \"v\", \"showlegend\": true, \"textposition\": \"auto\", \"type\": \"bar\", \"x\": [\"lifestyle\"], \"xaxis\": \"x\", \"y\": [1], \"yaxis\": \"y\"}, {\"alignmentgroup\": \"True\", \"hoverlabel\": {\"namelength\": 0}, \"hovertemplate\": \"Sub Category=newsvideo<br>Category=%{x}<br>Values=%{y}\", \"legendgroup\": \"Sub Category=newsvideo\", \"marker\": {\"color\": \"#FF6692\"}, \"name\": \"Sub Category=newsvideo\", \"offsetgroup\": \"Sub Category=newsvideo\", \"orientation\": \"v\", \"showlegend\": true, \"textposition\": \"auto\", \"type\": \"bar\", \"x\": [\"news\"], \"xaxis\": \"x\", \"y\": [1], \"yaxis\": \"y\"}, {\"alignmentgroup\": \"True\", \"hoverlabel\": {\"namelength\": 0}, \"hovertemplate\": \"Sub Category=newsother<br>Category=%{x}<br>Values=%{y}\", \"legendgroup\": \"Sub Category=newsother\", \"marker\": {\"color\": \"#B6E880\"}, \"name\": \"Sub Category=newsother\", \"offsetgroup\": \"Sub Category=newsother\", \"orientation\": \"v\", \"showlegend\": true, \"textposition\": \"auto\", \"type\": \"bar\", \"x\": [\"news\"], \"xaxis\": \"x\", \"y\": [1], \"yaxis\": \"y\"}, {\"alignmentgroup\": \"True\", \"hoverlabel\": {\"namelength\": 0}, \"hovertemplate\": \"Sub Category=weatherfullscreenmaps<br>Category=%{x}<br>Values=%{y}\", \"legendgroup\": \"Sub Category=weatherfullscreenmaps\", \"marker\": {\"color\": \"#FF97FF\"}, \"name\": \"Sub Category=weatherfullscreenmaps\", \"offsetgroup\": \"Sub Category=weatherfullscreenmaps\", \"orientation\": \"v\", \"showlegend\": true, \"textposition\": \"auto\", \"type\": \"bar\", \"x\": [\"weather\"], \"xaxis\": \"x\", \"y\": [1], \"yaxis\": \"y\"}, {\"alignmentgroup\": \"True\", \"hoverlabel\": {\"namelength\": 0}, \"hovertemplate\": \"Sub Category=topnews<br>Category=%{x}<br>Values=%{y}\", \"legendgroup\": \"Sub Category=topnews\", \"marker\": {\"color\": \"#FECB52\"}, \"name\": \"Sub Category=topnews\", \"offsetgroup\": \"Sub Category=topnews\", \"orientation\": \"v\", \"showlegend\": true, \"textposition\": \"auto\", \"type\": \"bar\", \"x\": [\"music\", \"tv\"], \"xaxis\": \"x\", \"y\": [1, 1], \"yaxis\": \"y\"}, {\"alignmentgroup\": \"True\", \"hoverlabel\": {\"namelength\": 0}, \"hovertemplate\": \"Sub Category=newsnational<br>Category=%{x}<br>Values=%{y}\", \"legendgroup\": \"Sub Category=newsnational\", \"marker\": {\"color\": \"#636efa\"}, \"name\": \"Sub Category=newsnational\", \"offsetgroup\": \"Sub Category=newsnational\", \"orientation\": \"v\", \"showlegend\": true, \"textposition\": \"auto\", \"type\": \"bar\", \"x\": [\"news\"], \"xaxis\": \"x\", \"y\": [1], \"yaxis\": \"y\"}, {\"alignmentgroup\": \"True\", \"hoverlabel\": {\"namelength\": 0}, \"hovertemplate\": \"Sub Category=autosmidsize<br>Category=%{x}<br>Values=%{y}\", \"legendgroup\": \"Sub Category=autosmidsize\", \"marker\": {\"color\": \"#EF553B\"}, \"name\": \"Sub Category=autosmidsize\", \"offsetgroup\": \"Sub Category=autosmidsize\", \"orientation\": \"v\", \"showlegend\": true, \"textposition\": \"auto\", \"type\": \"bar\", \"x\": [\"autos\"], \"xaxis\": \"x\", \"y\": [1], \"yaxis\": \"y\"}, {\"alignmentgroup\": \"True\", \"hoverlabel\": {\"namelength\": 0}, \"hovertemplate\": \"Sub Category=lifestyleshoppinghomegarden<br>Category=%{x}<br>Values=%{y}\", \"legendgroup\": \"Sub Category=lifestyleshoppinghomegarden\", \"marker\": {\"color\": \"#00cc96\"}, \"name\": \"Sub Category=lifestyleshoppinghomegarden\", \"offsetgroup\": \"Sub Category=lifestyleshoppinghomegarden\", \"orientation\": \"v\", \"showlegend\": true, \"textposition\": \"auto\", \"type\": \"bar\", \"x\": [\"lifestyle\"], \"xaxis\": \"x\", \"y\": [1], \"yaxis\": \"y\"}, {\"alignmentgroup\": \"True\", \"hoverlabel\": {\"namelength\": 0}, \"hovertemplate\": \"Sub Category=autoslosangeles<br>Category=%{x}<br>Values=%{y}\", \"legendgroup\": \"Sub Category=autoslosangeles\", \"marker\": {\"color\": \"#ab63fa\"}, \"name\": \"Sub Category=autoslosangeles\", \"offsetgroup\": \"Sub Category=autoslosangeles\", \"orientation\": \"v\", \"showlegend\": true, \"textposition\": \"auto\", \"type\": \"bar\", \"x\": [\"autos\"], \"xaxis\": \"x\", \"y\": [1], \"yaxis\": \"y\"}, {\"alignmentgroup\": \"True\", \"hoverlabel\": {\"namelength\": 0}, \"hovertemplate\": \"Sub Category=lifestylestyle<br>Category=%{x}<br>Values=%{y}\", \"legendgroup\": \"Sub Category=lifestylestyle\", \"marker\": {\"color\": \"#FFA15A\"}, \"name\": \"Sub Category=lifestylestyle\", \"offsetgroup\": \"Sub Category=lifestylestyle\", \"orientation\": \"v\", \"showlegend\": true, \"textposition\": \"auto\", \"type\": \"bar\", \"x\": [\"lifestyle\"], \"xaxis\": \"x\", \"y\": [1], \"yaxis\": \"y\"}, {\"alignmentgroup\": \"True\", \"hoverlabel\": {\"namelength\": 0}, \"hovertemplate\": \"Sub Category=watch<br>Category=%{x}<br>Values=%{y}\", \"legendgroup\": \"Sub Category=watch\", \"marker\": {\"color\": \"#19d3f3\"}, \"name\": \"Sub Category=watch\", \"offsetgroup\": \"Sub Category=watch\", \"orientation\": \"v\", \"showlegend\": true, \"textposition\": \"auto\", \"type\": \"bar\", \"x\": [\"video\"], \"xaxis\": \"x\", \"y\": [1], \"yaxis\": \"y\"}, {\"alignmentgroup\": \"True\", \"hoverlabel\": {\"namelength\": 0}, \"hovertemplate\": \"Sub Category=autoscompact<br>Category=%{x}<br>Values=%{y}\", \"legendgroup\": \"Sub Category=autoscompact\", \"marker\": {\"color\": \"#FF6692\"}, \"name\": \"Sub Category=autoscompact\", \"offsetgroup\": \"Sub Category=autoscompact\", \"orientation\": \"v\", \"showlegend\": true, \"textposition\": \"auto\", \"type\": \"bar\", \"x\": [\"autos\"], \"xaxis\": \"x\", \"y\": [1], \"yaxis\": \"y\"}, {\"alignmentgroup\": \"True\", \"hoverlabel\": {\"namelength\": 0}, \"hovertemplate\": \"Sub Category=lifestylewhatshot<br>Category=%{x}<br>Values=%{y}\", \"legendgroup\": \"Sub Category=lifestylewhatshot\", \"marker\": {\"color\": \"#B6E880\"}, \"name\": \"Sub Category=lifestylewhatshot\", \"offsetgroup\": \"Sub Category=lifestylewhatshot\", \"orientation\": \"v\", \"showlegend\": true, \"textposition\": \"auto\", \"type\": \"bar\", \"x\": [\"lifestyle\"], \"xaxis\": \"x\", \"y\": [1], \"yaxis\": \"y\"}, {\"alignmentgroup\": \"True\", \"hoverlabel\": {\"namelength\": 0}, \"hovertemplate\": \"Sub Category=newstvmedia<br>Category=%{x}<br>Values=%{y}\", \"legendgroup\": \"Sub Category=newstvmedia\", \"marker\": {\"color\": \"#FF97FF\"}, \"name\": \"Sub Category=newstvmedia\", \"offsetgroup\": \"Sub Category=newstvmedia\", \"orientation\": \"v\", \"showlegend\": true, \"textposition\": \"auto\", \"type\": \"bar\", \"x\": [\"news\"], \"xaxis\": \"x\", \"y\": [1], \"yaxis\": \"y\"}, {\"alignmentgroup\": \"True\", \"hoverlabel\": {\"namelength\": 0}, \"hovertemplate\": \"Sub Category=golfvideos<br>Category=%{x}<br>Values=%{y}\", \"legendgroup\": \"Sub Category=golfvideos\", \"marker\": {\"color\": \"#FECB52\"}, \"name\": \"Sub Category=golfvideos\", \"offsetgroup\": \"Sub Category=golfvideos\", \"orientation\": \"v\", \"showlegend\": true, \"textposition\": \"auto\", \"type\": \"bar\", \"x\": [\"sports\"], \"xaxis\": \"x\", \"y\": [1], \"yaxis\": \"y\"}, {\"alignmentgroup\": \"True\", \"hoverlabel\": {\"namelength\": 0}, \"hovertemplate\": \"Sub Category=causes-disaster-relief<br>Category=%{x}<br>Values=%{y}\", \"legendgroup\": \"Sub Category=causes-disaster-relief\", \"marker\": {\"color\": \"#636efa\"}, \"name\": \"Sub Category=causes-disaster-relief\", \"offsetgroup\": \"Sub Category=causes-disaster-relief\", \"orientation\": \"v\", \"showlegend\": true, \"textposition\": \"auto\", \"type\": \"bar\", \"x\": [\"news\"], \"xaxis\": \"x\", \"y\": [1], \"yaxis\": \"y\"}, {\"alignmentgroup\": \"True\", \"hoverlabel\": {\"namelength\": 0}, \"hovertemplate\": \"Sub Category=baseball<br>Category=%{x}<br>Values=%{y}\", \"legendgroup\": \"Sub Category=baseball\", \"marker\": {\"color\": \"#EF553B\"}, \"name\": \"Sub Category=baseball\", \"offsetgroup\": \"Sub Category=baseball\", \"orientation\": \"v\", \"showlegend\": true, \"textposition\": \"auto\", \"type\": \"bar\", \"x\": [\"sports\"], \"xaxis\": \"x\", \"y\": [1], \"yaxis\": \"y\"}, {\"alignmentgroup\": \"True\", \"hoverlabel\": {\"namelength\": 0}, \"hovertemplate\": \"Sub Category=olympics-videos<br>Category=%{x}<br>Values=%{y}\", \"legendgroup\": \"Sub Category=olympics-videos\", \"marker\": {\"color\": \"#00cc96\"}, \"name\": \"Sub Category=olympics-videos\", \"offsetgroup\": \"Sub Category=olympics-videos\", \"orientation\": \"v\", \"showlegend\": true, \"textposition\": \"auto\", \"type\": \"bar\", \"x\": [\"sports\"], \"xaxis\": \"x\", \"y\": [1], \"yaxis\": \"y\"}, {\"alignmentgroup\": \"True\", \"hoverlabel\": {\"namelength\": 0}, \"hovertemplate\": \"Sub Category=othersports<br>Category=%{x}<br>Values=%{y}\", \"legendgroup\": \"Sub Category=othersports\", \"marker\": {\"color\": \"#ab63fa\"}, \"name\": \"Sub Category=othersports\", \"offsetgroup\": \"Sub Category=othersports\", \"orientation\": \"v\", \"showlegend\": true, \"textposition\": \"auto\", \"type\": \"bar\", \"x\": [\"sports\"], \"xaxis\": \"x\", \"y\": [1], \"yaxis\": \"y\"}, {\"alignmentgroup\": \"True\", \"hoverlabel\": {\"namelength\": 0}, \"hovertemplate\": \"Sub Category=empowering-the-planet<br>Category=%{x}<br>Values=%{y}\", \"legendgroup\": \"Sub Category=empowering-the-planet\", \"marker\": {\"color\": \"#FFA15A\"}, \"name\": \"Sub Category=empowering-the-planet\", \"offsetgroup\": \"Sub Category=empowering-the-planet\", \"orientation\": \"v\", \"showlegend\": true, \"textposition\": \"auto\", \"type\": \"bar\", \"x\": [\"news\"], \"xaxis\": \"x\", \"y\": [1], \"yaxis\": \"y\"}, {\"alignmentgroup\": \"True\", \"hoverlabel\": {\"namelength\": 0}, \"hovertemplate\": \"Sub Category=soccer_bund<br>Category=%{x}<br>Values=%{y}\", \"legendgroup\": \"Sub Category=soccer_bund\", \"marker\": {\"color\": \"#19d3f3\"}, \"name\": \"Sub Category=soccer_bund\", \"offsetgroup\": \"Sub Category=soccer_bund\", \"orientation\": \"v\", \"showlegend\": true, \"textposition\": \"auto\", \"type\": \"bar\", \"x\": [\"sports\"], \"xaxis\": \"x\", \"y\": [1], \"yaxis\": \"y\"}, {\"alignmentgroup\": \"True\", \"hoverlabel\": {\"namelength\": 0}, \"hovertemplate\": \"Sub Category=foodtips<br>Category=%{x}<br>Values=%{y}\", \"legendgroup\": \"Sub Category=foodtips\", \"marker\": {\"color\": \"#FF6692\"}, \"name\": \"Sub Category=foodtips\", \"offsetgroup\": \"Sub Category=foodtips\", \"orientation\": \"v\", \"showlegend\": true, \"textposition\": \"auto\", \"type\": \"bar\", \"x\": [\"foodanddrink\"], \"xaxis\": \"x\", \"y\": [1], \"yaxis\": \"y\"}, {\"alignmentgroup\": \"True\", \"hoverlabel\": {\"namelength\": 0}, \"hovertemplate\": \"Sub Category=causes-poverty<br>Category=%{x}<br>Values=%{y}\", \"legendgroup\": \"Sub Category=causes-poverty\", \"marker\": {\"color\": \"#B6E880\"}, \"name\": \"Sub Category=causes-poverty\", \"offsetgroup\": \"Sub Category=causes-poverty\", \"orientation\": \"v\", \"showlegend\": true, \"textposition\": \"auto\", \"type\": \"bar\", \"x\": [\"news\"], \"xaxis\": \"x\", \"y\": [1], \"yaxis\": \"y\"}, {\"alignmentgroup\": \"True\", \"hoverlabel\": {\"namelength\": 0}, \"hovertemplate\": \"Sub Category=cookingschool<br>Category=%{x}<br>Values=%{y}\", \"legendgroup\": \"Sub Category=cookingschool\", \"marker\": {\"color\": \"#FF97FF\"}, \"name\": \"Sub Category=cookingschool\", \"offsetgroup\": \"Sub Category=cookingschool\", \"orientation\": \"v\", \"showlegend\": true, \"textposition\": \"auto\", \"type\": \"bar\", \"x\": [\"foodanddrink\"], \"xaxis\": \"x\", \"y\": [1], \"yaxis\": \"y\"}, {\"alignmentgroup\": \"True\", \"hoverlabel\": {\"namelength\": 0}, \"hovertemplate\": \"Sub Category=cardio<br>Category=%{x}<br>Values=%{y}\", \"legendgroup\": \"Sub Category=cardio\", \"marker\": {\"color\": \"#FECB52\"}, \"name\": \"Sub Category=cardio\", \"offsetgroup\": \"Sub Category=cardio\", \"orientation\": \"v\", \"showlegend\": true, \"textposition\": \"auto\", \"type\": \"bar\", \"x\": [\"health\"], \"xaxis\": \"x\", \"y\": [1], \"yaxis\": \"y\"}, {\"alignmentgroup\": \"True\", \"hoverlabel\": {\"namelength\": 0}, \"hovertemplate\": \"Sub Category=health-cancer<br>Category=%{x}<br>Values=%{y}\", \"legendgroup\": \"Sub Category=health-cancer\", \"marker\": {\"color\": \"#636efa\"}, \"name\": \"Sub Category=health-cancer\", \"offsetgroup\": \"Sub Category=health-cancer\", \"orientation\": \"v\", \"showlegend\": true, \"textposition\": \"auto\", \"type\": \"bar\", \"x\": [\"health\"], \"xaxis\": \"x\", \"y\": [1], \"yaxis\": \"y\"}, {\"alignmentgroup\": \"True\", \"hoverlabel\": {\"namelength\": 0}, \"hovertemplate\": \"Sub Category=spendingandborrowing<br>Category=%{x}<br>Values=%{y}\", \"legendgroup\": \"Sub Category=spendingandborrowing\", \"marker\": {\"color\": \"#EF553B\"}, \"name\": \"Sub Category=spendingandborrowing\", \"offsetgroup\": \"Sub Category=spendingandborrowing\", \"orientation\": \"v\", \"showlegend\": true, \"textposition\": \"auto\", \"type\": \"bar\", \"x\": [\"finance\"], \"xaxis\": \"x\", \"y\": [1], \"yaxis\": \"y\"}, {\"alignmentgroup\": \"True\", \"hoverlabel\": {\"namelength\": 0}, \"hovertemplate\": \"Sub Category=tennis_intl<br>Category=%{x}<br>Values=%{y}\", \"legendgroup\": \"Sub Category=tennis_intl\", \"marker\": {\"color\": \"#00cc96\"}, \"name\": \"Sub Category=tennis_intl\", \"offsetgroup\": \"Sub Category=tennis_intl\", \"orientation\": \"v\", \"showlegend\": true, \"textposition\": \"auto\", \"type\": \"bar\", \"x\": [\"sports\"], \"xaxis\": \"x\", \"y\": [1], \"yaxis\": \"y\"}, {\"alignmentgroup\": \"True\", \"hoverlabel\": {\"namelength\": 0}, \"hovertemplate\": \"Sub Category=healthyliving<br>Category=%{x}<br>Values=%{y}\", \"legendgroup\": \"Sub Category=healthyliving\", \"marker\": {\"color\": \"#ab63fa\"}, \"name\": \"Sub Category=healthyliving\", \"offsetgroup\": \"Sub Category=healthyliving\", \"orientation\": \"v\", \"showlegend\": true, \"textposition\": \"auto\", \"type\": \"bar\", \"x\": [\"health\"], \"xaxis\": \"x\", \"y\": [1], \"yaxis\": \"y\"}, {\"alignmentgroup\": \"True\", \"hoverlabel\": {\"namelength\": 0}, \"hovertemplate\": \"Sub Category=strength<br>Category=%{x}<br>Values=%{y}\", \"legendgroup\": \"Sub Category=strength\", \"marker\": {\"color\": \"#FFA15A\"}, \"name\": \"Sub Category=strength\", \"offsetgroup\": \"Sub Category=strength\", \"orientation\": \"v\", \"showlegend\": true, \"textposition\": \"auto\", \"type\": \"bar\", \"x\": [\"health\"], \"xaxis\": \"x\", \"y\": [1], \"yaxis\": \"y\"}, {\"alignmentgroup\": \"True\", \"hoverlabel\": {\"namelength\": 0}, \"hovertemplate\": \"Sub Category=tv<br>Category=%{x}<br>Values=%{y}\", \"legendgroup\": \"Sub Category=tv\", \"marker\": {\"color\": \"#19d3f3\"}, \"name\": \"Sub Category=tv\", \"offsetgroup\": \"Sub Category=tv\", \"orientation\": \"v\", \"showlegend\": true, \"textposition\": \"auto\", \"type\": \"bar\", \"x\": [\"entertainment\"], \"xaxis\": \"x\", \"y\": [1], \"yaxis\": \"y\"}, {\"alignmentgroup\": \"True\", \"hoverlabel\": {\"namelength\": 0}, \"hovertemplate\": \"Sub Category=finance-startinvesting<br>Category=%{x}<br>Values=%{y}\", \"legendgroup\": \"Sub Category=finance-startinvesting\", \"marker\": {\"color\": \"#FF6692\"}, \"name\": \"Sub Category=finance-startinvesting\", \"offsetgroup\": \"Sub Category=finance-startinvesting\", \"orientation\": \"v\", \"showlegend\": true, \"textposition\": \"auto\", \"type\": \"bar\", \"x\": [\"finance\"], \"xaxis\": \"x\", \"y\": [1], \"yaxis\": \"y\"}, {\"alignmentgroup\": \"True\", \"hoverlabel\": {\"namelength\": 0}, \"hovertemplate\": \"Sub Category=traveltrivia<br>Category=%{x}<br>Values=%{y}\", \"legendgroup\": \"Sub Category=traveltrivia\", \"marker\": {\"color\": \"#B6E880\"}, \"name\": \"Sub Category=traveltrivia\", \"offsetgroup\": \"Sub Category=traveltrivia\", \"orientation\": \"v\", \"showlegend\": true, \"textposition\": \"auto\", \"type\": \"bar\", \"x\": [\"travel\"], \"xaxis\": \"x\", \"y\": [1], \"yaxis\": \"y\"}, {\"alignmentgroup\": \"True\", \"hoverlabel\": {\"namelength\": 0}, \"hovertemplate\": \"Sub Category=northamerica-video<br>Category=%{x}<br>Values=%{y}\", \"legendgroup\": \"Sub Category=northamerica-video\", \"marker\": {\"color\": \"#FF97FF\"}, \"name\": \"Sub Category=northamerica-video\", \"offsetgroup\": \"Sub Category=northamerica-video\", \"orientation\": \"v\", \"showlegend\": true, \"textposition\": \"auto\", \"type\": \"bar\", \"x\": [\"northamerica\"], \"xaxis\": \"x\", \"y\": [1], \"yaxis\": \"y\"}, {\"alignmentgroup\": \"True\", \"hoverlabel\": {\"namelength\": 0}, \"hovertemplate\": \"Sub Category=finance-insidetheticker<br>Category=%{x}<br>Values=%{y}\", \"legendgroup\": \"Sub Category=finance-insidetheticker\", \"marker\": {\"color\": \"#FECB52\"}, \"name\": \"Sub Category=finance-insidetheticker\", \"offsetgroup\": \"Sub Category=finance-insidetheticker\", \"orientation\": \"v\", \"showlegend\": true, \"textposition\": \"auto\", \"type\": \"bar\", \"x\": [\"finance\"], \"xaxis\": \"x\", \"y\": [1], \"yaxis\": \"y\"}, {\"alignmentgroup\": \"True\", \"hoverlabel\": {\"namelength\": 0}, \"hovertemplate\": \"Sub Category=finance-homesandpropertysection<br>Category=%{x}<br>Values=%{y}\", \"legendgroup\": \"Sub Category=finance-homesandpropertysection\", \"marker\": {\"color\": \"#636efa\"}, \"name\": \"Sub Category=finance-homesandpropertysection\", \"offsetgroup\": \"Sub Category=finance-homesandpropertysection\", \"orientation\": \"v\", \"showlegend\": true, \"textposition\": \"auto\", \"type\": \"bar\", \"x\": [\"finance\"], \"xaxis\": \"x\", \"y\": [1], \"yaxis\": \"y\"}, {\"alignmentgroup\": \"True\", \"hoverlabel\": {\"namelength\": 0}, \"hovertemplate\": \"Sub Category=finance-home-loans<br>Category=%{x}<br>Values=%{y}\", \"legendgroup\": \"Sub Category=finance-home-loans\", \"marker\": {\"color\": \"#EF553B\"}, \"name\": \"Sub Category=finance-home-loans\", \"offsetgroup\": \"Sub Category=finance-home-loans\", \"orientation\": \"v\", \"showlegend\": true, \"textposition\": \"auto\", \"type\": \"bar\", \"x\": [\"finance\"], \"xaxis\": \"x\", \"y\": [1], \"yaxis\": \"y\"}, {\"alignmentgroup\": \"True\", \"hoverlabel\": {\"namelength\": 0}, \"hovertemplate\": \"Sub Category=halloween<br>Category=%{x}<br>Values=%{y}\", \"legendgroup\": \"Sub Category=halloween\", \"marker\": {\"color\": \"#00cc96\"}, \"name\": \"Sub Category=halloween\", \"offsetgroup\": \"Sub Category=halloween\", \"orientation\": \"v\", \"showlegend\": true, \"textposition\": \"auto\", \"type\": \"bar\", \"x\": [\"lifestyle\"], \"xaxis\": \"x\", \"y\": [1], \"yaxis\": \"y\"}, {\"alignmentgroup\": \"True\", \"hoverlabel\": {\"namelength\": 0}, \"hovertemplate\": \"Sub Category=lifestyle-wedding<br>Category=%{x}<br>Values=%{y}\", \"legendgroup\": \"Sub Category=lifestyle-wedding\", \"marker\": {\"color\": \"#ab63fa\"}, \"name\": \"Sub Category=lifestyle-wedding\", \"offsetgroup\": \"Sub Category=lifestyle-wedding\", \"orientation\": \"v\", \"showlegend\": true, \"textposition\": \"auto\", \"type\": \"bar\", \"x\": [\"lifestyle\"], \"xaxis\": \"x\", \"y\": [1], \"yaxis\": \"y\"}, {\"alignmentgroup\": \"True\", \"hoverlabel\": {\"namelength\": 0}, \"hovertemplate\": \"Sub Category=finance-auto-insurance<br>Category=%{x}<br>Values=%{y}\", \"legendgroup\": \"Sub Category=finance-auto-insurance\", \"marker\": {\"color\": \"#FFA15A\"}, \"name\": \"Sub Category=finance-auto-insurance\", \"offsetgroup\": \"Sub Category=finance-auto-insurance\", \"orientation\": \"v\", \"showlegend\": true, \"textposition\": \"auto\", \"type\": \"bar\", \"x\": [\"finance\"], \"xaxis\": \"x\", \"y\": [1], \"yaxis\": \"y\"}, {\"alignmentgroup\": \"True\", \"hoverlabel\": {\"namelength\": 0}, \"hovertemplate\": \"Sub Category=company-news<br>Category=%{x}<br>Values=%{y}\", \"legendgroup\": \"Sub Category=company-news\", \"marker\": {\"color\": \"#19d3f3\"}, \"name\": \"Sub Category=company-news\", \"offsetgroup\": \"Sub Category=company-news\", \"orientation\": \"v\", \"showlegend\": true, \"textposition\": \"auto\", \"type\": \"bar\", \"x\": [\"finance\"], \"xaxis\": \"x\", \"y\": [1], \"yaxis\": \"y\"}, {\"alignmentgroup\": \"True\", \"hoverlabel\": {\"namelength\": 0}, \"hovertemplate\": \"Sub Category=narendramodi_opinion<br>Category=%{x}<br>Values=%{y}\", \"legendgroup\": \"Sub Category=narendramodi_opinion\", \"marker\": {\"color\": \"#FF6692\"}, \"name\": \"Sub Category=narendramodi_opinion\", \"offsetgroup\": \"Sub Category=narendramodi_opinion\", \"orientation\": \"v\", \"showlegend\": true, \"textposition\": \"auto\", \"type\": \"bar\", \"x\": [\"news\"], \"xaxis\": \"x\", \"y\": [1], \"yaxis\": \"y\"}, {\"alignmentgroup\": \"True\", \"hoverlabel\": {\"namelength\": 0}, \"hovertemplate\": \"Sub Category=relationships<br>Category=%{x}<br>Values=%{y}\", \"legendgroup\": \"Sub Category=relationships\", \"marker\": {\"color\": \"#B6E880\"}, \"name\": \"Sub Category=relationships\", \"offsetgroup\": \"Sub Category=relationships\", \"orientation\": \"v\", \"showlegend\": true, \"textposition\": \"auto\", \"type\": \"bar\", \"x\": [\"lifestyle\"], \"xaxis\": \"x\", \"y\": [1], \"yaxis\": \"y\"}],\n",
       "                        {\"barmode\": \"relative\", \"legend\": {\"tracegroupgap\": 0}, \"margin\": {\"t\": 60}, \"template\": {\"data\": {\"bar\": [{\"error_x\": {\"color\": \"#2a3f5f\"}, \"error_y\": {\"color\": \"#2a3f5f\"}, \"marker\": {\"line\": {\"color\": \"#E5ECF6\", \"width\": 0.5}}, \"type\": \"bar\"}], \"barpolar\": [{\"marker\": {\"line\": {\"color\": \"#E5ECF6\", \"width\": 0.5}}, \"type\": \"barpolar\"}], \"carpet\": [{\"aaxis\": {\"endlinecolor\": \"#2a3f5f\", \"gridcolor\": \"white\", \"linecolor\": \"white\", \"minorgridcolor\": \"white\", \"startlinecolor\": \"#2a3f5f\"}, \"baxis\": {\"endlinecolor\": \"#2a3f5f\", \"gridcolor\": \"white\", \"linecolor\": \"white\", \"minorgridcolor\": \"white\", \"startlinecolor\": \"#2a3f5f\"}, \"type\": \"carpet\"}], \"choropleth\": [{\"colorbar\": {\"outlinewidth\": 0, \"ticks\": \"\"}, \"type\": \"choropleth\"}], \"contour\": [{\"colorbar\": {\"outlinewidth\": 0, \"ticks\": \"\"}, \"colorscale\": [[0.0, \"#0d0887\"], [0.1111111111111111, \"#46039f\"], [0.2222222222222222, \"#7201a8\"], [0.3333333333333333, \"#9c179e\"], [0.4444444444444444, \"#bd3786\"], [0.5555555555555556, \"#d8576b\"], [0.6666666666666666, \"#ed7953\"], [0.7777777777777778, \"#fb9f3a\"], [0.8888888888888888, \"#fdca26\"], [1.0, \"#f0f921\"]], \"type\": \"contour\"}], \"contourcarpet\": [{\"colorbar\": {\"outlinewidth\": 0, \"ticks\": \"\"}, \"type\": \"contourcarpet\"}], \"heatmap\": [{\"colorbar\": {\"outlinewidth\": 0, \"ticks\": \"\"}, \"colorscale\": [[0.0, \"#0d0887\"], [0.1111111111111111, \"#46039f\"], [0.2222222222222222, \"#7201a8\"], [0.3333333333333333, \"#9c179e\"], [0.4444444444444444, \"#bd3786\"], [0.5555555555555556, \"#d8576b\"], [0.6666666666666666, \"#ed7953\"], [0.7777777777777778, \"#fb9f3a\"], [0.8888888888888888, \"#fdca26\"], [1.0, \"#f0f921\"]], \"type\": \"heatmap\"}], \"heatmapgl\": [{\"colorbar\": {\"outlinewidth\": 0, \"ticks\": \"\"}, \"colorscale\": [[0.0, \"#0d0887\"], [0.1111111111111111, \"#46039f\"], [0.2222222222222222, \"#7201a8\"], [0.3333333333333333, \"#9c179e\"], [0.4444444444444444, \"#bd3786\"], [0.5555555555555556, \"#d8576b\"], [0.6666666666666666, \"#ed7953\"], [0.7777777777777778, \"#fb9f3a\"], [0.8888888888888888, \"#fdca26\"], [1.0, \"#f0f921\"]], \"type\": \"heatmapgl\"}], \"histogram\": [{\"marker\": {\"colorbar\": {\"outlinewidth\": 0, \"ticks\": \"\"}}, \"type\": \"histogram\"}], \"histogram2d\": [{\"colorbar\": {\"outlinewidth\": 0, \"ticks\": \"\"}, \"colorscale\": [[0.0, \"#0d0887\"], [0.1111111111111111, \"#46039f\"], [0.2222222222222222, \"#7201a8\"], [0.3333333333333333, \"#9c179e\"], [0.4444444444444444, \"#bd3786\"], [0.5555555555555556, \"#d8576b\"], [0.6666666666666666, \"#ed7953\"], [0.7777777777777778, \"#fb9f3a\"], [0.8888888888888888, \"#fdca26\"], [1.0, \"#f0f921\"]], \"type\": \"histogram2d\"}], \"histogram2dcontour\": [{\"colorbar\": {\"outlinewidth\": 0, \"ticks\": \"\"}, \"colorscale\": [[0.0, \"#0d0887\"], [0.1111111111111111, \"#46039f\"], [0.2222222222222222, \"#7201a8\"], [0.3333333333333333, \"#9c179e\"], [0.4444444444444444, \"#bd3786\"], [0.5555555555555556, \"#d8576b\"], [0.6666666666666666, \"#ed7953\"], [0.7777777777777778, \"#fb9f3a\"], [0.8888888888888888, \"#fdca26\"], [1.0, \"#f0f921\"]], \"type\": \"histogram2dcontour\"}], \"mesh3d\": [{\"colorbar\": {\"outlinewidth\": 0, \"ticks\": \"\"}, \"type\": \"mesh3d\"}], \"parcoords\": [{\"line\": {\"colorbar\": {\"outlinewidth\": 0, \"ticks\": \"\"}}, \"type\": \"parcoords\"}], \"pie\": [{\"automargin\": true, \"type\": \"pie\"}], \"scatter\": [{\"marker\": {\"colorbar\": {\"outlinewidth\": 0, \"ticks\": \"\"}}, \"type\": \"scatter\"}], \"scatter3d\": [{\"line\": {\"colorbar\": {\"outlinewidth\": 0, \"ticks\": \"\"}}, \"marker\": {\"colorbar\": {\"outlinewidth\": 0, \"ticks\": \"\"}}, \"type\": \"scatter3d\"}], \"scattercarpet\": [{\"marker\": {\"colorbar\": {\"outlinewidth\": 0, \"ticks\": \"\"}}, \"type\": \"scattercarpet\"}], \"scattergeo\": [{\"marker\": {\"colorbar\": {\"outlinewidth\": 0, \"ticks\": \"\"}}, \"type\": \"scattergeo\"}], \"scattergl\": [{\"marker\": {\"colorbar\": {\"outlinewidth\": 0, \"ticks\": \"\"}}, \"type\": \"scattergl\"}], \"scattermapbox\": [{\"marker\": {\"colorbar\": {\"outlinewidth\": 0, \"ticks\": \"\"}}, \"type\": \"scattermapbox\"}], \"scatterpolar\": [{\"marker\": {\"colorbar\": {\"outlinewidth\": 0, \"ticks\": \"\"}}, \"type\": \"scatterpolar\"}], \"scatterpolargl\": [{\"marker\": {\"colorbar\": {\"outlinewidth\": 0, \"ticks\": \"\"}}, \"type\": \"scatterpolargl\"}], \"scatterternary\": [{\"marker\": {\"colorbar\": {\"outlinewidth\": 0, \"ticks\": \"\"}}, \"type\": \"scatterternary\"}], \"surface\": [{\"colorbar\": {\"outlinewidth\": 0, \"ticks\": \"\"}, \"colorscale\": [[0.0, \"#0d0887\"], [0.1111111111111111, \"#46039f\"], [0.2222222222222222, \"#7201a8\"], [0.3333333333333333, \"#9c179e\"], [0.4444444444444444, \"#bd3786\"], [0.5555555555555556, \"#d8576b\"], [0.6666666666666666, \"#ed7953\"], [0.7777777777777778, \"#fb9f3a\"], [0.8888888888888888, \"#fdca26\"], [1.0, \"#f0f921\"]], \"type\": \"surface\"}], \"table\": [{\"cells\": {\"fill\": {\"color\": \"#EBF0F8\"}, \"line\": {\"color\": \"white\"}}, \"header\": {\"fill\": {\"color\": \"#C8D4E3\"}, \"line\": {\"color\": \"white\"}}, \"type\": \"table\"}]}, \"layout\": {\"annotationdefaults\": {\"arrowcolor\": \"#2a3f5f\", \"arrowhead\": 0, \"arrowwidth\": 1}, \"coloraxis\": {\"colorbar\": {\"outlinewidth\": 0, \"ticks\": \"\"}}, \"colorscale\": {\"diverging\": [[0, \"#8e0152\"], [0.1, \"#c51b7d\"], [0.2, \"#de77ae\"], [0.3, \"#f1b6da\"], [0.4, \"#fde0ef\"], [0.5, \"#f7f7f7\"], [0.6, \"#e6f5d0\"], [0.7, \"#b8e186\"], [0.8, \"#7fbc41\"], [0.9, \"#4d9221\"], [1, \"#276419\"]], \"sequential\": [[0.0, \"#0d0887\"], [0.1111111111111111, \"#46039f\"], [0.2222222222222222, \"#7201a8\"], [0.3333333333333333, \"#9c179e\"], [0.4444444444444444, \"#bd3786\"], [0.5555555555555556, \"#d8576b\"], [0.6666666666666666, \"#ed7953\"], [0.7777777777777778, \"#fb9f3a\"], [0.8888888888888888, \"#fdca26\"], [1.0, \"#f0f921\"]], \"sequentialminus\": [[0.0, \"#0d0887\"], [0.1111111111111111, \"#46039f\"], [0.2222222222222222, \"#7201a8\"], [0.3333333333333333, \"#9c179e\"], [0.4444444444444444, \"#bd3786\"], [0.5555555555555556, \"#d8576b\"], [0.6666666666666666, \"#ed7953\"], [0.7777777777777778, \"#fb9f3a\"], [0.8888888888888888, \"#fdca26\"], [1.0, \"#f0f921\"]]}, \"colorway\": [\"#636efa\", \"#EF553B\", \"#00cc96\", \"#ab63fa\", \"#FFA15A\", \"#19d3f3\", \"#FF6692\", \"#B6E880\", \"#FF97FF\", \"#FECB52\"], \"font\": {\"color\": \"#2a3f5f\"}, \"geo\": {\"bgcolor\": \"white\", \"lakecolor\": \"white\", \"landcolor\": \"#E5ECF6\", \"showlakes\": true, \"showland\": true, \"subunitcolor\": \"white\"}, \"hoverlabel\": {\"align\": \"left\"}, \"hovermode\": \"closest\", \"mapbox\": {\"style\": \"light\"}, \"paper_bgcolor\": \"white\", \"plot_bgcolor\": \"#E5ECF6\", \"polar\": {\"angularaxis\": {\"gridcolor\": \"white\", \"linecolor\": \"white\", \"ticks\": \"\"}, \"bgcolor\": \"#E5ECF6\", \"radialaxis\": {\"gridcolor\": \"white\", \"linecolor\": \"white\", \"ticks\": \"\"}}, \"scene\": {\"xaxis\": {\"backgroundcolor\": \"#E5ECF6\", \"gridcolor\": \"white\", \"gridwidth\": 2, \"linecolor\": \"white\", \"showbackground\": true, \"ticks\": \"\", \"zerolinecolor\": \"white\"}, \"yaxis\": {\"backgroundcolor\": \"#E5ECF6\", \"gridcolor\": \"white\", \"gridwidth\": 2, \"linecolor\": \"white\", \"showbackground\": true, \"ticks\": \"\", \"zerolinecolor\": \"white\"}, \"zaxis\": {\"backgroundcolor\": \"#E5ECF6\", \"gridcolor\": \"white\", \"gridwidth\": 2, \"linecolor\": \"white\", \"showbackground\": true, \"ticks\": \"\", \"zerolinecolor\": \"white\"}}, \"shapedefaults\": {\"line\": {\"color\": \"#2a3f5f\"}}, \"ternary\": {\"aaxis\": {\"gridcolor\": \"white\", \"linecolor\": \"white\", \"ticks\": \"\"}, \"baxis\": {\"gridcolor\": \"white\", \"linecolor\": \"white\", \"ticks\": \"\"}, \"bgcolor\": \"#E5ECF6\", \"caxis\": {\"gridcolor\": \"white\", \"linecolor\": \"white\", \"ticks\": \"\"}}, \"title\": {\"x\": 0.05}, \"xaxis\": {\"automargin\": true, \"gridcolor\": \"white\", \"linecolor\": \"white\", \"ticks\": \"\", \"title\": {\"standoff\": 15}, \"zerolinecolor\": \"white\", \"zerolinewidth\": 2}, \"yaxis\": {\"automargin\": true, \"gridcolor\": \"white\", \"linecolor\": \"white\", \"ticks\": \"\", \"title\": {\"standoff\": 15}, \"zerolinecolor\": \"white\", \"zerolinewidth\": 2}}}, \"xaxis\": {\"anchor\": \"y\", \"domain\": [0.0, 1.0], \"title\": {\"text\": \"Category\"}}, \"yaxis\": {\"anchor\": \"x\", \"domain\": [0.0, 1.0], \"title\": {\"text\": \"Values\"}}},\n",
       "                        {\"responsive\": true}\n",
       "                    ).then(function(){\n",
       "                            \n",
       "var gd = document.getElementById('0fc42c79-ec04-4d6c-a3a5-60c371193212');\n",
       "var x = new MutationObserver(function (mutations, observer) {{\n",
       "        var display = window.getComputedStyle(gd).display;\n",
       "        if (!display || display === 'none') {{\n",
       "            console.log([gd, 'removed!']);\n",
       "            Plotly.purge(gd);\n",
       "            observer.disconnect();\n",
       "        }}\n",
       "}});\n",
       "\n",
       "// Listen for the removal of the full notebook cells\n",
       "var notebookContainer = gd.closest('#notebook-container');\n",
       "if (notebookContainer) {{\n",
       "    x.observe(notebookContainer, {childList: true});\n",
       "}}\n",
       "\n",
       "// Listen for the clearing of the current output cell\n",
       "var outputEl = gd.closest('.output');\n",
       "if (outputEl) {{\n",
       "    x.observe(outputEl, {childList: true});\n",
       "}}\n",
       "\n",
       "                        })\n",
       "                };\n",
       "                \n",
       "            </script>\n",
       "        </div>\n",
       "</body>\n",
       "</html>"
      ]
     },
     "metadata": {},
     "output_type": "display_data"
    }
   ],
   "source": [
    "px.bar(data_frame=df,x='Category',y='Values',color='Sub Category')"
   ]
  },
  {
   "cell_type": "markdown",
   "metadata": {
    "id": "0pP_RD6QCY8L"
   },
   "source": [
    "From this plot we see that the most of the news was on the Category of news with subcategory newsus followed by sports with football news."
   ]
  },
  {
   "cell_type": "markdown",
   "metadata": {
    "id": "cMbA30ZrCbe7"
   },
   "source": [
    "### WordCloud For Sports News"
   ]
  },
  {
   "cell_type": "code",
   "execution_count": null,
   "metadata": {
    "colab": {
     "base_uri": "https://localhost:8080/",
     "height": 198
    },
    "id": "lFbEgDWOCc_V",
    "outputId": "8141374c-b525-420c-c2f4-8879ffe04588"
   },
   "outputs": [
    {
     "data": {
      "image/png": "[encoded data removed]",
      "text/plain": [
       "<Figure size 432x288 with 1 Axes>"
      ]
     },
     "metadata": {
      "needs_background": "light"
     },
     "output_type": "display_data"
    }
   ],
   "source": [
    "text=' '\n",
    "for i in filtered_articles[filtered_articles['Category']=='sports']['Title']:\n",
    "    text+=i+' '\n",
    "    \n",
    "# Make the figure\n",
    "wordcloud = WordCloud().generate(text)\n",
    "plt.figure()\n",
    "plt.imshow(wordcloud, interpolation=\"bilinear\")\n",
    "plt.axis(\"off\")\n",
    "\n",
    "plt.show()"
   ]
  },
  {
   "cell_type": "markdown",
   "metadata": {
    "id": "X2iYoUiNCeil"
   },
   "source": [
    "### Wordcloud for news"
   ]
  },
  {
   "cell_type": "code",
   "execution_count": null,
   "metadata": {
    "colab": {
     "base_uri": "https://localhost:8080/",
     "height": 198
    },
    "id": "09v-ulnIChU7",
    "outputId": "d98eba94-d1c2-453c-cd17-d0028b29b4e5"
   },
   "outputs": [
    {
     "data": {
      "image/png": "[encoded data removed]",
      "text/plain": [
       "<Figure size 432x288 with 1 Axes>"
      ]
     },
     "metadata": {
      "needs_background": "light"
     },
     "output_type": "display_data"
    }
   ],
   "source": [
    "text=' '\n",
    "for i in filtered_articles[filtered_articles['Category']=='news']['Title']:\n",
    "    text+=i+' '\n",
    "    \n",
    "# Make the figure\n",
    "wordcloud = WordCloud().generate(text)\n",
    "plt.figure()\n",
    "plt.imshow(wordcloud, interpolation=\"bilinear\")\n",
    "plt.axis(\"off\")\n",
    "\n",
    "plt.show()"
   ]
  },
  {
   "cell_type": "code",
   "execution_count": null,
   "metadata": {
    "colab": {
     "base_uri": "https://localhost:8080/"
    },
    "id": "gEqfEl5zPIsU",
    "outputId": "bcd604dc-1393-4b49-f8ae-8f264cc1ec2b"
   },
   "outputs": [
    {
     "data": {
      "text/plain": [
       "NewsID         0\n",
       "Category       0\n",
       "SubCategory    0\n",
       "Title          0\n",
       "Abstract       0\n",
       "dtype: int64"
      ]
     },
     "execution_count": 23,
     "metadata": {},
     "output_type": "execute_result"
    }
   ],
   "source": [
    "filtered_articles.isna().sum()"
   ]
  },
  {
   "cell_type": "code",
   "execution_count": null,
   "metadata": {
    "colab": {
     "base_uri": "https://localhost:8080/",
     "height": 363
    },
    "id": "e-qd87iMbd0N",
    "outputId": "212e9101-2e24-4a26-eaa9-f33e43311a96"
   },
   "outputs": [
    {
     "ename": "TypeError",
     "evalue": "ignored",
     "output_type": "error",
     "traceback": [
      "\u001b[0;31m---------------------------------------------------------------------------\u001b[0m",
      "\u001b[0;31mTypeError\u001b[0m                                 Traceback (most recent call last)",
      "\u001b[0;32m<ipython-input-24-4f5fcfa2b5a2>\u001b[0m in \u001b[0;36m<module>\u001b[0;34m()\u001b[0m\n\u001b[1;32m      2\u001b[0m \u001b[0;32mfor\u001b[0m \u001b[0mtitle\u001b[0m \u001b[0;32min\u001b[0m \u001b[0mfiltered_articles\u001b[0m\u001b[0;34m[\u001b[0m\u001b[0;34m'Title'\u001b[0m\u001b[0;34m]\u001b[0m\u001b[0;34m:\u001b[0m\u001b[0;34m\u001b[0m\u001b[0;34m\u001b[0m\u001b[0m\n\u001b[1;32m      3\u001b[0m     \u001b[0mtitles\u001b[0m\u001b[0;34m.\u001b[0m\u001b[0mappend\u001b[0m\u001b[0;34m(\u001b[0m\u001b[0mlen\u001b[0m\u001b[0;34m(\u001b[0m\u001b[0mtitle\u001b[0m\u001b[0;34m)\u001b[0m\u001b[0;34m)\u001b[0m\u001b[0;34m\u001b[0m\u001b[0;34m\u001b[0m\u001b[0m\n\u001b[0;32m----> 4\u001b[0;31m \u001b[0mpx\u001b[0m\u001b[0;34m.\u001b[0m\u001b[0mhistogram\u001b[0m\u001b[0;34m(\u001b[0m\u001b[0mtitles\u001b[0m\u001b[0;34m,\u001b[0m \u001b[0mcolor\u001b[0m\u001b[0;34m=\u001b[0m\u001b[0mfiltered_articles\u001b[0m\u001b[0;34m[\u001b[0m\u001b[0;34m'Category'\u001b[0m\u001b[0;34m]\u001b[0m\u001b[0;34m)\u001b[0m\u001b[0;34m\u001b[0m\u001b[0;34m\u001b[0m\u001b[0m\n\u001b[0m",
      "\u001b[0;32m/usr/local/lib/python3.7/dist-packages/plotly/express/_chart_types.py\u001b[0m in \u001b[0;36mhistogram\u001b[0;34m(data_frame, x, y, color, facet_row, facet_col, facet_col_wrap, hover_name, hover_data, animation_frame, animation_group, category_orders, labels, color_discrete_sequence, color_discrete_map, marginal, opacity, orientation, barmode, barnorm, histnorm, log_x, log_y, range_x, range_y, histfunc, cumulative, nbins, title, template, width, height)\u001b[0m\n\u001b[1;32m    370\u001b[0m             \u001b[0mbingroup\u001b[0m\u001b[0;34m=\u001b[0m\u001b[0;34m\"x\"\u001b[0m \u001b[0;32mif\u001b[0m \u001b[0morientation\u001b[0m \u001b[0;34m==\u001b[0m \u001b[0;34m\"v\"\u001b[0m \u001b[0;32melse\u001b[0m \u001b[0;34m\"y\"\u001b[0m\u001b[0;34m,\u001b[0m\u001b[0;34m\u001b[0m\u001b[0;34m\u001b[0m\u001b[0m\n\u001b[1;32m    371\u001b[0m         ),\n\u001b[0;32m--> 372\u001b[0;31m         \u001b[0mlayout_patch\u001b[0m\u001b[0;34m=\u001b[0m\u001b[0mdict\u001b[0m\u001b[0;34m(\u001b[0m\u001b[0mbarmode\u001b[0m\u001b[0;34m=\u001b[0m\u001b[0mbarmode\u001b[0m\u001b[0;34m,\u001b[0m \u001b[0mbarnorm\u001b[0m\u001b[0;34m=\u001b[0m\u001b[0mbarnorm\u001b[0m\u001b[0;34m)\u001b[0m\u001b[0;34m,\u001b[0m\u001b[0;34m\u001b[0m\u001b[0;34m\u001b[0m\u001b[0m\n\u001b[0m\u001b[1;32m    373\u001b[0m     )\n\u001b[1;32m    374\u001b[0m \u001b[0;34m\u001b[0m\u001b[0m\n",
      "\u001b[0;32m/usr/local/lib/python3.7/dist-packages/plotly/express/_core.py\u001b[0m in \u001b[0;36mmake_figure\u001b[0;34m(args, constructor, trace_patch, layout_patch)\u001b[0m\n\u001b[1;32m   1315\u001b[0m \u001b[0;34m\u001b[0m\u001b[0m\n\u001b[1;32m   1316\u001b[0m             patch, fit_results = make_trace_kwargs(\n\u001b[0;32m-> 1317\u001b[0;31m                 \u001b[0margs\u001b[0m\u001b[0;34m,\u001b[0m \u001b[0mtrace_spec\u001b[0m\u001b[0;34m,\u001b[0m \u001b[0mgroup\u001b[0m\u001b[0;34m,\u001b[0m \u001b[0mmapping_labels\u001b[0m\u001b[0;34m.\u001b[0m\u001b[0mcopy\u001b[0m\u001b[0;34m(\u001b[0m\u001b[0;34m)\u001b[0m\u001b[0;34m,\u001b[0m \u001b[0msizeref\u001b[0m\u001b[0;34m\u001b[0m\u001b[0;34m\u001b[0m\u001b[0m\n\u001b[0m\u001b[1;32m   1318\u001b[0m             )\n\u001b[1;32m   1319\u001b[0m             \u001b[0mtrace\u001b[0m\u001b[0;34m.\u001b[0m\u001b[0mupdate\u001b[0m\u001b[0;34m(\u001b[0m\u001b[0mpatch\u001b[0m\u001b[0;34m)\u001b[0m\u001b[0;34m\u001b[0m\u001b[0;34m\u001b[0m\u001b[0m\n",
      "\u001b[0;32m/usr/local/lib/python3.7/dist-packages/plotly/express/_core.py\u001b[0m in \u001b[0;36mmake_trace_kwargs\u001b[0;34m(args, trace_spec, g, mapping_labels, sizeref)\u001b[0m\n\u001b[1;32m    360\u001b[0m         \u001b[0mgo\u001b[0m\u001b[0;34m.\u001b[0m\u001b[0mParcats\u001b[0m\u001b[0;34m,\u001b[0m\u001b[0;34m\u001b[0m\u001b[0;34m\u001b[0m\u001b[0m\n\u001b[1;32m    361\u001b[0m     ]:\n\u001b[0;32m--> 362\u001b[0;31m         \u001b[0mhover_lines\u001b[0m \u001b[0;34m=\u001b[0m \u001b[0;34m[\u001b[0m\u001b[0mk\u001b[0m \u001b[0;34m+\u001b[0m \u001b[0;34m\"=\"\u001b[0m \u001b[0;34m+\u001b[0m \u001b[0mv\u001b[0m \u001b[0;32mfor\u001b[0m \u001b[0mk\u001b[0m\u001b[0;34m,\u001b[0m \u001b[0mv\u001b[0m \u001b[0;32min\u001b[0m \u001b[0mmapping_labels\u001b[0m\u001b[0;34m.\u001b[0m\u001b[0mitems\u001b[0m\u001b[0;34m(\u001b[0m\u001b[0;34m)\u001b[0m\u001b[0;34m]\u001b[0m\u001b[0;34m\u001b[0m\u001b[0;34m\u001b[0m\u001b[0m\n\u001b[0m\u001b[1;32m    363\u001b[0m         \u001b[0mresult\u001b[0m\u001b[0;34m[\u001b[0m\u001b[0;34m\"hovertemplate\"\u001b[0m\u001b[0;34m]\u001b[0m \u001b[0;34m=\u001b[0m \u001b[0mhover_header\u001b[0m \u001b[0;34m+\u001b[0m \u001b[0;34m\"<br>\"\u001b[0m\u001b[0;34m.\u001b[0m\u001b[0mjoin\u001b[0m\u001b[0;34m(\u001b[0m\u001b[0mhover_lines\u001b[0m\u001b[0;34m)\u001b[0m\u001b[0;34m\u001b[0m\u001b[0;34m\u001b[0m\u001b[0m\n\u001b[1;32m    364\u001b[0m     \u001b[0;32mreturn\u001b[0m \u001b[0mresult\u001b[0m\u001b[0;34m,\u001b[0m \u001b[0mfit_results\u001b[0m\u001b[0;34m\u001b[0m\u001b[0;34m\u001b[0m\u001b[0m\n",
      "\u001b[0;32m/usr/local/lib/python3.7/dist-packages/plotly/express/_core.py\u001b[0m in \u001b[0;36m<listcomp>\u001b[0;34m(.0)\u001b[0m\n\u001b[1;32m    360\u001b[0m         \u001b[0mgo\u001b[0m\u001b[0;34m.\u001b[0m\u001b[0mParcats\u001b[0m\u001b[0;34m,\u001b[0m\u001b[0;34m\u001b[0m\u001b[0;34m\u001b[0m\u001b[0m\n\u001b[1;32m    361\u001b[0m     ]:\n\u001b[0;32m--> 362\u001b[0;31m         \u001b[0mhover_lines\u001b[0m \u001b[0;34m=\u001b[0m \u001b[0;34m[\u001b[0m\u001b[0mk\u001b[0m \u001b[0;34m+\u001b[0m \u001b[0;34m\"=\"\u001b[0m \u001b[0;34m+\u001b[0m \u001b[0mv\u001b[0m \u001b[0;32mfor\u001b[0m \u001b[0mk\u001b[0m\u001b[0;34m,\u001b[0m \u001b[0mv\u001b[0m \u001b[0;32min\u001b[0m \u001b[0mmapping_labels\u001b[0m\u001b[0;34m.\u001b[0m\u001b[0mitems\u001b[0m\u001b[0;34m(\u001b[0m\u001b[0;34m)\u001b[0m\u001b[0;34m]\u001b[0m\u001b[0;34m\u001b[0m\u001b[0;34m\u001b[0m\u001b[0m\n\u001b[0m\u001b[1;32m    363\u001b[0m         \u001b[0mresult\u001b[0m\u001b[0;34m[\u001b[0m\u001b[0;34m\"hovertemplate\"\u001b[0m\u001b[0;34m]\u001b[0m \u001b[0;34m=\u001b[0m \u001b[0mhover_header\u001b[0m \u001b[0;34m+\u001b[0m \u001b[0;34m\"<br>\"\u001b[0m\u001b[0;34m.\u001b[0m\u001b[0mjoin\u001b[0m\u001b[0;34m(\u001b[0m\u001b[0mhover_lines\u001b[0m\u001b[0;34m)\u001b[0m\u001b[0;34m\u001b[0m\u001b[0;34m\u001b[0m\u001b[0m\n\u001b[1;32m    364\u001b[0m     \u001b[0;32mreturn\u001b[0m \u001b[0mresult\u001b[0m\u001b[0;34m,\u001b[0m \u001b[0mfit_results\u001b[0m\u001b[0;34m\u001b[0m\u001b[0;34m\u001b[0m\u001b[0m\n",
      "\u001b[0;31mTypeError\u001b[0m: unsupported operand type(s) for +: 'NoneType' and 'str'"
     ]
    }
   ],
   "source": [
    "titles = []\n",
    "for title in filtered_articles['Title']:\n",
    "    titles.append(len(title))\n",
    "px.histogram(titles, color=filtered_articles['Category'])"
   ]
  },
  {
   "cell_type": "markdown",
   "metadata": {
    "id": "-jMQCPPZCOhk"
   },
   "source": [
    "### Category distribution"
   ]
  },
  {
   "cell_type": "code",
   "execution_count": null,
   "metadata": {
    "id": "yhT2ufoTCQlC"
   },
   "outputs": [],
   "source": [
    "c = filtered_articles[['Category','SubCategory']].value_counts()"
   ]
  },
  {
   "cell_type": "code",
   "execution_count": null,
   "metadata": {
    "id": "OlfzgkRWCRk5"
   },
   "outputs": [],
   "source": [
    "index=[]\n",
    "for i in c.index:\n",
    "    index.append(np.array(i))\n",
    "index=np.array(index)"
   ]
  },
  {
   "cell_type": "code",
   "execution_count": null,
   "metadata": {
    "id": "n-vqEp38CSsc"
   },
   "outputs": [],
   "source": [
    "df=pd.DataFrame(columns=['Category','Sub Category','Values'])\n",
    "df['Category']=index[:,0]\n",
    "df['Sub Category']=index[:,1]\n",
    "df['Values']=c.values"
   ]
  },
  {
   "cell_type": "code",
   "execution_count": null,
   "metadata": {
    "id": "OT1_UIm6CUeC"
   },
   "outputs": [],
   "source": [
    "px.bar(data_frame=df,x='Category',y='Values',color='Sub Category')"
   ]
  },
  {
   "cell_type": "markdown",
   "metadata": {
    "id": "WqNQJFoCzUmb"
   },
   "source": [
    "## Text Preprocessing"
   ]
  },
  {
   "cell_type": "code",
   "execution_count": null,
   "metadata": {
    "id": "5YjD7LzYzRxa"
   },
   "outputs": [],
   "source": [
    "# This function is to remove stopwords from a particular column and to tokenize it\n",
    "def rem_stopwords_tokenize(data,name):\n",
    "      \n",
    "    def getting(sen):\n",
    "        example_sent = sen\n",
    "\n",
    "        stop_words = set(stopwords.words('english')) \n",
    "\n",
    "        word_tokens = word_tokenize(example_sent) \n",
    "\n",
    "        filtered_sentence = [w for w in word_tokens if not w in stop_words] \n",
    "\n",
    "        filtered_sentence = [] \n",
    "\n",
    "        for w in word_tokens: \n",
    "            if w not in stop_words: \n",
    "                filtered_sentence.append(w) \n",
    "        return filtered_sentence\n",
    "    x=[]\n",
    "    for i in data[name].values:\n",
    "        x.append(getting(i))\n",
    "    data[name]=x"
   ]
  },
  {
   "cell_type": "code",
   "execution_count": null,
   "metadata": {
    "id": "TWwNAYkbzYT1"
   },
   "outputs": [],
   "source": [
    "# Making a function to lemmatize all the words\n",
    "lemmatizer = WordNetLemmatizer() \n",
    "def lemmatize_all(data,name):\n",
    "    arr = data[name]\n",
    "    a = []\n",
    "    for i in arr:\n",
    "        b = []\n",
    "        for j in i:\n",
    "            x = lemmatizer.lemmatize(j,pos='a')\n",
    "            x = lemmatizer.lemmatize(x)\n",
    "            b.append(x)\n",
    "        a.append(b)\n",
    "    data[name] = a"
   ]
  },
  {
   "cell_type": "code",
   "execution_count": null,
   "metadata": {
    "id": "apywUaSZ6vEw"
   },
   "outputs": [],
   "source": [
    "def convert_to_string(data, name):\n",
    "    t = data[name].values\n",
    "    p = []\n",
    "    for i in t:\n",
    "        listToStr = ' '.join(map(str, i))\n",
    "        p.append(listToStr)\n",
    "    data[name] = p"
   ]
  },
  {
   "cell_type": "code",
   "execution_count": null,
   "metadata": {
    "id": "HCU8Vat2zYF9"
   },
   "outputs": [],
   "source": [
    "# Removing Stop words from Title Column\n",
    "rem_stopwords_tokenize(filtered_articles, 'Title')\n",
    "\n",
    "# Lemmatizing the Title column\n",
    "lemmatize_all(filtered_articles, 'Title')\n",
    "\n",
    "# Back to string\n",
    "convert_to_string(filtered_articles, 'Title')"
   ]
  },
  {
   "cell_type": "code",
   "execution_count": null,
   "metadata": {
    "id": "5Z9cfs36z5Y5"
   },
   "outputs": [],
   "source": [
    "# Removing Stop words from Abstract Column\n",
    "rem_stopwords_tokenize(filtered_articles, 'Abstract')\n",
    "\n",
    "# Lemmatizing the Abstract column\n",
    "lemmatize_all(filtered_articles, 'Abstract')\n",
    "\n",
    "# Back to string\n",
    "convert_to_string(filtered_articles, 'Abstract')"
   ]
  },
  {
   "cell_type": "markdown",
   "metadata": {
    "id": "HdiyC5WkibEZ"
   },
   "source": [
    "## Split into train and test data sets"
   ]
  },
  {
   "cell_type": "code",
   "execution_count": null,
   "metadata": {
    "id": "Gl7U76Y3tU4V"
   },
   "outputs": [],
   "source": [
    "filtered_behaviors.set_index('UserID')\n",
    "filtered_behaviors['All_History'] = filtered_behaviors.groupby(['UserID']).History.transform(lambda x: ' '.join(x)).transform(lambda x: list(set(x.split())))"
   ]
  },
  {
   "cell_type": "code",
   "execution_count": null,
   "metadata": {
    "id": "PCoBD0vAtC0f"
   },
   "outputs": [],
   "source": [
    "all_history = filtered_behaviors.drop_duplicates(subset=['UserID'])\n",
    "all_history = all_history.filter(['UserID', 'All_History'])\n",
    "all_history = all_history.set_index('UserID')\n",
    "all_history"
   ]
  },
  {
   "cell_type": "code",
   "execution_count": null,
   "metadata": {
    "id": "9QrydRahiaqI"
   },
   "outputs": [],
   "source": [
    "expanded_behaviors = all_history.explode('All_History').reset_index() \n",
    "expanded_behaviors.rename(columns={'All_History': 'NewsID'}, inplace=True)"
   ]
  },
  {
   "cell_type": "code",
   "execution_count": null,
   "metadata": {
    "id": "_XFDdG6HQoU_"
   },
   "outputs": [],
   "source": [
    "behaviours_train_df, behaviours_test_df = train_test_split(expanded_behaviors,\n",
    "                                   stratify=expanded_behaviors['UserID'], \n",
    "                                   test_size=0.20,\n",
    "                                   random_state=42)\n",
    "\n",
    "print('# interactions on Train set: %d' % len(behaviours_train_df))\n",
    "print('# interactions on Test set: %d' % len(behaviours_test_df))"
   ]
  },
  {
   "cell_type": "code",
   "execution_count": null,
   "metadata": {
    "id": "0e0W8qrBQeWS"
   },
   "outputs": [],
   "source": [
    "# Indexing by UserID to speed up the searches during evaluation\n",
    "behaviours_full_indexed_df = expanded_behaviors.set_index('UserID')\n",
    "behaviours_train_indexed_df = behaviours_train_df.set_index('UserID')\n",
    "behaviours_test_indexed_df = behaviours_test_df.set_index('UserID')"
   ]
  },
  {
   "cell_type": "code",
   "execution_count": null,
   "metadata": {
    "id": "VCxa_BlB4OCN"
   },
   "outputs": [],
   "source": [
    "# group by userID back to aggregated values\n",
    "history_train_indexed_df = behaviours_train_indexed_df.groupby(['UserID'])['NewsID'].apply(list).reset_index().set_index('UserID')\n",
    "history_train_indexed_df.rename(columns={'NewsID': 'All_History'}, inplace=True)\n",
    "\n",
    "history_test_indexed_df = behaviours_test_indexed_df.groupby(['UserID'])['NewsID'].apply(list).reset_index().set_index('UserID')\n",
    "history_test_indexed_df.rename(columns={'NewsID': 'All_History'}, inplace=True)"
   ]
  },
  {
   "cell_type": "code",
   "execution_count": null,
   "metadata": {
    "id": "IQDiGsKb9gqb"
   },
   "outputs": [],
   "source": [
    "history_train_indexed_df.index.values"
   ]
  },
  {
   "cell_type": "code",
   "execution_count": null,
   "metadata": {
    "id": "YOHulcaZ8c_d"
   },
   "outputs": [],
   "source": [
    "# implement filtering\n",
    "history_test_indexed_df = history_test_indexed_df[history_test_indexed_df.index.isin(history_train_indexed_df.index.values.tolist())]\n",
    "behaviours_test_indexed_df = behaviours_test_indexed_df[behaviours_test_indexed_df.index.isin(history_train_indexed_df.index.values.tolist())]"
   ]
  },
  {
   "cell_type": "code",
   "execution_count": null,
   "metadata": {
    "id": "7v0avPvftzzk"
   },
   "outputs": [],
   "source": [
    "print('Full size: ', behaviours_full_indexed_df.size)\n",
    "print('Train size: ', behaviours_train_indexed_df.size)\n",
    "print('Test size: ', behaviours_test_indexed_df.size)"
   ]
  },
  {
   "cell_type": "markdown",
   "metadata": {
    "id": "8chjsjJ-5hsH"
   },
   "source": [
    "## Content-Based Filtering model"
   ]
  },
  {
   "cell_type": "markdown",
   "metadata": {
    "id": "MErf3RMytcqV"
   },
   "source": [
    "Create a vectorizer on behaviours train dataset"
   ]
  },
  {
   "cell_type": "code",
   "execution_count": null,
   "metadata": {
    "id": "ka6rrBXLyrZI"
   },
   "outputs": [],
   "source": [
    "# Ignoring stopwords (words with no semantics) from English\n",
    "stopwords_list = stopwords.words('english')\n",
    "\n",
    "# Trains a model whose vectors size is 5000, composed by the main unigrams and bigrams found in the corpus, ignoring stopwords\n",
    "vectorizer = TfidfVectorizer(analyzer='word',\n",
    "                     ngram_range=(1, 2),\n",
    "                     min_df=0.003,\n",
    "                     max_df=0.5,\n",
    "                     max_features=5000,\n",
    "                     stop_words=stopwords_list)\n",
    "\n",
    "item_ids = filtered_articles['NewsID'].tolist()\n",
    "tfidf_matrix = vectorizer.fit_transform(filtered_articles['Title'] + \"\" + filtered_articles['Abstract'])\n",
    "tfidf_feature_names = vectorizer.get_feature_names()\n",
    "tfidf_matrix\n"
   ]
  },
  {
   "cell_type": "code",
   "execution_count": null,
   "metadata": {
    "id": "jJf9qaYb6i-B"
   },
   "outputs": [],
   "source": [
    "def get_item_profile(item_id):\n",
    "    # get a single item feature list by ID\n",
    "    try:\n",
    "        idx = item_ids.index(item_id)\n",
    "    except:\n",
    "        return None\n",
    "    item_profile = tfidf_matrix[idx:idx+1]\n",
    "    return item_profile\n",
    "\n",
    "def get_item_profiles(ids):\n",
    "    # get item vector given all item IDs that user clicked\n",
    "    item_profiles_list = [get_item_profile(x) for x in ids if x]\n",
    "    item_profiles = scipy.sparse.vstack(item_profiles_list)\n",
    "    return item_profiles\n",
    "\n",
    "def build_users_profile(person_id, interactions_df):\n",
    "    # build feature vector for a single user\n",
    "\n",
    "    # aggregate all news a user has clicked\n",
    "    interactions_person_df = interactions_df.loc[person_id]\n",
    "    user_item_profiles = get_item_profiles(interactions_person_df['All_History'])\n",
    "\n",
    "    # print(\"user_item_profiles\", user_item_profiles)\n",
    "    if user_item_profiles.shape[1] == 0:\n",
    "      return None\n",
    "    user_item_strengths = np.array([1] * user_item_profiles.shape[1])\n",
    "    # Weighted average of item profiles by the interactions strength\n",
    "    user_item_strengths_weighted_avg = np.sum(user_item_profiles.multiply(user_item_strengths), axis=0) / np.sum(user_item_strengths)\n",
    "    user_profile_norm = sklearn.preprocessing.normalize(user_item_strengths_weighted_avg)\n",
    "    return user_profile_norm\n",
    "\n",
    "\n",
    "def build_users_profiles(): \n",
    "    # build a global martix of features for all users on TRAIN data set\n",
    "\n",
    "    user_profiles = {}\n",
    "    for person_id in history_train_indexed_df.index.unique():\n",
    "        user_profile = build_users_profile(person_id, history_train_indexed_df)\n",
    "        if user_profile is not None:\n",
    "            user_profiles[person_id] = user_profile\n",
    "        else:\n",
    "            print(f\"No data for user {person_id}\")\n",
    "    return user_profiles\n"
   ]
  },
  {
   "cell_type": "code",
   "execution_count": null,
   "metadata": {
    "id": "1ngKHblB3qGZ"
   },
   "outputs": [],
   "source": []
  },
  {
   "cell_type": "code",
   "execution_count": null,
   "metadata": {
    "id": "2os6GRxp710q"
   },
   "outputs": [],
   "source": [
    "user_profiles = build_users_profiles()"
   ]
  },
  {
   "cell_type": "code",
   "execution_count": null,
   "metadata": {
    "id": "8pbDCmaH_rRY"
   },
   "outputs": [],
   "source": [
    "len(user_profiles)"
   ]
  },
  {
   "cell_type": "code",
   "execution_count": null,
   "metadata": {
    "id": "fjolSn4iQPya"
   },
   "outputs": [],
   "source": [
    "my_user_id = 'U13740'\n",
    "\n",
    "myprofile = user_profiles[my_user_id]\n",
    "print(myprofile.shape)\n",
    "pd.DataFrame(sorted(zip(tfidf_feature_names, \n",
    "                        user_profiles[my_user_id].flatten().tolist()), key=lambda x: -x[1])[:20],\n",
    "             columns=['token', 'relevance'])"
   ]
  },
  {
   "cell_type": "code",
   "execution_count": null,
   "metadata": {
    "id": "MBPFBNQQQ9bq"
   },
   "outputs": [],
   "source": [
    "class ContentBasedRecommender:\n",
    "    MODEL_NAME = 'Content-Based'\n",
    "    \n",
    "    def __init__(self, items_df=None):\n",
    "        self.item_ids = item_ids\n",
    "        self.items_df = items_df\n",
    "        \n",
    "    def get_model_name(self):\n",
    "        return self.MODEL_NAME\n",
    "        \n",
    "    def _get_similar_items_to_user_profile(self, person_id, topn=1000):\n",
    "        # Computes the cosine similarity between the user profile and all item profiles\n",
    "        cosine_similarities = cosine_similarity(user_profiles[person_id], tfidf_matrix)\n",
    "        # Gets the top similar items\n",
    "        similar_indices = cosine_similarities.argsort().flatten()[-topn:]\n",
    "        # Sort the similar items by similarity\n",
    "        similar_items = sorted([(item_ids[i], cosine_similarities[0,i]) for i in similar_indices], key=lambda x: -x[1])\n",
    "        return similar_items\n",
    "        \n",
    "    def recommend_items(self, user_id, items_to_ignore=[], topn=10, ignore_interacted=True, verbose=False):\n",
    "        similar_items = self._get_similar_items_to_user_profile(user_id, topn)\n",
    "        # Ignores items the user has already interacted\n",
    "        if ignore_interacted:\n",
    "            similar_items = list(filter(lambda x: x[0] not in items_to_ignore, similar_items))\n",
    "        \n",
    "        recommendations_df = pd.DataFrame(similar_items, columns=['NewsID', 'recStrength']) \\\n",
    "                                    .head(topn)\n",
    "\n",
    "        if verbose:\n",
    "            if self.items_df is None:\n",
    "                raise Exception('\"items_df\" is required in verbose mode')\n",
    "\n",
    "            recommendations_df = recommendations_df.merge(self.items_df, how = 'left', \n",
    "                                                          left_on = 'contentId', \n",
    "                                                          right_on = 'contentId')[['recStrength', 'contentId', 'title', 'url', 'lang']]\n",
    "\n",
    "\n",
    "        return recommendations_df\n",
    "    \n",
    "content_based_recommender_model = ContentBasedRecommender(articles_df)"
   ]
  },
  {
   "cell_type": "markdown",
   "metadata": {
    "id": "HXEXoTXMZsff"
   },
   "source": [
    "### Recommendations for a single user"
   ]
  },
  {
   "cell_type": "code",
   "execution_count": null,
   "metadata": {
    "id": "Q06aXgo5Tple"
   },
   "outputs": [],
   "source": [
    "recs = content_based_recommender_model.recommend_items(my_user_id)\n",
    "recs.set_index('NewsID')\n",
    "pd.merge(recs, filtered_articles)"
   ]
  },
  {
   "cell_type": "markdown",
   "metadata": {
    "id": "noVOdKnwQUfL"
   },
   "source": [
    "## Evaluation Class"
   ]
  },
  {
   "cell_type": "code",
   "execution_count": null,
   "metadata": {
    "id": "aRev-YH9kGRX"
   },
   "outputs": [],
   "source": [
    "def get_items_interacted(person_id, interactions_df):\n",
    "    # Get the user's data and merge in the news information.\n",
    "    interacted_items = interactions_df.loc[person_id]['NewsID']\n",
    "    return set(interacted_items if type(interacted_items) == pd.Series else [interacted_items])"
   ]
  },
  {
   "cell_type": "code",
   "execution_count": null,
   "metadata": {
    "id": "JPBMK82zq1X4"
   },
   "outputs": [],
   "source": [
    "filtered_articles.shape"
   ]
  },
  {
   "cell_type": "code",
   "execution_count": null,
   "metadata": {
    "id": "vlWB2mubmjiY"
   },
   "outputs": [],
   "source": [
    "# Top-N accuracy metrics consts\n",
    "EVAL_RANDOM_SAMPLE_NON_INTERACTED_ITEMS = 100\n",
    "\n",
    "class ModelEvaluator:\n",
    "    def get_not_interacted_items_sample(self, person_id, sample_size, seed=42):\n",
    "        interacted_items = get_items_interacted(person_id, behaviours_full_indexed_df)\n",
    "        all_items = set(filtered_articles['NewsID'])\n",
    "        non_interacted_items = all_items - interacted_items\n",
    "\n",
    "        random.seed(seed)\n",
    "        non_interacted_items_sample = random.sample(non_interacted_items, sample_size)\n",
    "        return set(non_interacted_items_sample)\n",
    "\n",
    "    def _verify_hit_top_n(self, item_id, recommended_items, topn):      \n",
    "        try:\n",
    "            index = next(i for i, c in enumerate(recommended_items) if c == item_id)\n",
    "        except Exception as e:\n",
    "            index = -1\n",
    "        hit = int(index in range(0, topn))\n",
    "        return hit, index\n",
    "\n",
    "    def evaluate_model_for_user(self, model, person_id):\n",
    "        # Getting the items in test set\n",
    "        interacted_values_testset = behaviours_test_indexed_df.loc[person_id]\n",
    "        if type(interacted_values_testset['NewsID']) == pd.Series:\n",
    "            person_interacted_items_testset = set(interacted_values_testset['NewsID'])\n",
    "        else:\n",
    "            person_interacted_items_testset = set([interacted_values_testset['NewsID']])  \n",
    "        interacted_items_count_testset = len(person_interacted_items_testset) \n",
    "\n",
    "        # Getting a ranked recommendation list from a model for a given user\n",
    "        person_recs_df = model.recommend_items(\n",
    "            person_id, \n",
    "            items_to_ignore=get_items_interacted(person_id, behaviours_train_indexed_df), \n",
    "            topn=10000000000, ignore_interacted=False)\n",
    "        \n",
    "        hits_at_5_count = 0\n",
    "        hits_at_10_count = 0\n",
    "        # For each item the user has interacted in test set\n",
    "        for item_id in person_interacted_items_testset:\n",
    "            # Getting a random sample (100) items the user has not interacted \n",
    "            # (to represent items that are assumed to be no relevant to the user)\n",
    "            non_interacted_items_sample = self.get_not_interacted_items_sample(person_id, \n",
    "                                                                          sample_size=EVAL_RANDOM_SAMPLE_NON_INTERACTED_ITEMS, \n",
    "                                                                          seed=random.randint(0, 2**32))\n",
    "\n",
    "            # Combining the current interacted item with the 100 random items\n",
    "            items_to_filter_recs = non_interacted_items_sample.union(set([item_id]))\n",
    "\n",
    "            # Filtering only recommendations that are either the interacted item or from a random sample of 100 non-interacted items\n",
    "            valid_recs_df = person_recs_df[person_recs_df['NewsID'].isin(items_to_filter_recs)]                    \n",
    "            valid_recs = valid_recs_df['NewsID'].values\n",
    "            # Verifying if the current interacted item is among the Top-N recommended items\n",
    "            hit_at_5, index_at_5 = self._verify_hit_top_n(item_id, valid_recs, 5)\n",
    "            hits_at_5_count += hit_at_5\n",
    "            hit_at_10, index_at_10 = self._verify_hit_top_n(item_id, valid_recs, 10)\n",
    "            hits_at_10_count += hit_at_10\n",
    "\n",
    "        # Recall is the rate of the interacted items that are ranked among the Top-N recommended items, \n",
    "        # when mixed with a set of non-relevant items\n",
    "        recall_at_5 = hits_at_5_count / float(interacted_items_count_testset)\n",
    "        recall_at_10 = hits_at_10_count / float(interacted_items_count_testset)\n",
    "\n",
    "        person_metrics = {'hits@5_count': hits_at_5_count, \n",
    "                          'hits@10_count': hits_at_10_count, \n",
    "                          'interacted_count': interacted_items_count_testset,\n",
    "                          'recall@5': recall_at_5,\n",
    "                          'recall@10': recall_at_10}\n",
    "        return person_metrics\n",
    "\n",
    "    def evaluate_model(self, model):\n",
    "        print('Running evaluation for users')\n",
    "        people_metrics = []\n",
    "        for idx, person_id in enumerate(list(behaviours_test_indexed_df.index.unique().values)):\n",
    "            if idx % 100 == 0 and idx > 0:\n",
    "               print('%d users processed' % idx)\n",
    "            person_metrics = self.evaluate_model_for_user(model, person_id)  \n",
    "            person_metrics['_person_id'] = person_id\n",
    "            people_metrics.append(person_metrics)\n",
    "        print('%d users processed' % idx)\n",
    "\n",
    "        detailed_results_df = pd.DataFrame(people_metrics) \\\n",
    "                            .sort_values('interacted_count', ascending=False)\n",
    "        \n",
    "        global_recall_at_5 = detailed_results_df['hits@5_count'].sum() / float(detailed_results_df['interacted_count'].sum())\n",
    "        global_recall_at_10 = detailed_results_df['hits@10_count'].sum() / float(detailed_results_df['interacted_count'].sum())\n",
    "        \n",
    "        global_metrics = {'modelName': model.get_model_name(),\n",
    "                          'recall@5': global_recall_at_5,\n",
    "                          'recall@10': global_recall_at_10}    \n",
    "        return global_metrics, detailed_results_df\n",
    "    \n",
    "model_evaluator = ModelEvaluator()    "
   ]
  },
  {
   "cell_type": "markdown",
   "metadata": {
    "id": "UbwpK5txaDNE"
   },
   "source": [
    "Reduce the test data set to 3000 elements to reduce computation time"
   ]
  },
  {
   "cell_type": "code",
   "execution_count": null,
   "metadata": {
    "id": "F_RU3OWnLIM1"
   },
   "outputs": [],
   "source": [
    "behaviours_test_indexed_df_full = behaviours_test_indexed_df.copy()\n",
    "behaviours_test_indexed_df = behaviours_test_indexed_df[:3000]"
   ]
  },
  {
   "cell_type": "code",
   "execution_count": null,
   "metadata": {
    "id": "UbnyzNllLNwq"
   },
   "outputs": [],
   "source": [
    "len(set(behaviours_test_indexed_df.index.values.tolist()))\n",
    "behaviours_test_indexed_df.shape"
   ]
  },
  {
   "cell_type": "code",
   "execution_count": null,
   "metadata": {
    "id": "BnsLnL_eQIaZ"
   },
   "outputs": [],
   "source": [
    "print('Evaluating Content-Based Filtering model...')\n",
    "cb_global_metrics, cb_detailed_results_df = model_evaluator.evaluate_model(content_based_recommender_model)"
   ]
  },
  {
   "cell_type": "code",
   "execution_count": null,
   "metadata": {
    "id": "otKqK4ay15ZV"
   },
   "outputs": [],
   "source": [
    "print('\\nGlobal metrics:\\n%s' % cb_global_metrics)\n",
    "cb_detailed_results_df.sort_values('recall@10', ascending=False).head(20)"
   ]
  },
  {
   "cell_type": "code",
   "execution_count": null,
   "metadata": {
    "id": "CHd5GywOafd3"
   },
   "outputs": [],
   "source": []
  },
  {
   "cell_type": "markdown",
   "metadata": {
    "id": "RPoWj82kYlC3"
   },
   "source": [
    "# Collaborative Filtering\n",
    "\n",
    "We need to take all of the news articles available to us and the train behaviours dataset.\n",
    "\n",
    "Since CF is taking quite a lot of memory, we will start by using 100 users and all articles."
   ]
  },
  {
   "cell_type": "code",
   "execution_count": null,
   "metadata": {
    "id": "eu2QztdkcVbb"
   },
   "outputs": [],
   "source": [
    "LIMIT = 100\n",
    "limited_users = history_train_indexed_df.index[:100]\n",
    "\n",
    "ratings_df = pd.DataFrame(data=0, columns=filtered_articles.NewsID, index=limited_users)\n",
    "\n",
    "for i in range(LIMIT):\n",
    "    user_history = history_train_indexed_df.iloc[i].tolist()[0]\n",
    "    for news_id in user_history:\n",
    "        ratings_df.iloc[i][news_id] = 1"
   ]
  },
  {
   "cell_type": "code",
   "execution_count": null,
   "metadata": {
    "id": "ogEaReTvcb2e"
   },
   "outputs": [],
   "source": [
    "ratings_df"
   ]
  },
  {
   "cell_type": "code",
   "execution_count": null,
   "metadata": {
    "id": "0gHxSLOfd6lP"
   },
   "outputs": [],
   "source": [
    "from sklearn.neighbors import NearestNeighbors\n",
    "\n",
    "knn = NearestNeighbors(metric='cosine', algorithm='brute')\n",
    "knn.fit(ratings_df.values)\n",
    "distances, indices = knn.kneighbors(ratings_df.values, n_neighbors=10)"
   ]
  },
  {
   "cell_type": "code",
   "execution_count": null,
   "metadata": {
    "id": "NtmvNG5olLYe"
   },
   "outputs": [],
   "source": [
    "# get the index for user\n",
    "index_for_user = ratings_df.index.tolist().index('U100')\n",
    "\n",
    "# find the indices for the similar users\n",
    "sim_users = indices[index_for_user].tolist()\n",
    "\n",
    "# distances between user and the similar users\n",
    "user_distances = distances[index_for_user].tolist()\n",
    "\n",
    "# the position of user in the list sim_users\n",
    "id_user = sim_users.index(index_for_user)\n",
    "\n",
    "# remove user from the list sim_users\n",
    "sim_users.remove(index_for_user)\n",
    "\n",
    "# remove user from the list user_distances\n",
    "user_distances.pop(id_user)\n",
    "\n",
    "print('The Nearest Users to U100:', sim_users)\n",
    "print('The Distance from U100:', user_distances)"
   ]
  },
  {
   "cell_type": "code",
   "execution_count": null,
   "metadata": {
    "id": "aNDAAPQOqNJj"
   },
   "outputs": [],
   "source": [
    "len(filtered_articles.NewsID)"
   ]
  },
  {
   "cell_type": "code",
   "execution_count": null,
   "metadata": {
    "id": "m0x_uKd_tYzo"
   },
   "outputs": [],
   "source": [
    "def augment_rating_df(ratings):\n",
    "    augmented_ratings = ratings.copy()\n",
    "\n",
    "    # find the nearest neighbors using NearestNeighbors(n_neighbors=10)\n",
    "    number_neighbors = 10\n",
    "    knn = NearestNeighbors(metric='cosine', algorithm='brute')\n",
    "    knn.fit(ratings.values)\n",
    "    distances, indices = knn.kneighbors(ratings.values, n_neighbors=number_neighbors)\n",
    "\n",
    "    for news_id in filtered_articles.NewsID[:1000]:\n",
    "        news_index = filtered_articles.NewsID.tolist().index(news_id)\n",
    "\n",
    "        for user_loc, user_id in list(enumerate(ratings.index)):\n",
    "            # find news without ratings by user\n",
    "            if ratings.iloc[user_loc, news_index] == 0:\n",
    "                sim_users = indices[user_loc].tolist()\n",
    "                users_distances = distances[user_loc].tolist()\n",
    "                \n",
    "                # Generally, this is the case. The user itself is in the first place.\n",
    "                if user_id in sim_users:\n",
    "                    user_idx = sim_users.index(user_id)\n",
    "                    sim_users.remove(user_id)\n",
    "                    users_distances.pop(user_idx) \n",
    "\n",
    "                # However, sometimes even the movie itself cannot be included in the indices.\n",
    "                # In that case, we take off the farthest movie in the list.\n",
    "                else:\n",
    "                    sim_users = sim_users[:number_neighbors - 1]\n",
    "                    users_distances = users_distances[:number_neighbors - 1]\n",
    "                    \n",
    "                # user_similarity = 1 - users_distances\n",
    "                user_similarity = [1 - x for x in users_distances]\n",
    "                user_similarity_copy = user_similarity.copy()\n",
    "                nominator = 0\n",
    "\n",
    "                # for each similar user\n",
    "                for i in range(len(sim_users)):\n",
    "                    # check if the rating of a similar news is zero\n",
    "                    if ratings.iloc[sim_users[i], news_index] == 0:\n",
    "                        # if the rating is zero, ignore the rating and the similarity in calculating the predicted rating\n",
    "                        if len(user_similarity_copy) == (number_neighbors - 1):\n",
    "                            user_similarity_copy.pop(i)\n",
    "                        else:\n",
    "                            user_similarity_copy.pop(i - (len(user_similarity) - len(user_similarity_copy)))\n",
    "\n",
    "                    # if the rating is not zero, use the rating and similarity in the calculation\n",
    "                    else:\n",
    "                        nominator += user_similarity[i] * ratings.iloc[sim_users[i], news_index]\n",
    "\n",
    "                # check if the number of the ratings with non-zero is positive\n",
    "                if len(user_similarity_copy) > 0:\n",
    "                    # check if the sum of the ratings of the similar movies is positive.\n",
    "                    if sum(user_similarity_copy) > 0:\n",
    "                        predicted_r = nominator / sum(user_similarity_copy)\n",
    "\n",
    "                    # Even if there are some news for which the ratings are positive, some movies have zero similarity even though they are selected as similar movies.\n",
    "                    # in this case, the predicted rating becomes zero as well  \n",
    "                    else:\n",
    "                        predicted_r = 0\n",
    "\n",
    "                # if all the ratings of the similar news are zero, then predicted rating should be zero\n",
    "                else:\n",
    "                    predicted_r = 0\n",
    "\n",
    "                # place the predicted rating into the augmented original dataset\n",
    "                augmented_ratings.iloc[user_loc, news_index] = predicted_r\n",
    "    return augmented_ratings\n",
    "            "
   ]
  },
  {
   "cell_type": "code",
   "execution_count": null,
   "metadata": {
    "id": "oy_g8NtjQV7l"
   },
   "outputs": [],
   "source": [
    "augmented_ratings_user_based = augment_rating_df(ratings_df)\n",
    "augmented_ratings_user_based"
   ]
  },
  {
   "cell_type": "code",
   "execution_count": null,
   "metadata": {
    "id": "2nDZ_gK5bkzT"
   },
   "outputs": [],
   "source": [
    "augmented_ratings_item_based = augment_rating_df(ratings_df.T)\n",
    "augmented_ratings_item_based"
   ]
  },
  {
   "cell_type": "code",
   "execution_count": null,
   "metadata": {
    "id": "N_aecCKklP4N"
   },
   "outputs": [],
   "source": [
    "def recommend_news(user, num_recommended_news):\n",
    "    print('The list of the News {} Has Clicked on \\n'.format(user))\n",
    "\n",
    "    for news_id in ratings_df.loc[user, :][ratings_df.loc[user, :] > 0].index.tolist():\n",
    "        print(news_id)\n",
    "    \n",
    "    print('\\n')\n",
    "\n",
    "    recommended_news = []\n",
    "\n",
    "    for news_id in ratings_df.loc[user, :][ratings_df.loc[user, :] == 0].index.tolist():\n",
    "        predicted_rating = augmented_ratings.loc[user, news_id]\n",
    "        recommended_news.append((news_id, predicted_rating))\n",
    "\n",
    "    sorted_rm = sorted(recommended_news, key=lambda x: x[1], reverse=True)\n",
    "    \n",
    "    print('The list of the Recommended News \\n')\n",
    "    rank = 1\n",
    "    for recommended_news in sorted_rm[:num_recommended_news]:\n",
    "        print('{}: {} - predicted rating:{}'.format(rank, recommended_news[0], recommended_news[1]))\n",
    "        rank = rank + 1"
   ]
  },
  {
   "cell_type": "code",
   "execution_count": null,
   "metadata": {
    "id": "pZs9hmmr4hJN"
   },
   "outputs": [],
   "source": [
    "recommend_news('U10003', 10)"
   ]
  },
  {
   "cell_type": "code",
   "execution_count": null,
   "metadata": {
    "id": "xLd0veDD4kf-"
   },
   "outputs": [],
   "source": [
    "# Top-N accuracy metrics consts\n",
    "EVAL_RANDOM_SAMPLE_NON_INTERACTED_ITEMS = 100\n",
    "\n",
    "class ModelEvaluatorCF:\n",
    "    def get_not_interacted_items_sample(self, person_id, sample_size, seed=42):\n",
    "        interacted_items = get_items_interacted(person_id, behaviours_full_indexed_df)\n",
    "        all_items = set(filtered_articles['NewsID'])\n",
    "        non_interacted_items = all_items - interacted_items\n",
    "\n",
    "        random.seed(seed)\n",
    "        non_interacted_items_sample = random.sample(non_interacted_items, sample_size)\n",
    "        return set(non_interacted_items_sample)\n",
    "\n",
    "    def _verify_hit_top_n(self, item_id, recommended_items, topn):      \n",
    "        try:\n",
    "            index = next(i for i, c in enumerate(recommended_items) if c == item_id)\n",
    "        except Exception as e:\n",
    "            index = -1\n",
    "        hit = int(index in range(0, topn))\n",
    "        return hit, index\n",
    "\n",
    "    def evaluate_model_for_user(self, model, person_id):\n",
    "        # Getting the items in test set\n",
    "        interacted_values_testset = behaviours_test_indexed_df.loc[person_id]\n",
    "        if type(interacted_values_testset['NewsID']) == pd.Series:\n",
    "            person_interacted_items_testset = set(interacted_values_testset['NewsID'])\n",
    "        else:\n",
    "            person_interacted_items_testset = set([interacted_values_testset['NewsID']])  \n",
    "        interacted_items_count_testset = len(person_interacted_items_testset) \n",
    "\n",
    "        # Getting a ranked recommendation list from a model for a given user\n",
    "        person_recs_df = model.recommend_items(\n",
    "            person_id, \n",
    "            items_to_ignore=get_items_interacted(person_id, behaviours_train_indexed_df), \n",
    "            topn=10000000000, ignore_interacted=False)\n",
    "        \n",
    "        hits_at_5_count = 0\n",
    "        hits_at_10_count = 0\n",
    "        # For each item the user has interacted in test set\n",
    "        for item_id in person_interacted_items_testset:\n",
    "            # Getting a random sample (100) items the user has not interacted \n",
    "            # (to represent items that are assumed to be no relevant to the user)\n",
    "            non_interacted_items_sample = self.get_not_interacted_items_sample(person_id, \n",
    "                                                                          sample_size=EVAL_RANDOM_SAMPLE_NON_INTERACTED_ITEMS, \n",
    "                                                                          seed=random.randint(0, 2**32))\n",
    "\n",
    "            # Combining the current interacted item with the 100 random items\n",
    "            items_to_filter_recs = non_interacted_items_sample.union(set([item_id]))\n",
    "\n",
    "            # Filtering only recommendations that are either the interacted item or from a random sample of 100 non-interacted items\n",
    "            valid_recs_df = person_recs_df[person_recs_df['NewsID'].isin(items_to_filter_recs)]                    \n",
    "            valid_recs = valid_recs_df['NewsID'].values\n",
    "            # Verifying if the current interacted item is among the Top-N recommended items\n",
    "            hit_at_5, index_at_5 = self._verify_hit_top_n(item_id, valid_recs, 5)\n",
    "            hits_at_5_count += hit_at_5\n",
    "            hit_at_10, index_at_10 = self._verify_hit_top_n(item_id, valid_recs, 10)\n",
    "            hits_at_10_count += hit_at_10\n",
    "\n",
    "        # Recall is the rate of the interacted items that are ranked among the Top-N recommended items, \n",
    "        # when mixed with a set of non-relevant items\n",
    "        recall_at_5 = hits_at_5_count / float(interacted_items_count_testset)\n",
    "        recall_at_10 = hits_at_10_count / float(interacted_items_count_testset)\n",
    "\n",
    "        person_metrics = {'hits@5_count': hits_at_5_count, \n",
    "                          'hits@10_count': hits_at_10_count, \n",
    "                          'interacted_count': interacted_items_count_testset,\n",
    "                          'recall@5': recall_at_5,\n",
    "                          'recall@10': recall_at_10}\n",
    "        return person_metrics\n",
    "\n",
    "    def evaluate_model(self, model):\n",
    "        print('Running evaluation for users')\n",
    "        people_metrics = []\n",
    "        for idx, person_id in enumerate(list(behaviours_test_indexed_df.index.unique().values)):\n",
    "            if idx % 100 == 0 and idx > 0:\n",
    "               print('%d users processed' % idx)\n",
    "            person_metrics = self.evaluate_model_for_user(model, person_id)  \n",
    "            person_metrics['_person_id'] = person_id\n",
    "            people_metrics.append(person_metrics)\n",
    "        print('%d users processed' % idx)\n",
    "\n",
    "        detailed_results_df = pd.DataFrame(people_metrics) \\\n",
    "                            .sort_values('interacted_count', ascending=False)\n",
    "        \n",
    "        global_recall_at_5 = detailed_results_df['hits@5_count'].sum() / float(detailed_results_df['interacted_count'].sum())\n",
    "        global_recall_at_10 = detailed_results_df['hits@10_count'].sum() / float(detailed_results_df['interacted_count'].sum())\n",
    "        \n",
    "        global_metrics = {'modelName': model.get_model_name(),\n",
    "                          'recall@5': global_recall_at_5,\n",
    "                          'recall@10': global_recall_at_10}    \n",
    "        return global_metrics, detailed_results_df\n",
    "    \n",
    "model_evaluator = ModelEvaluator()    "
   ]
  },
  {
   "cell_type": "code",
   "execution_count": null,
   "metadata": {
    "id": "ATIHoScsLjqf"
   },
   "outputs": [],
   "source": []
  }
 ],
 "metadata": {
  "colab": {
   "collapsed_sections": [],
   "name": "News Recommender System Final. Lopushanskyy, Savchuk.ipynb",
   "provenance": []
  },
  "kernelspec": {
   "display_name": "Python 3",
   "language": "python",
   "name": "python3"
  },
  "language_info": {
   "codemirror_mode": {
    "name": "ipython",
    "version": 3
   },
   "file_extension": ".py",
   "mimetype": "text/x-python",
   "name": "python",
   "nbconvert_exporter": "python",
   "pygments_lexer": "ipython3",
   "version": "3.8.8"
  }
 },
 "nbformat": 4,
 "nbformat_minor": 1
}
